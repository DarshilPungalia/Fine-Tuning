{
 "cells": [
  {
   "cell_type": "code",
   "execution_count": null,
   "id": "0",
   "metadata": {
    "id": "84d95532"
   },
   "outputs": [],
   "source": [
    "import pickle\n",
    "from dotenv import load_dotenv\n",
    "import transformers\n",
    "import torch\n",
    "from trl import SFTTrainer\n",
    "from peft import LoraConfig\n",
    "from transformers import AutoTokenizer, AutoModelForCausalLM\n",
    "from transformers import BitsAndBytesConfig, GemmaTokenizer"
   ]
  },
  {
   "cell_type": "code",
   "execution_count": null,
   "id": "1",
   "metadata": {
    "id": "04e753c5"
   },
   "outputs": [],
   "source": [
    "import os\n",
    "from google.colab import userdata\n",
    "\n",
    "os.environ['HF_TOKEN'] = userdata.get('HF_TOKEN')"
   ]
  },
  {
   "cell_type": "code",
   "execution_count": null,
   "id": "2",
   "metadata": {
    "colab": {
     "base_uri": "https://localhost:8080/"
    },
    "id": "497226f8",
    "outputId": "00ae3bd5-11cd-4b5b-90ea-c466b4c39edc"
   },
   "outputs": [],
   "source": [
    "print(torch.cuda.is_available())\n",
    "print(torch.cuda.get_device_name(0))"
   ]
  },
  {
   "cell_type": "code",
   "execution_count": null,
   "id": "3",
   "metadata": {
    "id": "c4b933a0"
   },
   "outputs": [],
   "source": [
    "def loadData(file):\n",
    "    dbfile = open(file, 'rb')\n",
    "    db = pickle.load(dbfile)\n",
    "\n",
    "    return db"
   ]
  },
  {
   "cell_type": "code",
   "execution_count": null,
   "id": "4",
   "metadata": {
    "id": "c856e44b"
   },
   "outputs": [],
   "source": [
    "ins_re_dataset = loadData('InsReBroader.pickle')"
   ]
  },
  {
   "cell_type": "code",
   "execution_count": null,
   "id": "5",
   "metadata": {
    "colab": {
     "base_uri": "https://localhost:8080/"
    },
    "id": "6AsfLoY8AVSt",
    "outputId": "89fb08d5-f282-46f3-be10-7d2c4fc1a5ca"
   },
   "outputs": [],
   "source": [
    "len(ins_re_dataset)"
   ]
  },
  {
   "cell_type": "code",
   "execution_count": null,
   "id": "6",
   "metadata": {
    "colab": {
     "base_uri": "https://localhost:8080/"
    },
    "id": "x2nd5s-PAvat",
    "outputId": "47f62725-18bc-4b82-d3e3-12a15d82b3cb"
   },
   "outputs": [],
   "source": [
    "ins_re_dataset[:10]"
   ]
  },
  {
   "cell_type": "code",
   "execution_count": null,
   "id": "7",
   "metadata": {
    "id": "Z37GYKDKZLRD"
   },
   "outputs": [],
   "source": [
    "for pair in ins_re_dataset:\n",
    "  ins = pair.pop('instruction', None)\n",
    "  re = pair.pop('response', None)\n",
    "  pair['text'] = f\"### Instruction:\\n{ins}\\n\\n### Response:\\n{re}\""
   ]
  },
  {
   "cell_type": "code",
   "execution_count": null,
   "id": "8",
   "metadata": {
    "colab": {
     "base_uri": "https://localhost:8080/"
    },
    "id": "qpflT8RabEFB",
    "outputId": "d0f153fb-86f1-4d1c-ca06-e9b89776adea"
   },
   "outputs": [],
   "source": [
    "ins_re_dataset[:10]"
   ]
  },
  {
   "cell_type": "code",
   "execution_count": null,
   "id": "9",
   "metadata": {
    "id": "UCbw_WZCX92s"
   },
   "outputs": [],
   "source": [
    "from datasets import Dataset\n",
    "\n",
    "train_dataset = Dataset.from_list(ins_re_dataset[:2000])"
   ]
  },
  {
   "cell_type": "code",
   "execution_count": null,
   "id": "10",
   "metadata": {
    "id": "Zm2zP18gTWH4"
   },
   "outputs": [],
   "source": [
    "train_dataset2 = Dataset.from_list(ins_re_dataset[2000:4000])"
   ]
  },
  {
   "cell_type": "code",
   "execution_count": null,
   "id": "11",
   "metadata": {
    "id": "33639be0"
   },
   "outputs": [],
   "source": [
    "model_id = \"google/gemma-2-2b-it\"\n",
    "\n",
    "bnb_config = BitsAndBytesConfig(\n",
    "    load_in_4bit=True,\n",
    "    bnb_4bit_quant_type=\"nf4\",\n",
    "    bnb_4bit_compute_dtype=torch.bfloat16\n",
    ")"
   ]
  },
  {
   "cell_type": "code",
   "execution_count": null,
   "id": "12",
   "metadata": {
    "colab": {
     "base_uri": "https://localhost:8080/",
     "height": 258,
     "referenced_widgets": [
      "3b1cb189e7824516b11ca9868d1abc1e",
      "0f341ff26f224ff3aee07be867406f42",
      "51075302d1df4048a2234e438fe7b21c",
      "52df26436e0945d69f4798c5850165d6",
      "d09c21c9b858401f8ab246500bb60e06",
      "e11b16a6c2f04798878f4654d42ffd88",
      "983cc59c1f96427a86899d16c0b3558b",
      "162bc717915f4708b7e50d1dd6f03ee5",
      "e5813a422e4e44b58b1f5c2d5abc1d23",
      "a0f1a7d3244c4c8c969f43f196bbaa8a",
      "947586d3ffeb464dac47e7bf7d7d72ca",
      "c1acab59ae684607bbe84c1dcfd0c2b8",
      "9e82b304cbdc425290d096112048e26c",
      "e22dd5e9b7ad4767b06d40c25aa2bbaa",
      "89b4932c30ff4b28b34a764e3df5736f",
      "c67368df196a4eea8f4e3bd18c7871f2",
      "b4233987418343c2b258a8ac7d7e1708",
      "28bd8c959d6f4c37b478ab4de1731979",
      "d39e07fd6c584d148bf616eef3e5be9c",
      "e0843d7868544b19af5eaebb61507fce",
      "c93fcc47fc8a4d6eaee58840b756e638",
      "a254059f69ef4f37a60b567b06ca7dc5",
      "af85ffe2b9614b05a824263d62c4a3e0",
      "a4ff1c7d7a0f402bb38278465b97e19e",
      "2fc179c8c2aa4eee812b9be11bcab773",
      "84d328409dad4f878c1d468363f3c5fc",
      "2c6d0faaf17e4fe08a999d9ebc3e7fa9",
      "d6799ec9b0834f0182046d52985e169d",
      "4efb8f3937164b22943295f315f31092",
      "24e02eb94595441cb3c3dbada31e2e23",
      "32b4a83f199243cbac5f16ae2556f04b",
      "ae1a269b88f9437c9dc22b8484300632",
      "33affa21b6cf4677be46eb3d4b92799f",
      "d9597543265f42bfa5b8b095672a94e6",
      "957a7b9b6763405fbcd48acda8ef114a",
      "e4800c75e48940d196e02eee8d5859f5",
      "9ee727b7459f42fc91fccb0e94993ccd",
      "d4640baa4d1b415db74198372e7408e0",
      "91f44d898d4b4885b1991d513abecacc",
      "565cea79acd049a5bf05361541dcbf15",
      "19fad6c7dc824a7b853cca0210c08c39",
      "b6a20174da194aad8909313c16b75f91",
      "1687f009f3c64a568371aa4da2512222",
      "d460566db5de4a73893daeab46c2c642",
      "f3a0dfbd34cc42f4be5463a9669a132a",
      "ce2267a8985040c89417f39e33aa6a49",
      "51f60159532448e9beef5de46a46ccf4",
      "5405004a5784472f8e48c5eb9190f9a0",
      "f8cc5a8d62da44388daba474c7b45c91",
      "1a8bd796e606423a83391c6114fba765",
      "0e4c1835c3f34977bbd93ac46d26cd49",
      "7d2ed4b17e1040caa13eda7d8cea4064",
      "6c244c40d2f54a868768b24171fac607",
      "eb514132695247b8877786c9964a1479",
      "ab409e0cc9a24c548298cb3022e595f0",
      "90511e6619744628a478a54989ac64c8",
      "7caa2e04096048ae8fa880dd7c2325cf",
      "dcb2aa5f8e014257a5fe09a5bd192648",
      "0d4db0fcfbb34a5b88d84e7241aac9b8",
      "5f60385a823c494a8d4829e35eac202d",
      "022d8a8da1ff45f0975a7896db2b412e",
      "b6ac305f8707441b82637ea593819d36",
      "f8bd7db4f178426982b9456e632ea12c",
      "5567e79f6d87446d90c63370826b6cde",
      "a0c53e28d27941c1b20ccc7563847014",
      "927cd389010442db9c91dcc0b0a1ab8e",
      "a1bda25ac1db4601be2118a007cf1a33",
      "86592db0825145749d2e6fdae7a1f719",
      "54c4133e559c4e86ba3f4e45439d1ae9",
      "ddc82aafea2449039b5619500e6b3d0b",
      "5d551939b19f482696c299fb3ae8988b",
      "5a14db1622a84fa3bde3d48002ee20a9",
      "23f8d0519f694527a351c3e54a7d1c7e",
      "b7538fc3ed4f46898343ffbbfd7b0f3f",
      "44424851c811454e81f35991441ea692",
      "2f2d4de046224cab8fa602ed83d552bf",
      "a03d5a15c5614dde8096a919cfada055"
     ]
    },
    "id": "ad2df6a7",
    "outputId": "4350137d-ac46-49ca-fe78-a72a1f5b8774"
   },
   "outputs": [],
   "source": [
    "model = AutoModelForCausalLM.from_pretrained(\n",
    "    model_id,\n",
    "    quantization_config=bnb_config,\n",
    "    device_map=\"auto\",\n",
    "    trust_remote_code=False,\n",
    "    attn_implementation='eager',\n",
    "    use_cache=False,\n",
    ")"
   ]
  },
  {
   "cell_type": "code",
   "execution_count": null,
   "id": "13",
   "metadata": {
    "id": "e6b8938e"
   },
   "outputs": [],
   "source": [
    "lora_config = LoraConfig(\n",
    "    r=16,\n",
    "    lora_alpha=32,\n",
    "    lora_dropout=0.05,\n",
    "    bias=\"none\",\n",
    "    target_modules=['q_proj', \"o_proj\", \"k_proj\", \"v_proj\", 'gate_proj', 'up_proj', \"down_proj\"],\n",
    "    task_type='CAUSAL_LM',\n",
    "\n",
    ")"
   ]
  },
  {
   "cell_type": "code",
   "execution_count": null,
   "id": "14",
   "metadata": {
    "colab": {
     "base_uri": "https://localhost:8080/",
     "height": 177,
     "referenced_widgets": [
      "f11907f11b6848cd97e6797e711510ed",
      "6f181e3cfd8b41d2b31b0675137a9bba",
      "f1fb248970b84d34ba871f987a121041",
      "46b388213a2e45469da2dec837cfad56",
      "2eaba1b2abe84be480e7f4bd801061bf",
      "ab0b756a7a4e4f2e8d86a717470947ea",
      "4644e275970646f589bd694f589c9bca",
      "223197b39b1d4e3b99e0696ebe93f55c",
      "17c84f7f685b4bb3b18c71b61cd3de14",
      "201455a5ada14e9191866f494f2452a1",
      "76e0e0b2a2004b3580de96dc818ca850",
      "54e8687d51de4c6caa8935b689eb0d86",
      "b1b0e041de844e508e67dedb0dca9645",
      "1d35adf78c4643c1b3fae2b0835f9b2f",
      "1122e5a109fa4649b105b1d8f7292359",
      "5fe715baef6c48328ae812ec0ac470e0",
      "92839e14bb0042aebcccc811a72cbd49",
      "784a74292b2f4bbaa3fdbd92ccb0f41d",
      "fe329127cf254ebd9eb1132cc87a785b",
      "1ade1a0cc95949c492e3a01e72c71fdd",
      "387d394e3f80467d878bfe54ca41678f",
      "3ca0ed02287e402485a68f1385a89698",
      "79ca3d13ff764c1b91a10899563d94c7",
      "0e29222d5af84647806ed1270c9d0869",
      "9b8d6deb51f442e88a70c5ecdd0ef067",
      "38ee97edb5c5434b97f1536107a79d67",
      "d3306f29e70d4278a4c0198c4b5e1d0b",
      "082d04b8732d4821a7c3c4f81a2b9a47",
      "4c1fddd1257e49da935f44c16505bfb8",
      "8255fd2409014984afc56eee203db86b",
      "e64d8dcf00a047c89f9caec732cc0568",
      "ccd7150df01144939f170f9035695928",
      "6a23e633eff647ef8b41ee2a392ebd27",
      "797e09d9a7d94bfa985fbcae29662e94",
      "412e984b2b594ea0bfb25517f0231315",
      "fa5ee407de5b461c98b2e50af7fbd1c1",
      "5bcd13b082704d44b4feb16785938894",
      "85861c4bcf3f44b8ac44367213e9eb55",
      "c1c9df6ba13e4922ae4416ac08e448ee",
      "d2da7397f3b94a9ea1dd0cff5bc2ac1e",
      "94a2016fea314986a6d89edabacaf9cb",
      "91f2e70bd565400d8d87d1fe5c247f96",
      "4da070d8cbc14601a382d8febab49857",
      "6c005796101441398a12fdfa52648940",
      "b921d90e4786441aa105b1c941e6cdb3",
      "be58df5ee8d04eadb82900b843b99e95",
      "a8aa5ce6380b40218f3ec3ba33f46f75",
      "1fc67d218005420ab31c1ef1e3e63bd5",
      "cf889fba887344b9b9fb17ef4cb96087",
      "2c7599af9930474e949dbf4a8789facd",
      "50a7c7f7073c4e8dab0d94986fc64593",
      "1b9b91cfb97743a186c2ed96ed6c995e",
      "dac9746fa9b8443791fd7b6cc8cd7435",
      "dd0be4f023ac4b5f8f3424d3a92aa5cd",
      "7900a4f15da247e9b0e7199bbfcb69b7"
     ]
    },
    "id": "GV49HxwpCZ7K",
    "outputId": "525a5447-431c-4b6f-e17d-30ccbf8b0592"
   },
   "outputs": [],
   "source": [
    "tokenizer = AutoTokenizer.from_pretrained(model_id, use_fast=True)\n",
    "def tokenize(example):\n",
    "    return tokenizer(example[\"text\"], truncation=True, padding=\"max_length\", max_length=4096)\n",
    "\n",
    "train_dataset = train_dataset.map(tokenize, batched=True)"
   ]
  },
  {
   "cell_type": "code",
   "execution_count": null,
   "id": "15",
   "metadata": {
    "colab": {
     "base_uri": "https://localhost:8080/",
     "height": 49,
     "referenced_widgets": [
      "701e6ce65e984362a1450ccb09ff92ac",
      "e9dfac33eafa427b8a163cf32e09f168",
      "7fae381c5d444ef8927c0274d35dbf4a",
      "cf415d8d67544a5780412a02f9f4f617",
      "42076ff2d3c54bb690291970faa785d4",
      "a43821508c7b468a9e75b44e63d27efa",
      "8fba2a70da354924972cccfb9b44fec2",
      "14425a71862b4fa9824a4b44f0cf531d",
      "c41db30313324fd78441a46088090b85",
      "60a4597ea96a4d10b4337185acdf1b1c",
      "1d9ad051efa84b61b83b899f807bc4d1"
     ]
    },
    "id": "xYPhJlLzTdvJ",
    "outputId": "3f28cca7-b8e2-43c3-b97e-0100057b8e98"
   },
   "outputs": [],
   "source": [
    "train_dataset2 = train_dataset2.map(tokenize, batched=True)"
   ]
  },
  {
   "cell_type": "code",
   "execution_count": null,
   "id": "16",
   "metadata": {
    "colab": {
     "base_uri": "https://localhost:8080/"
    },
    "id": "bj9BgmY6KW6C",
    "outputId": "7864e781-0013-4b7d-d7fc-65994f4430e8"
   },
   "outputs": [],
   "source": [
    "def print_trainable_parameters(model):\n",
    "    trainable = 0\n",
    "    total = 0\n",
    "    for param in model.parameters():\n",
    "        num_params = param.numel()\n",
    "        total += num_params\n",
    "        if param.requires_grad:\n",
    "            trainable += num_params\n",
    "    print(f\"Trainable parameters: {trainable:,}\")\n",
    "    print(f\"Total parameters: {total:,}\")\n",
    "    print(f\"Trainable ratio: {100 * trainable / total:.4f}%\")\n",
    "\n",
    "print_trainable_parameters(model)"
   ]
  },
  {
   "cell_type": "code",
   "execution_count": null,
   "id": "17",
   "metadata": {
    "colab": {
     "base_uri": "https://localhost:8080/",
     "height": 86,
     "referenced_widgets": [
      "db817310ad194828a801d550f7a7eb0c",
      "c29d5599ff7a46c9813282994b323783",
      "03f82528adad4361acf47b73a733075b",
      "06fe3976953e41d68095b7818cd23710",
      "0141b59c3a5245ea990b375cc406121f",
      "5563c117cbbb4d2b90451c208dfb339b",
      "d18c6e8446ab402da01ba8f84b0bb3c8",
      "c535b6e21ba3440895d7a4a886702470",
      "19f5252d20c24e198e12074631c7bf64",
      "1345fc26091c43f38b4097539557a6be",
      "fd7dbab0b4114f528e9b5153317ec4f9"
     ]
    },
    "id": "08f14586",
    "outputId": "3246dfd4-c8bd-4f02-ae35-11f3ee548aa2"
   },
   "outputs": [],
   "source": [
    "tuner = SFTTrainer(\n",
    "    model=model,\n",
    "    train_dataset=train_dataset,\n",
    "    args=transformers.TrainingArguments(\n",
    "        per_device_train_batch_size=2,\n",
    "        gradient_accumulation_steps=8,\n",
    "        num_train_epochs=2,\n",
    "        learning_rate=5e-5,\n",
    "        warmup_steps=50,\n",
    "        logging_steps=10,\n",
    "        fp16=True,\n",
    "        optim=\"paged_adamw_8bit\",\n",
    "        gradient_checkpointing=True,\n",
    "        output_dir=\"outputs\"\n",
    "    ),\n",
    "    peft_config=lora_config\n",
    ")\n"
   ]
  },
  {
   "cell_type": "code",
   "execution_count": null,
   "id": "18",
   "metadata": {
    "id": "0fTv4Rs6FXVb"
   },
   "outputs": [],
   "source": [
    "os.environ['WANDB_DISABLED'] = \"false\""
   ]
  },
  {
   "cell_type": "code",
   "execution_count": null,
   "id": "19",
   "metadata": {
    "colab": {
     "base_uri": "https://localhost:8080/",
     "height": 281
    },
    "id": "7iEFmqqoGahW",
    "outputId": "e8be9a32-0c5f-45a0-fb64-032a6f2b295a"
   },
   "outputs": [],
   "source": [
    "import wandb\n",
    "\n",
    "wandb.init(project=\"lang-tuner\")"
   ]
  },
  {
   "cell_type": "code",
   "execution_count": null,
   "id": "20",
   "metadata": {
    "colab": {
     "base_uri": "https://localhost:8080/",
     "height": 931
    },
    "id": "4bd99dc7",
    "outputId": "d4ad36b9-7796-4195-c517-dd17461990d0"
   },
   "outputs": [],
   "source": [
    "tuner.train()"
   ]
  },
  {
   "cell_type": "code",
   "execution_count": null,
   "id": "21",
   "metadata": {
    "id": "NX8oP0GAC5Ti"
   },
   "outputs": [],
   "source": [
    "tuner.model.save_pretrained(\"fine-tuned-gemma\")"
   ]
  },
  {
   "cell_type": "code",
   "execution_count": null,
   "id": "22",
   "metadata": {
    "colab": {
     "base_uri": "https://localhost:8080/"
    },
    "id": "SrXyluTjRPKa",
    "outputId": "7ff2ed58-d5d5-461f-c176-dba2265a26b0"
   },
   "outputs": [],
   "source": [
    "model.save_pretrained(\"fine-tuned-gemma\")\n",
    "tokenizer.save_pretrained(\"fine-tuned-gemma\")"
   ]
  },
  {
   "cell_type": "code",
   "execution_count": null,
   "id": "23",
   "metadata": {
    "colab": {
     "base_uri": "https://localhost:8080/",
     "height": 145,
     "referenced_widgets": [
      "61744253ad204b358d906ed2803fe70b",
      "7abbb3c9cb474df4a2a4d875d2d0cd9c",
      "99a4b6f2b26e476282ea0a85e2f5e76b",
      "a2567907f0924961b481dfb4fd9b7d67",
      "c4e2d45f8b834c119cb40e340f692f85",
      "a94dbfc2ace44cfb83551d226855dc12",
      "39fdb47c2fed4b40b104368826d39df3",
      "40de46fb67414127b466d3aa96026123",
      "2cbb247fbb2347ffa75d14aa806dc166",
      "aca44afe9254429a8b731e8f2f763d32",
      "92bd81839cc6432988bb8e95299fac68",
      "dcafd482d49146bcb2c17309ba7dec3f",
      "4df98c30dda44e1d8c05d942bb86f970",
      "5600e86bc6184c6fa4b24185cbf502fa",
      "982cdcce200445fb9bd9ceff454874ee",
      "85cb0cefec974bcc88ba422568352d15",
      "822df51936e042748c44ec491e97c544",
      "f1f89f7998ed40379196ffdd5816e3ae",
      "d74bd100281b4ed290f5143cf2bf47da",
      "a8e71f37e3974e66bbb6c706273344fa",
      "0b28f2a614c44d59a4002eb0ffa32c67",
      "91180f1e86ac43bd8b9ee79a48fa7839",
      "ffef8f3644ec45498328b3124ac738e3",
      "192bc7dbd7ae42b39d9339cbf8de1bcb",
      "09ac89e3664240e890b9f40e925da369",
      "cf1e9853dca04fe4aaa89c976239cf25",
      "beab568e86ab477abf5b1af40103e164",
      "86f05989bbd240dfbbbe7f9813a95453",
      "8c958f99e6d84168b657686080626988",
      "22d1132df8264d4aa98d7f6f6eb97d6f",
      "f90ee766e2804193983fd8a86efcbb36",
      "54f9e8d6f43c402eb76f94fbd969af65",
      "265fb9c2bc864804a879f428d88c5456",
      "bdb9f785acd1426c88319618ad1318ae",
      "e039cd8e2d2346dabdd32b8f20da3579",
      "7c2cc22e04234afea32d33df186bd235",
      "18f3a09584624550a6ed069e500d15a8",
      "3f2b744129d24630948d3cd5cbe59e04",
      "5a05ca8eab4144079e252b619c1ab215",
      "f32c13f5f49e4a42917404cb572705a9",
      "ea252767d7d7442b9b34ae8e78d236c9",
      "b9639b1d054b4f4d8f16715961d3d252",
      "efeb371cbaae49cdbac3f510d4f82678",
      "58133ed92fe24a4fa7f80d0a4053c206"
     ]
    },
    "id": "QIm4bTOaQY_D",
    "outputId": "282298ba-0891-4f96-f94a-75d64a606e33"
   },
   "outputs": [],
   "source": [
    "from huggingface_hub import HfApi\n",
    "api = HfApi()\n",
    "\n",
    "api.create_repo(repo_id=\"Prince-Dastan/langchain-docbot-2\", repo_type=\"model\", private=False ,token=os.environ['HF_TOKEN'])\n",
    "\n",
    "for file in os.listdir(r'/content/fine-tuned-gemma'):\n",
    "  api.upload_file(path_or_fileobj=f\"fine-tuned-gemma/{file}\", path_in_repo=f\"{file}\", repo_id=\"Prince-Dastan/langchain-docbot-2\", repo_type=\"model\",token=os.environ['HF_TOKEN'])"
   ]
  }
 ],
 "metadata": {
  "accelerator": "GPU",
  "colab": {
   "gpuType": "T4",
   "provenance": []
  },
  "kernelspec": {
   "display_name": "fine-tuning",
   "language": "python",
   "name": "python3"
  },
  "language_info": {
   "codemirror_mode": {
    "name": "ipython",
    "version": 3
   },
   "file_extension": ".py",
   "mimetype": "text/x-python",
   "name": "python",
   "nbconvert_exporter": "python",
   "pygments_lexer": "ipython3",
   "version": "3.11.9"
  }
 },
 "nbformat": 4,
 "nbformat_minor": 5
}
