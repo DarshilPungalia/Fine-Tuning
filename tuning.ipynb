{
  "cells": [
    {
      "cell_type": "code",
      "execution_count": 5,
      "id": "84d95532",
      "metadata": {
        "id": "84d95532"
      },
      "outputs": [],
      "source": [
        "import pickle\n",
        "from dotenv import load_dotenv\n",
        "import transformers\n",
        "import torch\n",
        "from trl import SFTTrainer\n",
        "from peft import LoraConfig\n",
        "from transformers import AutoTokenizer, AutoModelForCausalLM\n",
        "from transformers import BitsAndBytesConfig, GemmaTokenizer"
      ]
    },
    {
      "cell_type": "code",
      "execution_count": 9,
      "id": "04e753c5",
      "metadata": {
        "id": "04e753c5"
      },
      "outputs": [],
      "source": [
        "import os\n",
        "from google.colab import userdata\n",
        "\n",
        "os.environ['HF_TOKEN'] = userdata.get('HF_TOKEN')"
      ]
    },
    {
      "cell_type": "code",
      "execution_count": 10,
      "id": "497226f8",
      "metadata": {
        "colab": {
          "base_uri": "https://localhost:8080/"
        },
        "id": "497226f8",
        "outputId": "566f7fb1-fec0-45d3-faff-1e041262a257"
      },
      "outputs": [
        {
          "name": "stdout",
          "output_type": "stream",
          "text": [
            "True\n",
            "Tesla T4\n"
          ]
        }
      ],
      "source": [
        "print(torch.cuda.is_available())\n",
        "print(torch.cuda.get_device_name(0))"
      ]
    },
    {
      "cell_type": "code",
      "execution_count": 23,
      "id": "c4b933a0",
      "metadata": {
        "id": "c4b933a0"
      },
      "outputs": [],
      "source": [
        "def loadData(file):\n",
        "    dbfile = open(file, 'rb')\n",
        "    db = pickle.load(dbfile)\n",
        "\n",
        "    return db"
      ]
    },
    {
      "cell_type": "code",
      "execution_count": 24,
      "id": "c856e44b",
      "metadata": {
        "id": "c856e44b"
      },
      "outputs": [],
      "source": [
        "dataset = loadData('LangDataset')"
      ]
    },
    {
      "cell_type": "code",
      "execution_count": 25,
      "id": "6AsfLoY8AVSt",
      "metadata": {
        "colab": {
          "base_uri": "https://localhost:8080/"
        },
        "collapsed": true,
        "id": "6AsfLoY8AVSt",
        "outputId": "4b09e7a1-6c36-4bef-ec92-e1a7860ac13a"
      },
      "outputs": [
        {
          "data": {
            "text/plain": [
              "dict_keys(['langchain_python_api_reference', 'langchain-ibm:_0.3.11', 'langchain-exa:_0.2.1', 'langchain-nomic:_0.1.4', 'langchain-weaviate:_0.0.4', 'pydata-sphinx-theme.js?digest=8878045cc6db502f8baf', 'pydata-sphinx-theme.css?digest=8878045cc6db502f8baf', 'langchain-tests:_0.3.19', 'search_-', 'langchain-google-community:_2.0.7', 'search', 'google_speech_to_text', 'pygments.css?v=8f2a1f02', 'langchain-neo4j:_0.4.0', 'langchain-groq:_0.3.2', 'langchain-anthropic:_0.3.13', 'langchain-redis:_0.2.1', 'vertex_ai_search', 'documentai_warehouse', 'gmail', 'langchain-huggingface:_0.2.0', 'langchain-ai21:_1.1.0', 'langchain-mistralai:_0.2.10', 'googlesearchrun', 'langchain-upstage:_0.6.0', 'custom.css?v=8e9fa5b3', 'langchain-elasticsearch:_0.3.2', 'bq_storage_vectorstores', 'langchain-azure-dynamic-sessions:_0.2.0', 'langchain:_0.3.25', 'langchain-chroma:_0.2.4', 'langchain-community:_0.3.24', 'langchain-xai:_0.2.3', 'langchain-ollama:_0.3.3', 'langchain-sqlserver:_0.1.2', 'vertex_check_grounding', 'drive', 'langchain-prompty:_0.1.1', 'langchain-unstructured:_0.1.6', 'calendar', 'langchain-voyageai:_0.1.4', 'langchain-astradb:_0.6.0', 'langchain-deepseek:_0.1.3', 'geocoding', 'vertex_rank', 'langchain-cerebras:_0.5.0', 'bootstrap.js?digest=8878045cc6db502f8baf', 'copybutton.css?v=76b2166b', 'langchain-qdrant:_0.2.0', 'sphinx-design.min.css?v=95c83b7e', 'langchain-mongodb:_0.6.2___langchain_mongodb__documentation', 'langchain-milvus:_0.2.0rc1', 'bigquery', 'googlesearchresults', 'langchain-azure-ai:_0.1.2', 'langchain-pinecone:_0.2.6', 'langchain-openai:_0.3.17', 'langchain-text-splitters:_0.3.8', 'langchain-experimental:_0.3.5rc1', 'docai', 'translate', 'gcs_directory', 'places_api', 'vision', 'langchain-snowflake:_0.1.3', 'theme.css?digest=8878045cc6db502f8baf', 'langchain-aws:_0.2.23', 'googleplacestool', 'langchain-core:_0.3.60', 'langchain-nvidia-ai-endpoints:_0.3.10', 'langchain-google-vertexai:_2.0.24', 'texttospeech', 'googlesearchapiwrapper', 'langchain-perplexity:_0.1.1', 'langchain-tavily:_0.1.6', 'gcs_file', 'langchain-sema4:_0.2.0', 'langchain-postgres:_0.0.14', 'langchain-google-genai:_2.1.4', 'langchain-cohere:_0.4.4', 'langchain-fireworks:_0.3.0', 'langchain-together:_0.3.0', 'vertexaicheckgroundingwrapper', 'runnableserializable', 'runnable', 'runnableconfig', 'configurablefieldmultioption', 'langchain_google_community.vertex_check_grounding', 'configurablefieldsingleoption', 'configurablefield', 'exponentialjitterparams', 'document', 'gmailcreatedraft', 'sendmessageschema', 'clean_email_body', 'basecallbackhandler', 'searchargsschema', 'gmailgetthread', 'toolexception', 'gmailgetmessage', 'gmailsendmessage', 'gmailsearch', 'build_gmail_service', 'gmailtoolkit', 'toolcall', 'basecallbackmanager', 'build_resource_service', 'createdraftschema', 'resource', 'langchain_google_community.gmail.create_draft', 'gmailloader', 'gmailbasetool', 'get_gmail_credentials', 'getthreadschema', 'cast_proto_type', 'validate_column_in_bq_schema', 'vertexfsvectorstore', 'check_bq_dataset_exists', 'doc_match_filter', 'bigqueryvectorstore', 'langchain_google_community.bq_storage_vectorstores.utils', 'vertexaisearchsummarytool', 'basetool', 'vertexaimultiturnsearchretriever', 'vertexaisearchretriever', 'langchain_google_community.vertex_ai_search', 'vertexairank', 'langchain_google_community.vertex_rank', 'basedocumentcompressor', 'gcsdirectoryloader', 'langchain_google_community.gcs_directory', 'baseloader', 'textsplitter', 'getcalendarsinfo', 'updateeventschema', 'calendarcreateevent', 'langchain_google_community.calendar.get_calendars_info', 'getcurrentdatetime', 'build_calendar_service', 'calendarsearchevents', 'calendarmoveevent', 'currentdatetimeschema', 'build_resouce_service', 'calendarupdateevent', 'createeventschema', 'searcheventsschema', 'deleteeventschema', 'calendartoolkit', 'moveeventschema', 'calendarbasetool', 'calendardeleteevent', 'is_all_day_event', 'docaiparser', 'blob', 'docaiparsingresults', 'operation', 'langchain_google_community.docai', 'texttospeechtool', 'langchain_google_community.texttospeech', 'googlegeocodingtool', 'googlegeocodeinput', 'googlegeocodingapiwrapper', 'langchain_google_community.geocoding', 'fireworks', 'basemessage', 'basecache', 'llm', 'langchain_fireworks.llms', 'embeddings', 'llms', 'chat_models', 'promptvalue', 'bigqueryloader', 'langchain_google_community.bigquery', 'speechtotextloader', 'langchain_google_community.google_speech_to_text', 'gcsfileloader', 'langchain_google_community.gcs_file', 'googleplacesapiwrapper', 'langchain_google_community.places_api', 'googleplacesschema', 'cloudvisionparser', 'cloudvisionloader', 'langchain_google_community.vision', 'googledriveloader', 'langchain_google_community.drive', 'googletranslatetransformer', 'langchain_google_community.translate', 'documentaiwarehouseretriever', 'baseretriever', 'langchain_google_community.documentai_warehouse', 'vectortype', 'langchain_sqlserver.vectorstores', 'overview:_module_code', 'langchain_core.tracers.base', 'basetracer', 'asyncbasetracer', 'langchain_experimental.comprehend_moderation.toxicity', 'comprehendtoxicity', 'langchain_core.utils.json', 'parse_and_check_json_markdown', 'parse_partial_json', 'parse_json_markdown', 'langchain_community.document_loaders.browserbase', 'browserbaseloader', 'langchain_experimental.comprehend_moderation.base_moderation_config', 'moderationpiiconfig', 'moderationtoxicityconfig', 'basemoderationconfig', 'moderationpromptsafetyconfig', 'langchain_mongodb.graphrag.graph', 'langchain_core.runnables.graph_ascii', 'vertexviewer', 'draw_ascii', 'asciicanvas', 'langchain_community.document_compressors.jina_rerank', 'jinarerank', 'langchain_experimental.llm_symbolic_math.base', 'llmsymbolicmathchain', 'langchain_community.agent_toolkits.sql.base', 'create_sql_agent', 'langchain_community.chat_message_histories.mongodb', 'mongodbchatmessagehistory', 'langchain_community.tools.amadeus.flight_search', 'amadeusflightsearch', 'flightsearchschema', 'langchain_experimental.data_anonymizer.deanonymizer_mapping', 'format_duplicated_operator', 'deanonymizermapping', 'create_anonymizer_mapping', 'langchain_community.document_transformers.openai_functions', 'openaimetadatatagger', 'create_metadata_tagger', 'langchain_community.embeddings.dashscope', 'dashscopeembeddings', 'embed_with_retry', 'langchain_community.utilities.google_lens', 'googlelensapiwrapper', 'langchain_core.messages.tool', 'tool_call_chunk', 'tooloutputmixin', 'default_tool_chunk_parser', 'toolmessagechunk', 'invalidtoolcall', 'tool_call', 'default_tool_parser', 'invalid_tool_call', 'toolmessage', 'toolcallchunk', 'langchain_community.document_loaders.parsers.language.code_segmenter', 'codesegmenter', 'langchain_community.chat_models.oci_generative_ai', 'provider', 'metaprovider', 'chatocigenai', 'cohereprovider', 'langchain_community.embeddings.naver', 'clovaxembeddings', 'langchain_core.language_models.chat_models', 'generate_from_stream', 'simplechatmodel', 'basechatmodel', 'agenerate_from_stream', 'langchain_community.callbacks.wandb_callback', 'construct_html_from_prompt_and_generation', 'load_json_to_dict', 'import_wandb', 'analyze_text', 'wandbcallbackhandler', 'langchain_community.utilities.vertexai', 'get_client_info', 'create_retry_decorator', 'init_vertexai', 'load_image_from_gcs', 'raise_vertex_import_error', 'langchain.agents.schema', 'agentscratchpadchatprompttemplate', 'langchain.memory.summary_buffer', 'conversationsummarybuffermemory', 'langchain_community.tools.ainetwork.base', 'ainbasetool', 'operationtype', 'langchain_community.tools.memorize.tool', 'trainablellm', 'memorize', 'langchain_experimental.llms.lmformatenforcer_decoder', 'lmformatenforcer', 'import_lmformatenforcer', 'langchain_community.embeddings.sambanova', 'sambastudioembeddings', 'langchain_google_vertexai.callbacks', 'vertexaicallbackhandler', 'langchain_experimental.text_splitter', 'calculate_cosine_distances', 'combine_sentences', 'semanticchunker', 'langchain_community.llms.chatglm', 'chatglm', 'langchain_community.document_loaders.discord', 'discordchatloader', 'elasticsearch.helpers.vectorstore._async.embedding_service', 'asyncembeddingservice', 'langchain_community.utilities.bing_search', 'bingsearchapiwrapper', 'langchain_unstructured.document_loaders', 'unstructuredloader', 'langchain_community.callbacks.comet_ml_callback', 'cometcallbackhandler', 'import_comet_ml', 'langchain_community.retrievers.arxiv', 'arxivretriever', 'langchain_experimental.data_anonymizer.faker_presidio_mapping', 'get_pseudoanonymizer_mapping', 'langchain_community.retrievers.knn', 'create_index', 'knnretriever', 'langchain_community.document_loaders.parsers.grobid', 'grobidparser', 'serverunavailableexception', 'langchain_community.embeddings.azure_openai', 'azureopenaiembeddings', 'langchain_community.vectorstores.redis.schema', 'redisvectorfield', 'redismodel', 'redisfield', 'numericfieldschema', 'read_schema', 'tagfieldschema', 'flatvectorfield', 'textfieldschema', 'hnswvectorfield', 'redisdistancemetric', 'langchain_community.tools.ainetwork.app', 'appoperationtype', 'appschema', 'ainappops', 'langchain_community.chat_models.fake', 'fakelistchatmodel', 'fakemessageslistchatmodel', 'langchain_community.memory.kg', 'conversationkgmemory', 'langchain_experimental.comprehend_moderation.base_moderation_callbacks', 'basemoderationcallbackhandler', 'langchain_community.tools.office365.base', 'o365basetool', 'langchain.retrievers.merger_retriever', 'mergerretriever', 'langchain_mongodb.docstores', 'langchain.chains.retrieval_qa.base', 'vectordbqa', 'baseretrievalqa', 'retrievalqa', 'langchain_community.graph_vectorstores.extractors.html_link_extractor', 'htmllinkextractor', 'htmlinput', 'langchain_community.retrievers.breebs', 'breebsretriever', 'langchain_upstage.tools.groundedness_check', 'groundednesscheck', 'upstagegroundednesscheckinput', 'upstagegroundednesscheck', 'langchain_community.vectorstores.couchbase', 'couchbasevectorstore', 'langchain_community.callbacks.bedrock_anthropic_callback', 'bedrockanthropictokenusagecallbackhandler', 'langchain_community.vectorstores.redis.filters', 'redisfilterexpression', 'redisfilter', 'redisnum', 'check_operator_misuse', 'redisfilterfield', 'redisfilteroperator', 'redistext', 'redistag', 'langchain_community.llms.yi', 'yillm', 'langchain_community.tools.google_scholar.tool', 'googlescholarqueryrun', 'langchain.storage.encoder_backed', 'encoderbackedstore', 'langchain_community.utilities.cassandra_database', 'cassandradatabase', 'databaseerror', 'table', 'langchain_mongodb.agent_toolkit.tool', 'langchain_community.document_loaders.parsers.images', 'llmimageblobparser', 'baseimageblobparser', 'tesseractblobparser', 'rapidocrblobparser', 'langchain_experimental.cpal.models', 'interventionmodel', 'causalmodel', 'querymodel', 'entitymodel', 'storymodel', 'systemsettingmodel', 'narrativemodel', 'entitysettingmodel', 'resultmodel', 'langchain.memory.simple', 'simplememory', 'langchain_core.output_parsers.list', 'listoutputparser', 'numberedlistoutputparser', 'commaseparatedlistoutputparser', 'droplastn', 'markdownlistoutputparser', 'langchain_community.document_loaders.parsers.language.lua', 'luasegmenter', 'langchain.memory.token_buffer', 'conversationtokenbuffermemory', 'langchain_experimental.video_captioning.services.srt_service', 'srtprocessor', 'langchain.chains.combine_documents.map_reduce', 'mapreducedocumentschain', 'langchain_core.language_models.base', 'baselanguagemodel', 'langsmithparams', 'langchain_community.tools.e2b_data_analysis.tool', 'e2bdataanalysistoolarguments', 'e2bdataanalysistool', 'add_last_line_print', 'uploadedfile', 'langchain_community.tools.slack.get_message', 'slackgetmessage', 'slackgetmessageschema', 'langchain.agents.self_ask_with_search.base', 'selfaskwithsearchagent', 'create_self_ask_with_search_agent', 'selfaskwithsearchchain', 'langchain_community.callbacks.trubrics_callback', 'trubricscallbackhandler', 'langchain_community.tools.requests.tool', 'requestsposttool', 'requestsdeletetool', 'requestspatchtool', 'requestsgettool', 'requestsputtool', 'baserequeststool', 'langchain_postgres.v2.engine', 'pgengine', 'column', 'columndict', 'langchain_core.chat_loaders', 'basechatloader', 'langchain_google_community.gmail.loader', 'langchain.chains.openai_functions.extraction', 'create_extraction_chain', 'create_extraction_chain_pydantic', 'langchain_azure_ai.vectorstores.utils', 'distancestrategy', 'filter_complex_metadata', 'maximal_marginal_relevance', 'langchain_core.embeddings.embeddings', 'langchain_community.llms.human', 'humaninputllm', 'langchain.chains.summarize.chain', 'loadingcallable', 'load_summarize_chain', 'langchain_community.query_constructors.myscale', 'myscaletranslator', 'langchain.agents.output_parsers.react_json_single_input', 'reactjsonsingleinputoutputparser', 'langchain_community.output_parsers.rail_parser', 'guardrailsoutputparser', 'langchain_community.agent_toolkits.multion.toolkit', 'multiontoolkit', 'langchain.chains.openai_functions.base', 'create_openai_fn_chain', 'create_structured_output_chain', 'langchain_postgres.v2.indexes', 'baseindex', 'validate_identifier', 'exactnearestneighbor', 'ivfflatqueryoptions', 'ivfflatindex', 'hnswindex', 'queryoptions', 'hnswqueryoptions', 'strategymixin', 'langchain_community.tools.edenai.audio_speech_to_text', 'speechtotextinput', 'edenaispeechtotexttool', 'langchain_community.agent_toolkits.cogniswitch.toolkit', 'cogniswitchtoolkit', 'langchain_community.chat_models.cohere', 'chatcohere', 'get_role', 'get_cohere_chat_request', 'langchain_experimental.plan_and_execute.planners.base', 'llmplanner', 'baseplanner', 'langchain_community.document_loaders.reddit', 'redditpostsloader', 'langchain_community.tools.audio.huggingface_text_to_speech_inference', 'huggingfacetexttospeechmodelinference', 'langchain_community.llms.edenai', 'edenai', 'langchain_community.storage.redis', 'redisstore', 'langchain_community.chains.graph_qa.kuzu', 'kuzuqachain', 'remove_prefix', 'extract_cypher', 'langchain_qdrant.qdrant', 'retrievalmode', 'qdrantvectorstore', 'qdrantvectorstoreerror', 'langchain_experimental.graph_transformers.gliner', 'glinergraphtransformer', 'langchain_core.messages.modifier', 'removemessage', 'langchain_community.tools.searchapi.tool', 'searchapirun', 'searchapiresults', 'langchain_community.llms.sagemaker_endpoint', 'llmcontenthandler', 'sagemakerendpoint', 'contenthandlerbase', 'lineiterator', 'langchain_community.utilities.arcee', 'arceedocumentsource', 'arceedocumentadapter', 'dalmfiltertype', 'arceewrapper', 'arceeroute', 'dalmfilter', 'arceedocument', 'langchain_community.chat_models.azure_openai', 'azurechatopenai', 'langchain_community.tools.office365.create_draft_message', 'o365createdraftmessage', 'createdraftmessageschema', 'langchain_community.agent_toolkits.slack.toolkit', 'slacktoolkit', 'langchain_community.retrievers.wikipedia', 'wikipediaretriever', 'langchain.agents.initialize', 'initialize_agent', 'langchain_community.document_loaders.iugu', 'iuguloader', 'langchain_neo4j.vectorstores.neo4j_vector', 'neo4jvector', 'remove_lucene_chars', 'dict_to_yaml_str', 'check_if_not_null', 'langchain_community.vectorstores.baiducloud_vector_search', 'besvectorstore', 'langchain_community.embeddings.gpt4all', 'gpt4allembeddings', 'langchain_neo4j.chains.graph_qa.cypher_utils', 'cypherquerycorrector', 'langchain.agents.agent_types', 'agenttype', 'langchain_community.document_loaders.oracleai', 'oracledocreader', 'parseoracledocmetadata', 'oracletextsplitter', 'oracledocloader', 'langchain_community.document_loaders.apify_dataset', 'apifydatasetloader', 'langchain_community.chat_models.litellm', 'chatlitellmexception', 'acompletion_with_retry', 'chatlitellm', 'langchain_pinecone.vectorstores_sparse', 'pineconesparsevectorstore', 'langchain_experimental.tot.controller', 'totcontroller', 'langchain_community.document_loaders.parsers.language.rust', 'rustsegmenter', 'langchain_community.document_loaders.doc_intelligence', 'azureaidocumentintelligenceloader', 'langchain_community.retrievers.you', 'youretriever', 'langchain_cohere.react_multi_hop.parsing', 'parse_answer_with_prefixes', 'parse_jsonified_tool_use_generation', 'coheretoolsreactagentoutputparser', 'parse_actions', 'parse_citations', 'langchain.evaluation.parsing.json_distance', 'jsoneditdistanceevaluator', 'langchain_community.docstore.wikipedia', 'wikipedia', 'langchain_community.callbacks.manager', 'wandb_tracing_enabled', 'get_openai_callback', 'get_bedrock_anthropic_callback', 'langchain_community.chat_models.ollama', 'chatollama', 'langchain_community.tools.edenai.audio_text_to_speech', 'texttospeechinput', 'edenaitexttospeechtool', 'langchain_community.vectorstores.weaviate', 'weaviate', 'langchain_community.tools.shell.tool', 'shelltool', 'shellinput', 'langchain_core.sys_info', 'print_sys_info', 'langchain_mongodb.loaders', 'langchain_core.utils.json_schema', 'dereference_refs', 'langchain_community.document_loaders.docugami', 'docugamiloader', 'langchain_community.vectorstores.clickhouse', 'clickhousesettings', 'has_mul_sub_str', 'clickhouse', 'langchain_openai.embeddings.azure', 'langchain_tests.unit_tests.embeddings', 'embeddingsunittests', 'langchain_community.callbacks.streamlit.mutable_expander', 'childtype', 'mutableexpander', 'childrecord', 'langchain.chains.combine_documents.base', 'analyzedocumentchain', 'basecombinedocumentschain', 'langchain_community.chat_models.konko', 'chatkonko', 'langchain_community.vectorstores.vespa', 'vespastore', 'langchain_community.tools.ainetwork.owner', 'ainownerops', 'ruleschema', 'langchain_community.utilities.duckduckgo_search', 'duckduckgosearchapiwrapper', 'langchain_community.chains.graph_qa.hugegraph', 'hugegraphqachain', 'langchain_community.tools.dataforseo_api_search.tool', 'dataforseoapisearchresults', 'dataforseoapisearchrun', 'langchain_community.agent_toolkits.load_tools', 'load_huggingface_tool', 'get_all_tool_names', 'load_tools', 'raise_dangerous_tools_exception', 'langchain.agents.format_scratchpad.tools', 'format_to_tool_messages', 'langchain_experimental.agents.agent_toolkits.csv.base', 'create_csv_agent', 'langchain_experimental.rl_chain.metrics', 'metricstrackerrollingwindow', 'metricstrackeraverage', 'langchain_community.document_loaders.merge', 'mergeddataloader', 'langchain_community.embeddings.gigachat', 'gigachatembeddings', 'langchain_community.vectorstores.singlestoredb', 'singlestoredb', 'pydantic.v1.main', 'langchain_community.document_transformers.markdownify', 'markdownifytransformer', 'langchain_community.retrievers.google_cloud_documentai_warehouse', 'googledocumentaiwarehouseretriever', 'langchain_community.llms.bittensor', 'nibittensorllm', 'langchain_community.utilities.clickup', 'task', 'load_query', 'culist', 'member', 'fetch_first_id', 'parse_dict_through_component', 'fetch_folder_id', 'component', 'fetch_data', 'clickupapiwrapper', 'extract_dict_elements_from_component_fields', 'space', 'fetch_team_id', 'fetch_list_id', 'team', 'fetch_space_id', 'langchain_community.embeddings.ascend', 'ascendembeddings', 'langchain_astradb.storage', 'astradbstore', 'astradbbasestore', 'astradbbytestore', 'langchain_community.document_loaders.python', 'pythonloader', 'langchain.smith.evaluation.string_run_evaluator', 'stringrunevaluatorchain', 'llmstringrunmapper', 'chainstringrunmapper', 'stringrunmapper', 'toolstringrunmapper', 'stringexamplemapper', 'langchain_community.llms.modal', 'modal', 'langchain_aws.chains.graph_qa.neptune_sparql', 'get_prompt', 'create_neptune_sparql_qa_chain', 'extract_sparql', 'langchain_core.utils.mustache', 'grab_literal', 'render', 'parse_tag', 'chevronerror', 'l_sa_check', 'tokenize', 'r_sa_check', 'langchain_community.agent_toolkits.powerbi.base', 'create_pbi_agent', 'langchain_text_splitters.python', 'pythoncodetextsplitter', 'langchain_community.vectorstores.aperturedb', 'aperturedb', 'langchain_community.document_loaders.wikipedia', 'wikipedialoader', 'langchain_community.graphs.falkordb_graph', 'falkordbgraph', 'langchain.agents.openai_functions_agent.agent_token_buffer_memory', 'agenttokenbuffermemory', 'langchain_core.tracers.stdout', 'functioncallbackhandler', 'elapsed', 'try_json_stringify', 'consolecallbackhandler', 'langchain.chains.qa_generation.base', 'qagenerationchain', 'langchain_azure_dynamic_sessions.tools.sessions', 'sessionspythonrepltool', 'remotefilemetadata', 'langchain_community.tools.azure_ai_services.text_to_speech', 'azureaiservicestexttospeechtool', 'langchain_community.document_loaders.sitemap', 'sitemaploader', 'langchain_community.chat_models.mlflow_ai_gateway', 'chatparams', 'chatmlflowaigateway', 'langchain_community.chat_models.openai', 'chatopenai', 'langchain_community.graph_vectorstores.networkx', 'documents_to_networkx', 'langchain_experimental.comprehend_moderation.amazon_comprehend_moderation', 'amazoncomprehendmoderationchain', 'langchain.retrievers.document_compressors.cross_encoder_rerank', 'crossencoderreranker', 'langchain_community.document_loaders.rtf', 'unstructuredrtfloader', 'langchain_community.chat_models.friendli', 'chatfriendli', 'get_chat_request', 'langchain.retrievers.document_compressors.cross_encoder', 'basecrossencoder', 'langchain_tavily.tavily_search', 'tavilysearchinput', 'tavilysearch', 'langchain_experimental.autonomous_agents.baby_agi.task_creation', 'taskcreationchain', 'langchain_core.rate_limiters', 'inmemoryratelimiter', 'baseratelimiter', 'langchain.output_parsers.fix', 'outputfixingparserretrychaininput', 'outputfixingparser', 'langchain_ibm.llms', 'watsonxllm', 'langchain_community.document_loaders.cassandra', 'cassandraloader', 'langchain_community.document_loaders.stripe', 'stripeloader', 'langchain_huggingface.embeddings.huggingface_endpoint', 'huggingfaceendpointembeddings', 'langchain_community.document_loaders.fauna', 'faunaloader', 'langchain_experimental.plan_and_execute.executors.agent_executor', 'load_agent_executor', 'langchain_core.utils.pydantic', 'pre_init', 'create_model', 'is_pydantic_v1_subclass', 'create_model_v2', 'is_basemodel_instance', 'is_basemodel_subclass', 'is_pydantic_v2_subclass', 'get_pydantic_major_version', 'get_fields', 'langchain_core.structured_query', 'filterdirective', 'visitor', 'expr', 'structuredquery', 'comparator', 'comparison', 'operator', 'langchain.chains.llm', 'llmchain', 'langchain_core.chat_sessions', 'chatsession', 'langchain_community.llms.friendli', 'basefriendli', 'friendli', 'langchain.agents.react.base', 'reacttextworldagent', 'docstoreexplorer', 'reactdocstoreagent', 'reactchain', 'langchain_community.utilities.mojeek_search', 'mojeeksearchapiwrapper', 'langchain.chains.mapreduce', 'mapreducechain', 'langchain_community.tools.office365.events_search', 'o365searchevents', 'searcheventsinput', 'langchain_community.agent_toolkits.powerbi.chat_base', 'create_pbi_chat_agent', 'langchain_experimental.autonomous_agents.hugginggpt.task_executor', 'taskexecutor', 'langchain_community.retrievers.zilliz', 'zillizretriever', 'zillizretreiver', 'langchain_community.vectorstores.apache_doris', 'apachedoris', 'apachedorissettings', 'queryresult', 'langchain_google_community.gmail.get_thread', 'langchain_together.chat_models', 'chattogether', 'langchain_core.utils.formatting', 'strictformatter', 'langchain.chains.combine_documents.refine', 'refinedocumentschain', 'langchain.memory.combined', 'combinedmemory', 'langchain_community.utilities.metaphor_search', 'metaphorsearchapiwrapper', 'langchain_community.agent_toolkits.spark_sql.base', 'create_spark_sql_agent', 'langchain_core.runnables.branch', 'runnablebranch', 'langchain_elasticsearch._async.embeddings', 'asyncembeddingserviceadapter', 'asyncelasticsearchembeddings', 'langchain_astradb.cache', 'astradbsemanticcache', 'astradbcache', 'langchain_community.tools.playwright.base', 'basebrowsertool', 'lazy_import_playwright_browsers', 'langchain_core.tracers.run_collector', 'runcollectorcallbackhandler', 'langchain_community.llms.aphrodite', 'aphrodite', 'langchain_aws.vectorstores.inmemorydb.filters', 'inmemorydbtag', 'inmemorydbnum', 'inmemorydbfilteroperator', 'inmemorydbtext', 'inmemorydbfilterfield', 'inmemorydbfilterexpression', 'inmemorydbfilter', 'langchain_core.memory', 'langchain_elasticsearch._sync.embeddings', 'embeddingserviceadapter', 'elasticsearchembeddings', 'langchain_google_community.bq_storage_vectorstores.featurestore', 'langchain_community.llms.openlm', 'openlm', 'langchain_community.chains.graph_qa.base', 'graphqachain', 'langchain_community.utilities.powerbi', 'fix_table_name', 'json_to_md', 'powerbidataset', 'elasticsearch.helpers.vectorstore._async.strategies', 'asyncretrievalstrategy', 'asyncdensevectorscriptscorestrategy', 'asyncsparsevectorstrategy', 'asyncbm25strategy', 'asyncdensevectorstrategy', 'langchain_community.llms.forefrontai', 'forefrontai', 'langchain_core.prompts.prompt', 'prompttemplate', 'langchain_core.utils.aiter', 'tee', 'aclosing', 'tee_peer', 'abatch_iterate', 'nolock', 'py_anext', 'langchain_community.vectorstores.bagel', 'bagel', 'langchain_community.llms.aviary', 'aviary', 'aviarybackend', 'get_models', 'get_completions', 'langchain_community.tools.google_finance.tool', 'googlefinancequeryrun', 'langchain_community.vectorstores.scann', 'dependable_scann_import', 'scann', 'normalize', 'langchain_community.agent_toolkits.zapier.toolkit', 'zapiertoolkit', 'langchain_community.llms.gooseai', 'gooseai', 'langchain.retrievers.ensemble', 'ensembleretriever', 'unique_by_key', 'langchain_azure_ai.chat_message_histories.cosmos_db', 'cosmosdbchatmessagehistory', 'langchain_tests.integration_tests.tools', 'toolsintegrationtests', 'langchain_community.utilities.polygon', 'polygonapiwrapper', 'langchain_community.tools.ainetwork.utils', 'authenticate', 'langchain_core.tracers.evaluation', 'evaluatorcallbackhandler', 'wait_for_all_evaluators', 'langchain_community.llms.self_hosted_hugging_face', 'selfhostedhuggingfacellm', 'langchain_community.document_loaders.parsers.audio', 'fasterwhisperparser', 'openaiwhisperparserlocal', 'azureopenaiwhisperparser', 'yandexsttparser', 'openaiwhisperparser', 'langchain_community.vectorstores.docarray.in_memory', 'docarrayinmemorysearch', 'langchain_experimental.tot.memory', 'totdfsmemory', 'langchain_core.runnables.graph', 'node_data_json', 'branch', 'stringifiable', 'edge', 'curvestyle', 'mermaiddrawmethod', 'node', 'node_data_str', 'graph', 'is_uuid', 'nodestyles', 'labelsdict', 'langchain_core.runnables.passthrough', 'runnablepassthrough', 'aidentity', 'runnablepick', 'identity', 'runnableassign', 'langchain_community.vectorstores.surrealdb', 'surrealdbstore', 'langchain_community.embeddings.bedrock', 'bedrockembeddings', 'langchain_core.load.serializable', 'serializedconstructor', 'serializable', 'to_json_not_implemented', 'try_neq_default', 'serializedsecret', 'baseserialized', 'serializednotimplemented', 'langchain_text_splitters.latex', 'latextextsplitter', 'langchain_pinecone.embeddings', 'pineconesparseembeddings', 'pineconeembeddings', 'langchain_community.document_loaders.url_playwright', 'playwrightevaluator', 'playwrighturlloader', 'unstructuredhtmlevaluator', 'langchain_aws.vectorstores.inmemorydb.base', 'inmemoryvectorstoreretriever', 'check_index_exists', 'inmemoryvectorstore', 'langchain_community.document_loaders.parsers.pdf', 'pymupdfparser', 'extract_from_images_with_rapidocr', 'documentintelligenceparser', 'pdfminerparser', 'pypdfparser', 'pdfplumberparser', 'pypdfium2parser', 'amazontextractpdfparser', 'langchain_redis.cache', 'embeddingsvectorizer', 'rediscache', 'redissemanticcache', 'langchain_elasticsearch._sync.retrievers', 'elasticsearchretriever', 'langchain_community.utilities.redis', 'check_redis_module_exist', 'tokenescaper', 'get_client', 'langchain_community.tools.polygon.last_quote', 'inputs', 'polygonlastquote', 'langchain_community.embeddings.openai', 'async_embed_with_retry', 'openaiembeddings', 'langchain_community.embeddings.ipex_llm', 'ipexllmbgeembeddings', 'langchain_community.query_constructors.dingo', 'dingodbtranslator', 'langchain_community.agent_toolkits.office365.toolkit', 'o365toolkit', 'langchain_community.callbacks.llmonitor_callback', 'identify', 'llmonitorcallbackhandler', 'usercontextmanager', 'langchain_community.document_loaders.obs_file', 'obsfileloader', 'langchain_community.document_loaders.base_o365', 'fetch_extensions', 'o365baseloader', 'fetch_mime_types', 'langchain_community.storage.cassandra', 'cassandrabytestore', 'langchain_community.tools.gmail.search', 'langchain.agents.agent_toolkits.vectorstore.toolkit', 'vectorstoreinfo', 'vectorstoretoolkit', 'vectorstoreroutertoolkit', 'langchain_experimental.tot.prompts', 'get_cot_prompt', 'jsonlistoutputparser', 'checkeroutputparser', 'get_propose_prompt', 'langchain_core.indexing.in_memory', 'inmemorydocumentindex', 'langchain_community.chat_message_histories.tidb', 'tidbchatmessagehistory', 'langchain_community.utilities.nasa', 'nasaapiwrapper', 'langchain.agents.mrkl.output_parser', 'mrkloutputparser', 'langchain.agents.output_parsers.react_single_input', 'reactsingleinputoutputparser', 'lark.visitors', 'langchain_elasticsearch._sync.vectorstores', 'elasticsearchstore', 'langchain_community.tools.zapier.tool', 'zapiernlarunaction', 'zapiernlalistactions', 'langchain.evaluation.schema', 'llmevalchain', 'pairwisestringevaluator', 'agenttrajectoryevaluator', 'stringevaluator', 'evaluatortype', 'langchain_google_genai.google_vector_store', 'doesnotexistsexception', 'googlevectorstore', 'serversideembedding', 'langchain_community.utilities.you', 'youhit', 'youhitmetadata', 'youapioutput', 'yousearchapiwrapper', 'youdocument', 'langchain.retrievers.document_compressors.cohere_rerank', 'coherererank', 'langchain_core.messages.function', 'functionmessagechunk', 'functionmessage', 'langchain_cohere.chains.summarize.summarize_chain', 'create_summarize_prompt', 'langchain_community.example_selectors.ngram_overlap', 'ngram_overlap_score', 'ngramoverlapexampleselector', 'langchain_experimental.tabular_synthetic_data.base', 'syntheticdatagenerator', 'langchain_community.agent_toolkits.nla.toolkit', 'nlatoolkit', 'langchain_community.vectorstores.usearch', 'usearch', 'dependable_usearch_import', 'langchain_core.outputs.chat_generation', 'chatgenerationchunk', 'merge_chat_generation_chunks', 'chatgeneration', 'langchain.agents.output_parsers.json', 'jsonagentoutputparser', 'langchain_community.embeddings.cohere', 'cohereembeddings', 'langchain_core.language_models.fake_chat_models', 'genericfakechatmodel', 'parrotfakechatmodel', 'fakechatmodel', 'fakelistchatmodelerror', 'langchain_community.llms.openai', 'azureopenai', 'openai', 'completion_with_retry', 'baseopenai', 'openaichat', 'update_token_usage', 'langchain_community.document_loaders.news', 'newsurlloader', 'langchain_community.graph_vectorstores.extractors.keybert_link_extractor', 'keybertlinkextractor', 'langchain_ai21.chat.chat_maestro', 'toolresources', 'chatmaestro', 'filesearchtoolresource', 'websearchtoolresource', 'langchain_community.vectorstores.tidb_vector', 'tidbvectorstore', 'langchain_community.tools.powerbi.tool', 'infopowerbitool', 'querypowerbitool', 'listpowerbitool', 'langchain_community.document_loaders.spreedly', 'spreedlyloader', 'langchain_community.tools.gmail.send_message', 'langchain_community.document_loaders.weather', 'weatherdataloader', 'langchain_ollama.chat_models', 'langchain_community.chat_message_histories.upstash_redis', 'upstashredischatmessagehistory', 'langchain_community.vectorstores.azure_cosmos_db', 'cosmosdbsimilaritytype', 'cosmosdbvectorsearchtype', 'azurecosmosdbvectorsearch', 'langchain_community.tools.ddg_search.tool', 'duckduckgosearchtool', 'ddginput', 'duckduckgosearchrun', 'duckduckgosearchresults', 'langchain_cerebras.chat_models', 'chatcerebras', 'langchain_community.document_loaders.blob_loaders.file_system', 'filesystemblobloader', 'langchain_cohere.react_multi_hop.prompt', 'convert_to_documents', 'multi_hop_prompt', 'render_observations', 'render_messages', 'render_structured_preamble', 'create_directly_answer_tool', 'render_role', 'render_tool', 'render_intermediate_steps', 'langchain_community.utilities.nvidia_riva', 'rivaauthmixin', 'sentinelt', 'audiostream', 'rivaasr', 'rivaaudioencoding', 'rivacommonconfigmixin', 'rivatts', 'langchain_community.memory.zep_memory', 'zepmemory', 'langchain_experimental.plan_and_execute.agent_executor', 'planandexecute', 'langchain.memory.buffer_window', 'conversationbufferwindowmemory', 'langchain_core.embeddings.fake', 'deterministicfakeembedding', 'fakeembeddings', 'langchain_community.document_loaders.llmsherpa', 'llmsherpafileloader', 'langchain_community.chat_models.symblai_nebula', 'chatnebula', 'langchain_community.vectorstores.hologres', 'hologres', 'langchain_community.utilities.jina_search', 'jinasearchapiwrapper', 'langchain_community.chat_models.moonshot', 'moonshotchat', 'langchain_community.vectorstores.documentdb', 'documentdbsimilaritytype', 'documentdbvectorsearch', 'langchain_community.utilities.oracleai', 'oraclesummary', 'langchain_community.utilities.reddit_search', 'redditsearchapiwrapper', 'langchain_community.utilities.portkey', 'portkey', 'langchain_community.chat_models.cloudflare_workersai', 'chatcloudflareworkersai', 'langchain_community.graphs.nebula_graph', 'nebulagraph', 'langchain_community.tools.pubmed.tool', 'pubmedqueryrun', 'langchain_nomic.embeddings', 'nomicembeddings', 'langchain_community.query_constructors.mongodb_atlas', 'mongodbatlastranslator', 'langchain_community.vectorstores.thirdai_neuraldb', 'neuraldbclientvectorstore', 'neuraldbvectorstore', 'langchain_community.chains.openapi.chain', 'openapiendpointchain', 'langchain_ollama.embeddings', 'ollamaembeddings', 'langchain_community.retrievers.zep', 'zepretriever', 'searchtype', 'searchscope', 'langchain_community.chat_message_histories.dynamodb', 'dynamodbchatmessagehistory', 'convert_messages', 'langchain.callbacks.streaming_aiter', 'asynciteratorcallbackhandler', 'langchain_community.llms.cohere', 'basecohere', 'cohere', 'langchain_openai.llms.azure', 'langchain_community.utilities.opaqueprompts', 'sanitize', 'desanitize', 'langchain_community.tools.json.tool', 'jsongetvaluetool', 'jsonlistkeystool', 'jsonspec', 'langchain_core.prompts.base', 'format_document', 'aformat_document', 'baseprompttemplate', 'langchain_prompty.langchain', 'create_chat_prompt', 'langchain_core.output_parsers.pydantic', 'pydanticoutputparser', 'langchain_community.graph_vectorstores.base', 'nodes_to_documents', 'graphvectorstore', 'graphvectorstoreretriever', 'langchain_community.utilities.google_trends', 'googletrendsapiwrapper', 'langchain_openai.chat_models.base', 'openairefusalerror', 'basechatopenai', 'langchain_community.utilities.stackexchange', 'stackexchangeapiwrapper', 'langchain_elasticsearch._sync.cache', 'elasticsearchembeddingscache', 'elasticsearchcache', 'langchain_community.tools.stackexchange.tool', 'stackexchangetool', 'langchain_core.messages.human', 'humanmessagechunk', 'humanmessage', 'langchain_community.chat_models.coze', 'chatcoze', 'langchain_google_community.gmail.toolkit', 'langchain_core.runnables.utils', 'accepts_config', 'isfunctionargdict', 'is_async_callable', 'addabledict', 'accepts_context', 'supportsadd', 'accepts_run_manager', 'add', 'is_async_generator', 'islocaldict', 'configurablefieldspec', 'nonlocals', 'coro_with_context', 'functionnonlocals', 'gather_with_concurrency', 'gated_coro', 'get_lambda_source', 'indent_lines_after_first', 'aadd', 'getlambdasource', 'get_unique_config_specs', 'get_function_first_arg_dict_keys', 'langchain_community.vectorstores.faiss', 'faiss', 'dependable_faiss_import', 'langchain.evaluation.agents.trajectory_eval_chain', 'trajectoryeval', 'trajectoryoutputparser', 'trajectoryevalchain', 'langchain_core.outputs.llm_result', 'llmresult', 'langchain_community.tools.azure_ai_services.image_analysis', 'azureaiservicesimageanalysistool', 'langchain.agents.conversational_chat.output_parser', 'convooutputparser', 'langchain_core.utils.strings', 'stringify_dict', 'comma_list', 'stringify_value', 'langchain_community.callbacks.upstash_ratelimit_callback', 'upstashratelimithandler', 'upstashratelimiterror', 'langchain_community.retrievers.cohere_rag_retriever', 'cohereragretriever', 'langchain_community.vectorstores.azuresearch', 'azuresearchvectorstoreretriever', 'azuresearch', 'langchain_community.callbacks.streamlit.streamlit_callback_handler', 'llmthoughtstate', 'toolrecord', 'llmthought', 'streamlitcallbackhandler', 'llmthoughtlabeler', 'langchain_core.example_selectors.semantic_similarity', 'maxmarginalrelevanceexampleselector', 'sorted_values', 'semanticsimilarityexampleselector', 'langchain_community.tools.google_trends.tool', 'googletrendsqueryrun', 'langchain_text_splitters.sentence_transformers', 'sentencetransformerstokentextsplitter', 'langchain_neo4j.graphs.graph_store', 'graphstore', 'langchain_community.llms.google_palm', 'googlepalm', 'langchain_community.retrievers.web_research', 'questionlistoutputparser', 'searchqueries', 'webresearchretriever', 'langchain_community.document_loaders.parsers.language.csharp', 'csharpsegmenter', 'langchain_milvus.utils.sparse', 'basesparseembedding', 'bm25sparseembedding', 'langchain_community.llms.replicate', 'replicate', 'langchain_community.utilities.openweathermap', 'openweathermapapiwrapper', 'langchain.chat_models.base', 'init_chat_model', 'langchain_community.adapters.openai', 'convert_message_to_dict', 'convert_openai_messages', 'completions', 'choicechunk', 'aenumerate', 'choice', 'chatcompletion', 'chat', 'indexablebasemodel', 'chatcompletions', 'convert_messages_for_finetuning', 'convert_dict_to_message', 'chatcompletionchunk', 'langchain_huggingface.chat_models.huggingface', 'tgi_response', 'tgi_message', 'chathuggingface', 'langchain_community.chat_message_histories.sql', 'create_message_model', 'basemessageconverter', 'defaultmessageconverter', 'sqlchatmessagehistory', 'langchain.chains.api.base', 'apichain', 'langchain_community.agent_toolkits.nasa.toolkit', 'nasatoolkit', 'langchain_community.chat_message_histories.postgres', 'postgreschatmessagehistory', 'langchain_community.agent_toolkits.polygon.toolkit', 'polygontoolkit', 'langchain_community.memory.zep_cloud_memory', 'zepcloudmemory', 'langchain_community.vectorstores.upstash', 'upstashvectorstore', 'langchain_community.utilities.spark_sql', 'sparksql', 'langchain_community.document_loaders.parsers.documentloader_adapter', 'documentloaderasparser', 'langchain_core.vectorstores.in_memory', 'langchain_community.chains.graph_qa.ontotext_graphdb', 'ontotextgraphdbqachain', 'langchain_community.utilities.rememberizer', 'rememberizerapiwrapper', 'langchain_core.runnables.base', 'runnableparallel', 'chain', 'runnablebindingbase', 'runnablelambda', 'runnableeachbase', 'coerce_to_runnable', 'runnablebinding', 'runnablesequence', 'runnableeach', 'runnablegenerator', 'langchain_community.chat_models.naver', 'chatclovax', 'langchain_community.utilities.anthropic', 'get_token_ids_anthropic', 'get_num_tokens_anthropic', 'langchain_mongodb.retrievers.graphrag', 'langchain_community.callbacks.sagemaker_callback', 'sagemakercallbackhandler', 'save_json', 'langchain_experimental.comprehend_moderation.pii', 'comprehendpii', 'langchain_community.llms.manifest', 'manifestwrapper', 'langchain_aws.chat_models.bedrock', 'convert_messages_to_prompt_llama3', 'chatbedrock', 'convert_messages_to_prompt_deepseek', 'convert_messages_to_prompt_mistral', 'chatpromptadapter', 'convert_messages_to_prompt_anthropic', 'convert_messages_to_prompt_llama', 'langchain_community.agent_toolkits.openapi.base', 'create_openapi_agent', 'langchain_community.llms.baidu_qianfan_endpoint', 'qianfanllmendpoint', 'langchain_community.utilities.asknews', 'asknewsapiwrapper', 'langchain_community.agent_toolkits.clickup.toolkit', 'clickuptoolkit', 'langchain_google_community.bq_storage_vectorstores.bigquery', 'langchain_community.utilities.dria_index', 'driaapiwrapper', 'langchain_experimental.tools.python.tool', 'pythonastrepltool', 'pythonrepltool', 'pythoninputs', 'sanitize_input', 'langchain_core.tools.convert', 'tool', 'convert_runnable_to_tool', 'langchain.chains.elasticsearch_database.base', 'elasticsearchdatabasechain', 'langchain_core.utils.interactive_env', 'is_interactive_env', 'langchain_community.vectorstores.typesense', 'typesense', 'langchain_nvidia_ai_endpoints.embeddings', 'nvidiaembeddings', 'langchain_community.utilities.apify', 'apifywrapper', 'langchain_community.document_loaders.git', 'gitloader', 'langchain_mongodb.pipelines', 'langchain.memory.chat_memory', 'basechatmemory', 'langchain.chains.router.llm_router', 'routeroutputparser', 'llmrouterchain', 'langchain_astradb.utils.astradb', 'setupmode', 'hybridsearchmode', 'astradberror', 'langchain_community.document_loaders.assemblyai', 'assemblyaiaudioloaderbyid', 'transcriptformat', 'assemblyaiaudiotranscriptloader', 'langchain_community.document_loaders.rst', 'unstructuredrstloader', 'langchain_core.callbacks.file', 'filecallbackhandler', 'langchain_community.chat_message_histories.cosmos_db', 'langchain_aws.graphs.neptune_rdf_graph', 'neptunerdfgraph', 'langchain_google_community.calendar.delete_event', 'langchain_community.document_compressors.llmlingua_filter', 'llmlinguacompressor', 'langchain_community.tools.google_books', 'googlebooksqueryinput', 'googlebooksqueryrun', 'langchain_community.tools.financial_datasets.balance_sheets', 'balancesheets', 'balancesheetsschema', 'langchain_elasticsearch.cache', 'asyncelasticsearchembeddingscache', 'asyncelasticsearchcache', 'langchain_experimental.recommenders.amazon_personalize', 'amazonpersonalize', 'langchain_core.prompts.string', 'jinja2_formatter', 'mustache_formatter', 'check_valid_template', 'mustache_template_vars', 'stringprompttemplate', 'mustache_schema', 'get_template_variables', 'validate_jinja2', 'langchain_core.agents', 'agentstep', 'agentfinish', 'agentactionmessagelog', 'agentaction', 'langchain.agents.agent', 'basemultiactionagent', 'multiactionagentoutputparser', 'llmsingleactionagent', 'exceptiontool', 'agentexecutor', 'agentoutputparser', 'agent', 'runnablemultiactionagent', 'basesingleactionagent', 'runnableagent', 'langchain_core.utils.html', 'find_all_links', 'extract_sub_links', 'langchain_aws.function_calling', 'functiondescription', 'tooldescription', 'toolsoutputparser', 'convert_to_anthropic_tool', 'anthropictool', 'get_system_message', 'langchain_community.llms.outlines', 'outlines', 'langchain_community.retrievers.elastic_search_bm25', 'elasticsearchbm25retriever', 'langchain_community.embeddings.elasticsearch', 'langchain_community.utilities.golden_query', 'goldenqueryapiwrapper', 'langchain_community.tools.searx_search.tool', 'searxsearchresults', 'searxsearchrun', 'searxsearchqueryinput', 'langchain_community.document_compressors.rankllm_rerank', 'modeltype', 'rankllmrerank', 'langchain_community.llms.gpt4all', 'gpt4all', 'langchain_community.tools.e2b_data_analysis.unparse', 'unparser', 'interleave', 'roundtrip', 'langchain_experimental.tot.checker', 'totchecker', 'langchain_experimental.autonomous_agents.baby_agi.task_execution', 'taskexecutionchain', 'langchain_community.agent_toolkits.azure_ai_services', 'azureaiservicestoolkit', 'langchain_community.utilities.bibtex', 'bibtexparserwrapper', 'langchain_community.document_loaders.arcgis_loader', 'arcgisloader', 'langchain_community.tools.connery.service', 'conneryservice', 'langchain_core.output_parsers.json', 'jsonoutputparser', 'pydantic_settings.main', 'elasticsearch.helpers.vectorstore._sync.strategies', 'bm25strategy', 'retrievalstrategy', 'densevectorscriptscorestrategy', 'sparsevectorstrategy', 'densevectorstrategy', 'langchain_experimental.video_captioning.models', 'videomodel', 'captionmodel', 'basemodel', 'audiomodel', 'langchain_community.tools.polygon.financials', 'polygonfinancials', 'langchain_core.runnables.config', 'merge_configs', 'acall_func_with_variable_args', 'call_func_with_variable_args', 'get_async_callback_manager_for_config', 'emptydict', 'patch_config', 'get_executor_for_config', 'get_callback_manager_for_config', 'ensure_config', 'run_in_executor', 'set_config_context', 'get_config_list', 'contextthreadpoolexecutor', 'langchain_community.document_loaders.parsers.txt', 'textparser', 'langchain_community.document_loaders.facebook_chat', 'facebookchatloader', 'concatenate_rows', 'langchain_community.graphs.kuzu_graph', 'kuzugraph', 'langchain_experimental.llm_bash.bash', 'bashprocess', 'langchain.agents.json_chat.base', 'create_json_chat_agent', 'langchain_experimental.llms.anthropic_functions', 'anthropicfunctions', 'tagparser', 'langchain_experimental.rl_chain.vw_logger', 'vwlogger', 'langchain_milvus.retrievers.milvus_hybrid_search', 'milvuscollectionhybridsearchretriever', 'typing', 'langchain_community.chat_models.bedrock', 'bedrockchat', 'langchain_community.tools.polygon.ticker_news', 'polygontickernews', 'langchain_community.agent_toolkits.openapi.planner', 'requestsposttoolwithparsing', 'requestsputtoolwithparsing', 'requestsgettoolwithparsing', 'requestspatchtoolwithparsing', 'requestsdeletetoolwithparsing', 'langchain_community.document_loaders.xml', 'unstructuredxmlloader', 'langchain_community.llms.bigdl_llm', 'bigdlllm', 'langchain_text_splitters.base', 'tokentextsplitter', 'language', 'tokenizer', 'split_text_on_tokens', 'langchain_community.document_loaders.docusaurus', 'docusaurusloader', 'langchain_community.document_loaders.quip', 'quiploader', 'langchain_google_community.gmail.base', 'langchain_community.llms.opaqueprompts', 'opaqueprompts', 'langchain_community.embeddings.yandex', 'yandexgptembeddings', 'langchain_experimental.llm_bash.prompt', 'bashoutputparser', 'langchain_core.callbacks.usage', 'get_usage_metadata_callback', 'usagemetadatacallbackhandler', 'langchain.agents.output_parsers.xml', 'xmlagentoutputparser', 'langchain_community.tools.azure_ai_services.document_intelligence', 'azureaiservicesdocumentintelligencetool', 'langchain_community.document_loaders.parsers.generic', 'mimetypebasedparser', 'langchain_community.document_loaders.vsdx', 'vsdxloader', 'langchain_community.chat_models.sambanova', 'chatsambastudio', 'chatsambanovacloud', 'langchain_redis.config', 'redisconfig', 'langchain_community.llms.mlflow', 'mlflow', 'langchain_community.agent_toolkits.ainetwork.toolkit', 'ainetworktoolkit', 'langchain_community.vectorstores.manticore_search', 'manticoresearchsettings', 'manticoresearch', 'langchain.evaluation.parsing.base', 'jsonvalidityevaluator', 'jsonequalityevaluator', 'langchain_community.document_loaders.mintbase', 'mintbasedocumentloader', 'langchain_community.callbacks.flyte_callback', 'flytecallbackhandler', 'import_flytekit', 'langchain_community.llms.yandex', 'yandexgpt', 'langchain.chains.combine_documents.map_rerank', 'maprerankdocumentschain', 'langchain_community.query_constructors.astradb', 'astradbtranslator', 'langchain_community.tools.connery.tool', 'conneryaction', 'langchain_community.document_loaders.chromium', 'asyncchromiumloader', 'langchain_aws.agents.types', 'inlineagentconfiguration', 'bedrockagentfinish', 'guardrailconfiguration', 'bedrockagentaction', 'knowledgebaseconfiguration', 'langchain_core.document_loaders.blob_loaders', 'blobloader', 'langchain_community.vectorstores.nucliadb', 'nucliadb', 'langchain_community.document_loaders.blackboard', 'blackboardloader', 'langchain_community.chat_models.tongyi', 'chattongyi', 'convert_message_chunk_to_message', 'langchain_community.document_loaders.geodataframe', 'geodataframeloader', 'langchain_community.vectorstores.elasticsearch', 'approxretrievalstrategy', 'sparseretrievalstrategy', 'exactretrievalstrategy', 'baseretrievalstrategy', 'langchain.evaluation.parsing.json_schema', 'jsonschemaevaluator', 'langchain_community.query_constructors.dashvector', 'dashvectortranslator', 'langchain.agents.output_parsers.tools', 'toolsagentoutputparser', 'toolagentaction', 'parse_ai_message_to_tool_action', 'langchain_fireworks.embeddings', 'fireworksembeddings', 'langchain_community.vectorstores.tencentvectordb', 'translate_filter', 'tencentvectordb', 'connectionparams', 'metafield', 'indexparams', 'langchain_community.tools.merriam_webster.tool', 'merriamwebsterqueryrun', 'langchain_core.output_parsers.string', 'stroutputparser', 'langchain_community.tools.riza.command', 'execpythoninput', 'execjavascriptinput', 'execpython', 'execjavascript', 'langchain_community.agent_toolkits.jira.toolkit', 'jiratoolkit', 'langchain_community.embeddings.oci_generative_ai', 'ocigenaiembeddings', 'ociauthtype', 'langchain_core.tools.simple', 'langchain_community.document_loaders.hn', 'hnloader', 'langchain_community.query_constructors.chroma', 'chromatranslator', 'langchain_community.document_loaders.parsers.language.cpp', 'cppsegmenter', 'langchain_experimental.rl_chain.pick_best_chain', 'pickbestrandompolicy', 'pickbest', 'pickbestselected', 'pickbestfeatureembedder', 'pickbestevent', 'langchain_community.chat_message_histories.momento', 'momentochatmessagehistory', 'langchain_experimental.pal_chain.base', 'palvalidation', 'palchain', 'langchain_cohere.sql_agent.agent', 'langchain_google_vertexai.embeddings', 'googleembeddingmodelversion', 'vertexaiembeddings', 'googleembeddingmodeltype', 'langchain_community.embeddings.mosaicml', 'mosaicmlinstructorembeddings', 'langchain_openai.embeddings.base', 'langchain_community.tools.file_management.read', 'readfiletool', 'readfileinput', 'langchain_community.agent_toolkits.github.toolkit', 'getpr', 'readfile', 'directorypath', 'createpr', 'getissue', 'githubtoolkit', 'branchname', 'createreviewrequest', 'createfile', 'updatefile', 'commentonissue', 'tagname', 'searchissuesandprs', 'deletefile', 'noinput', 'searchcode', 'langchain_community.chat_loaders.gmail', 'langchain_community.utilities.dataherald', 'dataheraldapiwrapper', 'langchain_community.agent_toolkits.sql.toolkit', 'sqldatabasetoolkit', 'langchain.chains.router.multi_retrieval_qa', 'multiretrievalqachain', 'langchain_community.llms.mlx_pipeline', 'mlxpipeline', 'langchain_community.tools.edenai.edenai_base_tool', 'edenaitool', 'langchain_community.document_loaders.scrapfly', 'scrapflyloader', 'langchain_community.embeddings.sagemaker_endpoint', 'sagemakerendpointembeddings', 'embeddingscontenthandler', 'langchain_aws.graphs.neptune_graph', 'neptuneanalyticsgraph', 'baseneptunegraph', 'neptunegraph', 'neptunequeryexception', 'langchain_community.agent_toolkits.gmail.toolkit', 'langchain_community.utilities.graphql', 'graphqlapiwrapper', 'langchain_community.document_loaders.github', 'githubissuesloader', 'githubfileloader', 'basegithubloader', 'langchain_community.vectorstores.azure_cosmos_db_no_sql', 'azurecosmosdbnosqlvectorsearch', 'prefilter', 'condition', 'cosmosdbquerytype', 'langchain_community.document_loaders.telegram', 'telegramchatapiloader', 'telegramchatfileloader', 'text_to_docs', 'langchain.chains.query_constructor.schema', 'attributeinfo', 'langchain_community.llms.openllm', 'openllm', 'langchain_community.tools.playwright.click', 'clicktool', 'clicktoolinput', 'langchain_community.graph_vectorstores.extractors.gliner_link_extractor', 'glinerlinkextractor', 'langchain.agents.output_parsers.openai_tools', 'openaitoolsagentoutputparser', 'parse_ai_message_to_openai_tool_action', 'langchain_community.tools.cassandra_database.tool', 'basecassandradatabasetool', 'getschemacassandradatabasetool', 'querycassandradatabasetool', 'gettabledatacassandradatabasetool', 'langchain_community.embeddings.jina', 'get_bytes_str', 'jinaembeddings', 'is_local', 'langchain_community.document_transformers.doctran_text_translate', 'doctrantexttranslator', 'langchain_community.utils.math', 'cosine_similarity', 'cosine_similarity_top_k', 'langchain_aws.llms.sagemaker_endpoint', 'enforce_stop_tokens', 'langchain_community.chat_message_histories.neo4j', 'neo4jchatmessagehistory', 'langchain_community.tools.google_jobs.tool', 'googlejobsqueryrun', 'langchain.retrievers.self_query.base', 'selfqueryretriever', 'langchain.chains.conversational_retrieval.base', 'conversationalretrievalchain', 'inputtype', 'baseconversationalretrievalchain', 'chatvectordbchain', 'langchain_prompty.parsers', 'promptychatparser', 'rolemap', 'langchain_community.query_constructors.pgvector', 'pgvectortranslator', 'langchain_qdrant.sparse_embeddings', 'sparseembeddings', 'sparsevector', 'langchain_community.tools.azure_ai_services.utils', 'download_audio_from_url', 'detect_file_src_type', 'langchain_community.utilities.steam', 'steamwebapiwrapper', 'langchain.output_parsers.datetime', 'datetimeoutputparser', 'langchain_community.utilities.serpapi', 'hiddenprints', 'serpapiwrapper', 'langchain_community.utilities.tavily_search', 'tavilysearchapiwrapper', 'langchain_community.document_loaders.firecrawl', 'firecrawlloader', 'langchain_core.chat_history', 'basechatmessagehistory', 'inmemorychatmessagehistory', 'langchain_core.language_models.fake', 'fakelistllmerror', 'fakestreaminglistllm', 'fakelistllm', 'langchain_community.document_loaders.surrealdb', 'surrealdbloader', 'langchain_community.chat_models.google_palm', 'chatgooglepalmerror', 'chatgooglepalm', 'achat_with_retry', 'chat_with_retry', 'langchain_google_community.calendar.move_event', 'langchain_community.llms.titan_takeoff', 'readerconfig', 'device', 'titantakeoff', 'langchain_community.llms.ctranslate2', 'ctranslate2', 'langchain_community.llms.gigachat', 'gigachat', 'langchain_community.tools.office365.send_event', 'o365sendevent', 'sendeventschema', 'langchain_community.graphs.memgraph_graph', 'get_schema_subset', 'transform_schema_to_text', 'memgraphgraph', 'get_reformated_schema', 'langchain_pinecone.rerank', 'pineconererank', 'langchain_community.document_loaders.parsers.language.kotlin', 'kotlinsegmenter', 'langchain.output_parsers.retry', 'retrywitherroroutputparserretrychaininput', 'retrywitherroroutputparser', 'retryoutputparserretrychaininput', 'retryoutputparser', 'langchain_core.utils.input', 'get_color_mapping', 'get_colored_text', 'print_text', 'get_bolded_text', 'langchain_community.llms.baseten', 'baseten', 'langchain_community.graphs.graph_document', 'graphdocument', 'relationship', 'langchain_astradb.chat_message_histories', 'astradbchatmessagehistory', 'langchain_community.tools.plugin', 'aiplugintoolschema', 'aiplugin', 'aiplugintool', 'apiconfig', 'marshal_spec', 'langchain_core.document_loaders.base', 'baseblobparser', 'langchain_community.storage.astradb', 'langchain_google_community.gmail.send_message', 'langchain_community.llms.konko', 'konko', 'langchain_community.document_loaders.gcs_file', 'langchain.evaluation.qa.eval_chain', 'qaevalchain', 'cotqaevalchain', 'contextqaevalchain', 'langchain_community.query_constructors.opensearch', 'opensearchtranslator', 'langchain_community.tools.office365.utils', 'clean_body', 'langchain_community.tools.gmail.utils', 'import_google', 'import_installed_app_flow', 'import_googleapiclient_resource_builder', 'langchain_core.runnables.configurable', 'make_options_spec', 'runnableconfigurablealternatives', 'dynamicrunnable', 'runnableconfigurablefields', 'prefix_config_spec', 'strenum', 'langchain_community.document_loaders.unstructured', 'satisfies_min_unstructured_version', 'unstructuredfileioloader', 'unstructuredfileloader', 'get_elements_from_api', 'unstructuredbaseloader', 'unstructuredapifileioloader', 'unstructuredapifileloader', 'validate_unstructured_version', 'langchain_community.chat_message_histories.kafka', 'kafkachatmessagehistory', 'ensure_topic_exists', 'consumestartposition', 'langchain_community.retrievers.pinecone_hybrid_search', 'hash_text', 'pineconehybridsearchretriever', 'langchain_community.document_loaders.tidb', 'tidbloader', 'langchain_community.document_loaders.sharepoint', 'sharepointloader', 'langchain_community.tools.jina_search.tool', 'jinasearch', 'jinainput', 'langchain.agents.format_scratchpad.log_to_messages', 'format_log_to_messages', 'langchain_community.chat_models.dappier', 'chatdappierai', 'langchain_community.embeddings.nlpcloud', 'nlpcloudembeddings', 'langchain_community.tools.amadeus.utils', 'langchain_qdrant.fastembed_sparse', 'fastembedsparse', 'langchain.memory.utils', 'get_prompt_input_key', 'langchain_community.llms.exllamav2', 'exllamav2', 'langchain_community.document_loaders.azure_ai_data', 'azureaidataloader', 'langchain_community.document_loaders.scrapingant', 'scrapingantloader', 'langchain_community.chat_message_histories.streamlit', 'streamlitchatmessagehistory', 'langchain_community.tools.google_lens.tool', 'googlelensqueryrun', 'langchain_community.agent_toolkits.cassandra_database.toolkit', 'cassandradatabasetoolkit', 'langchain_community.tools.slack.get_channel', 'slackgetchannel', 'langchain_community.embeddings.laser', 'laserembeddings', 'langchain_core.documents.transformers', 'basedocumenttransformer', 'langchain_community.embeddings.model2vec', 'model2vecembeddings', 'langchain_community.graphs.neo4j_graph', 'neo4jgraph', 'clean_string_values', 'value_sanitize', 'langchain_core.output_parsers.xml', 'nested_element', 'xmloutputparser', 'langchain_community.embeddings.octoai_embeddings', 'octoaiembeddings', 'langchain_community.vectorstores.sqlitevec', 'serialize_f32', 'sqlitevec', 'langchain_community.query_constructors.supabase', 'supabasevectortranslator', 'langchain_community.tools.gmail.base', 'langchain_community.tools.financial_datasets.cash_flow_statements', 'cashflowstatementsschema', 'cashflowstatements', 'langchain_deepseek.chat_models', 'chatdeepseek', 'langchain_community.vectorstores.kinetica', 'dimension', 'kinetica', 'kineticasettings', 'langchain_community.chat_models.kinetica', 'chatkinetica', 'kineticasqloutputparser', 'kineticasqlresponse', 'kineticautil', 'langchain_community.llms.aleph_alpha', 'alephalpha', 'langchain_community.vectorstores.atlas', 'atlasdb', 'langchain_community.chains.llm_requests', 'llmrequestschain', 'langchain_community.llms.sambanova', 'sambastudio', 'sambanovacloud', 'langchain_community.tools.youtube.search', 'youtubesearchtool', 'langchain_community.tools.openai_dalle_image_generation.tool', 'openaidalleimagegenerationtool', 'langchain_community.document_loaders.spider', 'spiderloader', 'langchain_community.embeddings.ollama', 'langchain_experimental.autonomous_agents.hugginggpt.repsonse_generator', 'responsegenerator', 'load_response_generator', 'responsegenerationchain', 'langchain_experimental.comprehend_moderation.base_moderation_exceptions', 'moderationpromptsafetyerror', 'moderationpiierror', 'moderationtoxicityerror', 'langchain_community.tools.tavily_search.tool', 'tavilysearchresults', 'tavilyanswer', 'tavilyinput', 'langchain_community.chat_message_histories.firestore', 'firestorechatmessagehistory', 'langchain_core.prompts.structured', 'structuredprompt', 'langchain_community.document_loaders.airtable', 'airtableloader', 'langchain_text_splitters.json', 'recursivejsonsplitter', 'langchain_community.chat_models.everlyai', 'chateverlyai', 'langchain_community.llms.writer', 'writer', 'html.parser', 'langchain_community.document_loaders.obs_directory', 'obsdirectoryloader', 'langchain_experimental.plan_and_execute.schema', 'planoutputparser', 'stepresponse', 'step', 'plan', 'liststepcontainer', 'basestepcontainer', 'langchain_community.tools.azure_ai_services.text_analytics_for_health', 'azureaiservicestextanalyticsforhealthtool', 'langchain_community.vectorstores.zep_cloud', 'zepcloudvectorstore', 'langchain_core.output_parsers.transform', 'basetransformoutputparser', 'basecumulativetransformoutputparser', 'langchain.evaluation.exact_match.base', 'exactmatchstringevaluator', 'langchain_community.document_loaders.etherscan', 'etherscanloader', 'langchain_community.document_loaders.datadog_logs', 'datadoglogsloader', 'langchain_community.document_loaders.url_selenium', 'seleniumurlloader', 'langchain_experimental.smart_llm.base', 'smartllmchain', 'langchain.chains.prompt_selector', 'conditionalpromptselector', 'basepromptselector', 'is_llm', 'is_chat_model', 'langchain_community.llms.llamafile', 'llamafile', 'langchain_experimental.llms.jsonformer_decoder', 'import_jsonformer', 'jsonformer', 'langchain_core.prompts.image', 'imageprompttemplate', 'langchain_community.callbacks.whylabs_callback', 'whylabscallbackhandler', 'import_langkit', 'langchain.callbacks.tracers.logging', 'loggingcallbackhandler', 'langchain_community.vectorstores.vearch', 'vearch', 'langchain_community.llms.predictionguard', 'predictionguard', 'langchain_community.tools.ainetwork.transfer', 'transferschema', 'aintransfer', 'langchain_community.document_loaders.onedrive_file', 'onedrivefileloader', 'langchain_mongodb.cache', 'langchain_community.tools.azure_cognitive_services.speech2text', 'azurecogsspeech2texttool', 'langchain_community.document_loaders.async_html', 'asynchtmlloader', 'langchain_experimental.fallacy_removal.models', 'logicalfallacy', 'langchain_core.output_parsers.openai_tools', 'parse_tool_calls', 'make_invalid_tool_call', 'jsonoutputtoolsparser', 'pydantictoolsparser', 'jsonoutputkeytoolsparser', 'parse_tool_call', 'langchain_community.document_loaders.parsers.language.elixir', 'elixirsegmenter', 'langchain_community.vectorstores.tablestore', 'tablestorevectorstore', 'langchain_nvidia_ai_endpoints.chat_models', 'chatnvidia', 'langchain_community.tools.nasa.tool', 'nasaaction', 'langchain_community.document_loaders.readthedocs', 'readthedocsloader', 'langchain_community.chains.pebblo_retrieval.models', 'framework', 'semanticcontext', 'vectordb', 'model', 'context', 'chaininfo', 'authcontext', 'semantictopics', 'qa', 'runtime', 'app', 'chaininput', 'prompt', 'pkginfo', 'semanticentities', 'langchain.chains.natbot.base', 'natbotchain', 'langchain_community.chat_message_histories.singlestoredb', 'singlestoredbchatmessagehistory', 'langchain_community.document_loaders.max_compute', 'maxcomputeloader', 'langchain_community.output_parsers.ernie_functions', 'pydanticattroutputfunctionsparser', 'jsonoutputfunctionsparser', 'outputfunctionsparser', 'jsonkeyoutputfunctionsparser', 'pydanticoutputfunctionsparser', 'langchain_community.document_compressors.volcengine_rerank', 'volcenginererank', 'langchain_community.vectorstores.databricks_vector_search', 'databricksvectorsearch', 'langchain_community.vectorstores.vlite', 'vlite', 'langchain_community.query_constructors.hanavector', 'hanatranslator', 'langchain_community.vectorstores.awadb', 'awadb', 'langchain_community.query_constructors.deeplake', 'can_cast_to_float', 'deeplaketranslator', 'langchain_aws.agents.base', 'bedrockagentsrunnable', 'bedrockinlineagentsrunnable', 'langchain_google_vertexai.evaluators._core', 'langchain_experimental.graph_transformers.llm', 'format_property_key', 'unstructuredrelation', 'create_simple_model', 'map_to_base_node', 'map_to_base_relationship', 'llmgraphtransformer', 'optional_enum_field', 'create_unstructured_prompt', 'validate_and_get_relationship_type', 'get_default_prompt', 'langchain_community.document_loaders.generic', 'genericloader', 'langchain_community.llms.beam', 'beam', 'langchain_community.agent_toolkits.file_management.toolkit', 'filemanagementtoolkit', 'langchain.retrievers.document_compressors.chain_extract', 'default_get_input', 'nooutputparser', 'llmchainextractor', 'langchain_upstage.chat_models', 'chatupstage', 'langchain_community.tools.edenai.ocr_invoiceparser', 'edenaiparsinginvoicetool', 'invoiceparsinginput', 'langchain_text_splitters.nltk', 'nltktextsplitter', 'langchain_experimental.comprehend_moderation.base_moderation', 'basemoderation', 'langchain_community.llms.tongyi', 'agenerate_with_last_element_mark', 'tongyi', 'check_response', 'astream_generate_with_retry', 'stream_generate_with_retry', 'generate_with_retry', 'generate_with_last_element_mark', 'langchain_community.document_compressors.infinity_rerank', 'infinityrerank', 'langchain_perplexity.chat_models', 'chatperplexity', 'langchain_community.tools.human.tool', 'humaninputrun', 'langchain_community.document_loaders.hugging_face_model', 'huggingfacemodelloader', 'langchain.retrievers.document_compressors.chain_filter', 'llmchainfilter', 'langchain_community.llms.bananadev', 'banana', 'langchain_elasticsearch.retrievers', 'asyncelasticsearchretriever', 'langchain.agents.structured_chat.output_parser', 'structuredchatoutputparser', 'structuredchatoutputparserwithretries', 'langchain_community.embeddings.xinference', 'xinferenceembeddings', 'langchain_community.document_loaders.couchbase', 'couchbaseloader', 'langchain_community.embeddings.huggingface', 'huggingfacebgeembeddings', 'huggingfaceinstructembeddings', 'huggingfaceinferenceapiembeddings', 'huggingfaceembeddings', 'langchain_community.tools.file_management.write', 'writefileinput', 'writefiletool', 'langchain_community.embeddings.openvino', 'openvinobgeembeddings', 'openvinoembeddings', 'langchain_ibm.utils', 'check_duplicate_chat_params', 'extract_chat_params', 'check_for_attribute', 'convert_to_watsonx_tool', 'extract_params', 'langchain_community.graph_vectorstores.extractors.hierarchy_link_extractor', 'hierarchylinkextractor', 'langchain_ibm.rerank', 'watsonxrerank', 'langchain_experimental.plan_and_execute.planners.chat_planner', 'load_chat_planner', 'planningoutputparser', 'langchain_community.vectorstores.docarray.hnsw', 'docarrayhnswsearch', 'langchain_community.chains.openapi.response_chain', 'apiresponderoutputparser', 'apiresponderchain', 'langchain_community.document_loaders.glue_catalog', 'gluecatalogloader', 'langchain.agents.conversational.output_parser', 'langchain_aws.utilities.utils', 'langchain_community.document_loaders.dropbox', 'dropboxloader', 'langchain_community.tools.multion.create_session', 'createsessionschema', 'multioncreatesession', 'langchain_community.document_loaders.powerpoint', 'unstructuredpowerpointloader', 'langchain_community.graphs.hugegraph', 'hugegraph', 'langchain_aws.chat_models.bedrock_converse', 'chatbedrockconverse', 'langchain_community.embeddings.voyageai', 'voyageembeddings', 'langchain_community.llms.huggingface_endpoint', 'huggingfaceendpoint', '_markupbase', 'langchain_community.retrievers.remote_retriever', 'remotelangchainretriever', 'langchain_community.utilities.dataforseo_api_search', 'dataforseoapiwrapper', 'langchain_community.embeddings.baichuan', 'baichuantextembeddings', 'langchain_huggingface.llms.huggingface_endpoint', 'langchain_community.callbacks.openai_info', 'get_openai_token_cost_for_model', 'tokentype', 'openaicallbackhandler', 'standardize_model_name', 'langchain_community.document_loaders.imsdb', 'imsdbloader', 'langchain_community.document_loaders.evernote', 'evernoteloader', 'langchain_experimental.chat_models.llm_wrapper', 'vicuna', 'llama2chat', 'chatwrapper', 'mixtral', 'orca', 'langchain_experimental.cpal.base', 'cpalchain', 'causalchain', 'querychain', 'narrativechain', 'interventionchain', 'langchain_experimental.video_captioning.services.combine_service', 'combineprocessor', 'langchain_community.embeddings.fastembed', 'fastembedembeddings', 'langchain_astradb.utils.mmr_helper', 'mmrhelper', 'langchain_community.tools.office365.send_message', 'o365sendmessage', 'langchain_community.llms.huggingface_pipeline', 'huggingfacepipeline', 'langchain_community.chat_models.minimax', 'aconnect_httpx_sse', 'minimaxchat', 'connect_httpx_sse', 'langchain_community.llms.ipex_llm', 'ipexllm', 'langchain_community.graphs.gremlin_graph', 'gremlingraph', 'langchain_community.retrievers.needle', 'needleretriever', 'langchain_community.retrievers.asknews', 'asknewsretriever', 'langchain_community.vectorstores.opensearch_vector_search', 'opensearchvectorsearch', 'langchain_community.llms.solar', 'solar', 'solarcommon', 'langchain_community.tools.wolfram_alpha.tool', 'wolframalphaqueryrun', 'langchain_core.prompts.dict', 'dictprompttemplate', 'langchain_community.embeddings.google_palm', 'googlepalmembeddings', 'langchain_community.llms.gradient_ai', 'trainresult', 'gradientllm', 'langchain_community.tools.semanticscholar.tool', 'semanticscholarqueryrun', 'semantscholarinput', 'langchain_google_vertexai.vision_models', 'vertexaiimagecaptioningchat', 'vertexaivisualqnachat', 'vertexaiimagegeneratorchat', 'vertexaiimageeditorchat', 'vertexaiimagecaptioning', 'langchain_community.chat_message_histories.zep_cloud', 'zepcloudchatmessagehistory', 'get_zep_message_role_type', 'condense_zep_memory_into_human_message', 'langchain_community.chat_models.litellm_router', 'get_llm_output', 'chatlitellmrouter', 'langchain_experimental.llms.llamaapi', 'chatllamaapi', 'langchain_community.tools.gmail.get_message', 'langchain_aws.chat_models.sagemaker_endpoint', 'chatmodelcontenthandler', 'chatlineiterator', 'chatsagemakerendpoint', 'langchain_community.document_loaders.tsv', 'unstructuredtsvloader', 'langchain_community.query_constructors.timescalevector', 'timescalevectortranslator', 'langchain_community.document_loaders.parsers.language.language_parser', 'languageparser', 'langchain_community.document_loaders.notiondb', 'notiondbloader', 'langchain_exa.retrievers', 'exasearchretriever', 'langchain.agents.conversational.base', 'conversationalagent', 'langchain_community.tools.playwright.utils', 'create_async_playwright_browser', 'get_current_page', 'run_async', 'create_sync_playwright_browser', 'aget_current_page', 'langchain_community.docstore.in_memory', 'inmemorydocstore', 'langchain_core.runnables.schema', 'customstreamevent', 'basestreamevent', 'standardstreamevent', 'eventdata', 'langchain_community.document_loaders.diffbot', 'diffbotloader', 'langchain_community.graph_vectorstores.extractors.link_extractor_transformer', 'linkextractortransformer', 'langchain_community.tools.amadeus.base', 'amadeusbasetool', 'langchain.chains.question_answering.chain', 'load_qa_chain', 'langchain_text_splitters.konlpy', 'konlpytextsplitter', 'langchain_tests.unit_tests.tools', 'toolsunittests', 'langchain_community.chat_models.ernie', 'erniebotchat', 'langchain_community.utilities.pubmed', 'pubmedapiwrapper', 'langchain_community.chat_models.gigachat', 'langchain.chains.conversation.base', 'conversationchain', 'langchain_mongodb.vectorstores', 'langchain_milvus.retrievers.zilliz_cloud_pipeline_retriever', 'zillizcloudpipelineretriever', 'langchain_community.query_constructors.neo4j', 'neo4jtranslator', 'langchain_community.agent_toolkits.steam.toolkit', 'steamtoolkit', 'langchain_core.tools.render', 'render_text_description', 'render_text_description_and_args', 'langchain_core.tracers.core', 'langchain_aws.embeddings.bedrock', 'langchain.retrievers.parent_document_retriever', 'parentdocumentretriever', 'langchain_community.chat_loaders.utils', 'map_ai_messages', 'merge_chat_runs', 'merge_chat_runs_in_session', 'map_ai_messages_in_session', 'langchain_core.runnables.retry', 'runnableretry', 'langchain_experimental.llm_bash.base', 'llmbashchain', 'langchain_community.llms.rwkv', 'rwkv', 'langchain_milvus.vectorstores.zilliz', 'zilliz', 'langchain_experimental.agents.agent_toolkits.pandas.base', 'create_pandas_dataframe_agent', 'langchain_core.messages.utils', 'merge_message_runs', 'count_tokens_approximately', 'message_chunk_to_message', 'get_buffer_string', 'filter_messages', 'convert_to_messages', 'trim_messages', 'messages_from_dict', 'convert_to_openai_messages', 'langchain_community.chat_message_histories.rocksetdb', 'rocksetchatmessagehistory', 'langchain_text_splitters.jsx', 'jsframeworktextsplitter', 'langchain_community.vectorstores.sqlitevss', 'sqlitevss', 'langchain_community.document_transformers.doctran_text_extract', 'doctranpropertyextractor', 'langchain_community.llms.chatglm3', 'chatglm3', 'langchain_community.document_loaders.psychic', 'psychicloader', 'langchain_community.tools.playwright.extract_text', 'extracttexttoolinput', 'extracttexttool', 'langchain_community.document_loaders.roam', 'roamloader', 'langchain_community.llms.azureml_endpoint', 'gpt2contentformatter', 'llamacontentformatter', 'customopenaicontentformatter', 'osscontentformatter', 'azuremlonlineendpoint', 'dollycontentformatter', 'contentformatterbase', 'azuremlendpointclient', 'hfcontentformatter', 'azuremlbaseendpoint', 'azuremlendpointapitype', 'langchain_community.document_loaders.acreom', 'acreomloader', 'langchain.agents.agent_toolkits.conversational_retrieval.openai_functions', 'create_conversational_retrieval_agent', 'langchain_community.vectorstores.starrocks', 'starrocks', 'get_named_result', 'debug_output', 'starrockssettings', 'langchain_community.chat_loaders.whatsapp', 'whatsappchatloader', 'langchain_community.llms.cerebriumai', 'cerebriumai', 'langchain.agents.tools', 'invalidtool', 'langchain_core.tracers.langchain', 'wait_for_all_tracers', 'langchaintracer', 'log_error_once', 'langchain_community.llms.minimax', 'minimaxcommon', 'minimax', 'langchain_community.callbacks.promptlayer_callback', 'promptlayercallbackhandler', 'langchain_groq.chat_models', 'chatgroq', 'langchain_community.document_transformers.google_translate', 'langchain_core.runnables.fallbacks', 'runnablewithfallbacks', 'langchain_community.tools.scenexplain.tool', 'scenexplaininput', 'scenexplaintool', 'langchain_community.tools.amadeus.closest_airport', 'closestairportschema', 'amadeusclosestairport', 'langchain_community.tools.bing_search.tool', 'bingsearchrun', 'bingsearchresults', 'langchain_community.document_loaders.web_base', 'webbaseloader', 'langchain_community.chains.graph_qa.cypher_utils', 'langchain_core.example_selectors.length_based', 'lengthbasedexampleselector', 'langchain_community.graphs.neptune_graph', 'langchain.memory.readonly', 'readonlysharedmemory', 'langchain.evaluation.criteria.eval_chain', 'criteriaevalchain', 'criteria', 'labeledcriteriaevalchain', 'criteriaresultoutputparser', 'resolve_criteria', 'langchain_google_vertexai.gemma', 'gemmalocalhf', 'gemmachatlocalhf', 'gemma_messages_to_prompt', 'gemmalocalkaggle', 'gemmachatvertexaimodelgarden', 'gemmachatlocalkaggle', 'gemmavertexaimodelgarden', 'langchain_azure_ai.utils.math', 'langchain_community.graphs.tigergraph_graph', 'tigergraph', 'langchain_community.graph_vectorstores.extractors.link_extractor', 'linkextractor', 'langchain_community.tools.clickup.tool', 'clickupaction', 'langchain_community.vectorstores.chroma', 'chroma', 'langchain_community.tools.slack.utils', 'login', 'langchain_community.retrievers.kay', 'kayairetriever', 'langchain_community.document_loaders.parsers.language.javascript', 'javascriptsegmenter', 'langchain.output_parsers.combining', 'combiningoutputparser', 'langchain.agents.mrkl.base', 'zeroshotagent', 'mrklchain', 'chainconfig', 'langchain_anthropic.experimental', 'chatanthropictools', 'langchain_community.utilities.wolfram_alpha', 'wolframalphaapiwrapper', 'langchain_aws.runnables.q_business', 'amazonq', 'langchain_prompty.core', 'invokerfactory', 'frontmatter', 'noopparser', 'templatesettings', 'param_hoisting', 'modelsettings', 'simplemodel', 'propertysettings', 'prompty', 'invoker', 'langchain_community.llms.vertexai', 'is_gemini_model', 'is_codey_model', 'vertexai', 'vertexaimodelgarden', 'langchain_together.llms', 'together', 'langchain_community.vectorstores.kdbai', 'kdbai', 'langchain_community.chat_message_histories.file', 'filechatmessagehistory', 'langchain_google_vertexai.chains', 'get_output_parser', 'create_structured_runnable', 'langchain_community.vectorstores.matching_engine', 'matchingengine', 'langchain_community.utilities.google_search', 'langchain_community.utilities.outline', 'outlineapiwrapper', 'langchain_text_splitters.character', 'recursivecharactertextsplitter', 'charactertextsplitter', 'langchain_community.retrievers.bedrock', 'vectorsearchconfig', 'retrievalconfig', 'amazonknowledgebasesretriever', 'langchain_community.callbacks.utils', 'flatten_dict', 'hash_string', 'basemetadatacallbackhandler', 'load_json', 'import_spacy', 'import_pandas', 'import_textstat', 'langchain_community.llms.huggingface_text_gen_inference', 'huggingfacetextgeninference', 'langchain_community.tools.office365.messages_search', 'o365searchemails', 'searchemailsinput', 'langchain_experimental.autonomous_agents.autogpt.prompt_generator', 'promptgenerator', 'langchain_ibm.embeddings', 'watsonxembeddings', 'langchain_community.chat_models.volcengine_maas', 'volcenginemaaschat', 'langchain_elasticsearch._async.vectorstores', 'asyncelasticsearchstore', 'langchain_community.tools.azure_ai_services.speech_to_text', 'azureaiservicesspeechtotexttool', 'langchain_experimental.utilities.python', 'pythonrepl', 'langchain_community.agent_toolkits.gitlab.toolkit', 'gitlabtoolkit', 'langchain_community.vectorstores.vald', 'vald', 'langchain_upstage.document_parse_parsers', 'parse_output', 'upstagedocumentparseparser', 'get_from_param_or_env', 'langchain_openai.chat_models.azure', 'langchain_community.tools.google_search.tool', 'langchain_google_community.gmail.search', 'langchain_community.vectorstores.duckdb', 'duckdb', 'langchain_elasticsearch.chat_history', 'asyncelasticsearchchatmessagehistory', 'elasticsearchchatmessagehistory', 'langchain_google_community.calendar.search_events', 'langchain_community.vectorstores.elastic_vector_search', 'elasticknnsearch', 'elasticvectorsearch', 'langchain_community.tools.nuclia.tool', 'nucliaunderstandingapi', 'nuaschema', 'langchain_community.indexes.base', 'recordmanager', 'langchain_core.tools.retriever', 'create_retriever_tool', 'retrieverinput', 'langchain_tests.integration_tests.chat_models', 'chatmodelintegrationtests', 'langchain_community.callbacks.confident_callback', 'deepevalcallbackhandler', 'langchain_community.llms.loading', 'load_llm_from_config', 'load_llm', 'langchain_ollama.llms', 'ollamallm', 'langchain_community.chat_models.mlx', 'chatmlx', 'langchain.retrievers.document_compressors.base', 'documentcompressorpipeline', 'langchain_core.output_parsers.base', 'basellmoutputparser', 'basegenerationoutputparser', 'baseoutputparser', 'langchain_community.vectorstores.zep', 'zepvectorstore', 'collectionconfig', 'langchain_community.agent_toolkits.openapi.toolkit', 'requeststoolkit', 'openapitoolkit', 'langchain_community.agent_toolkits.azure_cognitive_services', 'azurecognitiveservicestoolkit', 'langchain_tavily.tavily_extract', 'tavilyextract', 'tavilyextractinput', 'langchain_community.llms.watsonxllm', 'langchain_community.chat_models.solar', 'solarchat', 'langchain.agents.format_scratchpad.xml', 'format_xml', 'langchain_community.document_loaders.lakefs', 'lakefsloader', 'unstructuredlakefsloader', 'lakefsclient', 'langchain_community.document_loaders.whatsapp_chat', 'langchain_community.embeddings.oracleai', 'oracleembeddings', 'langchain_community.document_loaders.pubmed', 'pubmedloader', 'langchain_community.utilities.semanticscholar', 'semanticscholarapiwrapper', 'langchain_community.utilities.merriam_webster', 'merriamwebsterapiwrapper', 'langchain_community.vectorstores.cassandra', 'cassandra', 'langchain_community.vectorstores.relyt', 'relyt', 'langchain_postgres.translator', 'langchain_community.chains.graph_qa.sparql', 'graphsparqlqachain', 'langchain_experimental.plan_and_execute.executors.base', 'baseexecutor', 'chainexecutor', 'langchain_community.document_loaders.baiducloud_bos_directory', 'baidubosdirectoryloader', 'langchain_core.utils.function_calling', 'convert_to_openai_tool', 'convert_to_json_schema', 'tool_example_to_messages', 'convert_to_openai_function', 'convert_pydantic_to_openai_tool', 'format_tool_to_openai_tool', 'langchain_core.stores', 'invalidkeyexception', 'basestore', 'inmemorystore', 'inmemorybytestore', 'inmemorybasestore', 'langchain_community.document_loaders.rss', 'rssfeedloader', 'langchain_community.embeddings.minimax', 'minimaxembeddings', 'langchain_community.retrievers.tfidf', 'tfidfretriever', 'langchain_community.document_loaders.nuclia', 'nuclialoader', 'langchain_community.embeddings.baidu_qianfan_endpoint', 'qianfanembeddingsendpoint', 'langchain_core.load.dump', 'default', 'dumps', 'dumpd', 'langchain_nvidia_ai_endpoints.reranking', 'ranking', 'nvidiarerank', 'langchain_experimental.rl_chain.helpers', 'embed_string_type', 'is_stringtype_instance', 'embed', 'embed_dict_type', 'stringify_embedding', 'embed_list_type', 'langchain_community.document_loaders.html', 'unstructuredhtmlloader', 'langchain_community.document_loaders.twitter', 'twittertweetloader', 'langchain_community.graphs.rdf_graph', 'rdfgraph', 'langchain_experimental.recommenders.amazon_personalize_chain', 'amazonpersonalizechain', 'langchain.chains.llm_summarization_checker.base', 'llmsummarizationcheckerchain', 'langchain_community.utils.user_agent', 'get_user_agent', 'langchain_experimental.autonomous_agents.autogpt.prompt', 'autogptprompt', 'langchain_community.vectorstores.hippo', 'hippo', 'langchain_elasticsearch._async.retrievers', 'langchain_community.document_loaders.ifixit', 'ifixitloader', 'langchain_community.vectorstores.momento_vector_index', 'momentovectorindex', 'langchain_community.embeddings.optimum_intel', 'quantizedbiencoderembeddings', 'langchain_community.chat_models.reka', 'chatreka', 'process_content', 'convert_to_reka_messages', 'process_content_item', 'langchain_community.retrievers.rememberizer', 'rememberizerretriever', 'langchain_community.tools.spark_sql.tool', 'querycheckertool', 'listsparksqltool', 'basesparksqltool', 'infosparksqltool', 'querysparksqltool', 'langchain_community.chat_models.maritalk', 'chatmaritalk', 'maritalkhttperror', 'langchain_astradb.vectorstores', 'hybridlimitfactorprescription', 'astradbvectorstoreerror', 'astradbqueryresult', 'astradbvectorstore', 'langchain.output_parsers.pandas_dataframe', 'pandasdataframeoutputparser', 'langchain_community.embeddings.deepinfra', 'deepinfraembeddings', 'langchain_community.callbacks.mlflow_callback', 'import_mlflow', 'mlflowlogger', 'mlflowcallbackhandler', 'get_text_complexity_metrics', 'mlflow_callback_metrics', 'langchain_elasticsearch.embeddings', 'embeddingservice', 'langchain_google_community.calendar.current_datetime', 'langchain_community.retrievers.outline', 'outlineretriever', 'langchain_community.agent_toolkits.connery.toolkit', 'connerytoolkit', 'langchain_community.document_loaders.brave_search', 'bravesearchloader', 'langchain_community.embeddings.titan_takeoff', 'takeoffembeddingexception', 'missingconsumergroup', 'titantakeoffembed', 'langchain_core.indexing.base', 'deleteresponse', 'inmemoryrecordmanager', 'upsertresponse', 'documentindex', 'langchain_experimental.open_clip.open_clip', 'openclipembeddings', 'langchain_community.vectorstores.lantern', 'lantern', 'get_embedding_store', 'baseembeddingstore', 'langchain_community.query_constructors.milvus', 'process_value', 'milvustranslator', 'langchain_community.query_constructors.tencentvectordb', 'tencentvectordbtranslator', 'langchain.agents.format_scratchpad.log', 'format_log_to_str', 'langchain_text_splitters.spacy', 'spacytextsplitter', 'langchain_community.vectorstores.tair', 'tair', 'langchain_community.vectorstores.pgvecto_rs', 'pgvecto_rs', 'langchain_community.utilities.astradb', 'langchain_community.document_loaders.gitbook', 'gitbookloader', 'langchain_community.document_loaders.dedoc', 'dedocbaseloader', 'dedocfileloader', 'dedocapifileloader', 'langchain.agents.chat.output_parser', 'chatoutputparser', 'langchain_community.tools.zenguard.tool', 'detector', 'detectorapi', 'zenguardtool', 'zenguardinput', 'langchain_community.chat_message_histories.redis', 'redischatmessagehistory', 'langchain_neo4j.query_constructors.neo4j', 'langchain_community.llms.together', 'langchain_google_vertexai.evaluators.evaluation', 'vertexpairwisestringevaluator', 'vertexstringevaluator', 'langchain_community.callbacks.arthur_callback', 'arthurcallbackhandler', 'langchain_community.retrievers.tavily_search_api', 'searchdepth', 'tavilysearchapiretriever', 'langchain_community.tools.ainetwork.value', 'valueschema', 'ainvalueops', 'langchain_community.embeddings.mlflow_gateway', 'mlflowaigatewayembeddings', 'langchain_community.utilities.openapi', 'httpverb', 'openapispec', 'langchain_core.prompts.few_shot', 'fewshotprompttemplate', 'fewshotchatmessageprompttemplate', 'langchain_community.chat_models.outlines', 'chatoutlines', 'langchain_community.embeddings.tensorflow_hub', 'tensorflowhubembeddings', 'langchain_community.tools.playwright.navigate', 'navigatetool', 'navigatetoolinput', 'langchain_azure_ai.embeddings.inference', 'azureaiembeddingsmodel', 'langchain_community.retrievers.weaviate_hybrid_search', 'weaviatehybridsearchretriever', 'langchain.model_laboratory', 'modellaboratory', 'langchain_community.tools.openweathermap.tool', 'openweathermapqueryrun', 'langchain_community.vectorstores.docarray.base', 'docarrayindex', 'langchain.output_parsers.enum', 'enumoutputparser', 'langchain_google_community.calendar.base', 'langchain_community.embeddings.volcengine', 'volcanoembeddings', 'langchain_google_vertexai.utils', 'create_context_cache', 'langchain.agents.openai_assistant.base', 'openaiassistantaction', 'openaiassistantfinish', 'openaiassistantrunnable', 'langchain_community.retrievers.vespa_retriever', 'vesparetriever', 'langchain_neo4j.chains.graph_qa.cypher', 'graphcypherqachain', 'construct_schema', 'get_function_response', 'langchain_community.vectorstores.dingo', 'dingo', 'langchain_community.tools.few_shot.tool', 'fewshotsqltool', 'langchain_community.tools.interaction.tool', 'stdininquiretool', 'langchain_community.tools.mojeek_search.tool', 'mojeeksearch', 'langchain_aws.document_compressors.rerank', 'bedrockrerank', 'langchain_community.llms.ai21', 'ai21penaltydata', 'ai21', 'langchain_community.cache', 'momentocache', 'cassandrasemanticcache', 'sqlitecache', 'sqlalchemycache', 'singlestoredbsemanticcache', 'upstashrediscache', 'memcachedcache', 'cassandracache', 'asyncrediscache', 'fullmd5llmcache', 'gptcache', 'azurecosmosdbsemanticcache', 'azurecosmosdbnosqlsemanticcache', 'inmemorycache', 'fullllmcache', 'sqlalchemymd5cache', 'opensearchsemanticcache', 'langchain_community.llms.utils', 'langchain_community.document_loaders.mongodb', 'mongodbloader', 'langchain_community.vectorstores.timescalevector', 'timescalevector', 'langchain_core.messages.base', 'message_to_dict', 'messages_to_dict', 'basemessagechunk', 'merge_content', 'get_msg_title_repr', 'langchain_experimental.tot.thought', 'thoughtvalidity', 'thought', 'langchain.runnables.hub', 'hubrunnable', 'langchain.evaluation.comparison.eval_chain', 'pairwisestringresultoutputparser', 'labeledpairwisestringevalchain', 'resolve_pairwise_criteria', 'pairwisestringevalchain', 'langchain_community.document_loaders.mediawikidump', 'mwdumploader', 'langchain_community.graph_vectorstores.mmr_helper', 'langchain_community.agent_toolkits.playwright.toolkit', 'playwrightbrowsertoolkit', 'langchain_community.document_loaders.markdown', 'unstructuredmarkdownloader', 'langchain_community.tools.file_management.delete', 'deletefiletool', 'filedeleteinput', 'langchain_community.chat_loaders.langsmith', 'langsmithdatasetchatloader', 'langsmithrunchatloader', 'langchain_community.chat_models.edenai', 'chatedenai', 'langchain_community.chat_models.anyscale', 'chatanyscale', 'langchain_community.retrievers.chaindesk', 'chaindeskretriever', 'langchain_community.embeddings.itrex', 'quantizedbgeembeddings', 'langchain_tests.unit_tests.chat_models', 'chatmodelunittests', 'langchain_experimental.sql.base', 'sqldatabasechain', 'sqldatabasesequentialchain', 'langchain_voyageai.embeddings', 'voyageaiembeddings', 'langchain_community.memory.motorhead_memory', 'motorheadmemory', 'langchain_xai.chat_models', 'chatxai', 'langchain_community.tools.file_management.file_search', 'filesearchinput', 'filesearchtool', 'langchain_community.utilities.wikidata', 'wikidataapiwrapper', 'langchain_community.vectorstores.meilisearch', 'meilisearch', 'langchain_community.vectorstores.vdms', 'embedding2bytes', 'vdms_client', 'vdms', 'langchain_google_community.calendar.update_event', 'langchain_community.embeddings.johnsnowlabs', 'johnsnowlabsembeddings', 'langchain_core.documents.compressor', 'langchain_community.utilities.tensorflow_datasets', 'tensorflowdatasets', 'langchain_community.embeddings.premai', 'create_prem_retry_decorator', 'premaiembeddings', 'langchain_astradb.graph_vectorstores', 'embeddednode', 'astradbgraphvectorstore', 'langchain.chains.sequential', 'simplesequentialchain', 'sequentialchain', 'langchain_core.callbacks.streaming_stdout', 'streamingstdoutcallbackhandler', 'langchain_community.utilities.infobip', 'infobipapiwrapper', 'langchain_community.document_loaders.hugging_face_dataset', 'huggingfacedatasetloader', 'langchain.chains.flare.prompts', 'finishedoutputparser', 'langchain.agents.format_scratchpad.openai_functions', 'format_to_openai_function_messages', 'langchain_community.retrievers.pubmed', 'pubmedretriever', 'langchain_mongodb.retrievers.full_text_search', 'langchain_neo4j.graphs.neo4j_graph', 'langchain_community.query_constructors.vectara', 'vectaratranslator', 'langchain_core.callbacks.base', 'runmanagermixin', 'asynccallbackhandler', 'llmmanagermixin', 'retrievermanagermixin', 'callbackmanagermixin', 'chainmanagermixin', 'toolmanagermixin', 'langchain_community.tools.connery.models', 'action', 'parameter', 'validation', 'langchain_core.indexing.api', 'indexingresult', 'indexingexception', 'index', 'aindex', 'langchain_core.utils.env', 'get_from_env', 'env_var_is_set', 'get_from_dict_or_env', 'langchain_community.document_loaders.snowflake_loader', 'snowflakeloader', 'langchain_community.vectorstores.utils', 'langchain_experimental.fallacy_removal.base', 'fallacychain', 'langchain_experimental.tabular_synthetic_data.openai', 'create_openai_data_generator', 'langchain.embeddings.base', 'init_embeddings', 'langchain.output_parsers.boolean', 'booleanoutputparser', 'langchain.agents.openai_functions_agent.base', 'openaifunctionsagent', 'create_openai_functions_agent', 'langchain_community.tools.polygon.aggregates', 'polygonaggregatesschema', 'polygonaggregates', 'langchain_community.callbacks.clearml_callback', 'clearmlcallbackhandler', 'import_clearml', 'langchain_core.language_models.llms', 'basellm', 'aget_prompts', 'aupdate_cache', 'update_cache', 'get_prompts', 'create_base_retry_decorator', 'langchain_google_vertexai.model_garden_maas._base', 'langchain_experimental.data_anonymizer.presidio', 'presidioanonymizerbase', 'presidioanonymizer', 'presidioreversibleanonymizer', 'langchain.memory.summary', 'conversationsummarymemory', 'summarizermixin', 'langchain_core.retrievers', 'langsmithretrieverparams', 'langchain_experimental.cpal.constants', 'constant', 'langchain_community.document_loaders.blob_loaders.cloud_blob_loader', 'cloudblobloader', 'langchain_community.document_compressors.flashrank_rerank', 'flashrankrerank', 'langchain_qdrant.vectorstores', 'qdrant', 'sync_call_fallback', 'qdrantexception', 'redisvl.utils.vectorize.base', 'langchain_community.llms.javelin_ai_gateway', 'javelinaigateway', 'params', 'langchain_community.document_loaders.airbyte', 'airbytestripeloader', 'airbytecdkloader', 'airbytezendesksupportloader', 'airbytetypeformloader', 'airbytehubspotloader', 'airbytesalesforceloader', 'airbyteshopifyloader', 'airbytegongloader', 'langchain_postgres.chat_message_histories', 'langchain_community.tools.file_management.list_dir', 'listdirectorytool', 'directorylistinginput', 'langchain_experimental.agents.agent_toolkits.spark.base', 'create_spark_dataframe_agent', 'langchain_core.outputs.generation', 'generation', 'generationchunk', 'langchain_community.chat_models.gpt_router', 'get_ordered_generation_requests', 'gptroutermodel', 'gptrouterexception', 'gptrouter', 'langchain_community.storage.upstash_redis', 'upstashredisbytestore', 'upstashredisstore', 'langchain_community.embeddings.textembed', 'textembedembeddings', 'asyncopenaitextembedembeddingclient', 'langchain_community.document_loaders.parsers.html.bs4', 'bs4htmlparser', 'pydantic._internal._dataclasses', 'langchain_community.vectorstores.analyticdb', 'analyticdb', 'langchain_community.chat_models.octoai', 'chatoctoai', 'langchain_community.retrievers.zep_cloud', 'zepcloudretriever', 'langchain_community.document_loaders.parsers.vsdx', 'vsdxparser', 'langchain_community.llms.yuan2', 'yuan2', 'langchain_community.chat_models.databricks', 'chatdatabricks', 'langchain_community.graphs.neptune_rdf_graph', 'langchain.evaluation.embedding_distance.base', 'embeddingdistanceevalchain', 'embeddingdistance', 'pairwiseembeddingdistanceevalchain', 'langchain_google_community.calendar.create_event', 'langchain.chains.router.embedding_router', 'embeddingrouterchain', 'langchain_core.prompts.pipeline', 'pipelineprompttemplate', 'langchain_aws.utilities.math', 'langchain.chains.structured_output.base', 'create_openai_fn_runnable', 'create_structured_output_runnable', 'get_openai_output_parser', 'langchain_community.tools.cogniswitch.tool', 'cogniswitchknowledgesourceurl', 'cogniswitchknowledgesourcefile', 'cogniswitchknowledgerequest', 'cogniswitchknowledgestatus', 'langchain_community.chat_models.promptlayer_openai', 'promptlayerchatopenai', 'langchain_experimental.agents.agent_toolkits.python.base', 'create_python_agent', 'langchain.retrievers.document_compressors.listwise_rerank', 'llmlistwisererank', 'langchain_community.document_loaders.azure_blob_storage_container', 'azureblobstoragecontainerloader', 'langchain_core.prompts.few_shot_with_templates', 'fewshotpromptwithtemplates', 'langchain.hub', 'pull', 'push', 'langchain_community.chains.graph_qa.neptune_sparql', 'neptunesparqlqachain', 'langchain_core.caches', 'langchain_community.chat_models.deepinfra', 'chatdeepinfraexception', 'chatdeepinfra', 'langchain_community.tools.wikipedia.tool', 'wikipediaqueryinput', 'wikipediaqueryrun', 'langchain.chains.qa_with_sources.base', 'baseqawithsourceschain', 'qawithsourceschain', 'langchain.chains.llm_math.base', 'llmmathchain', 'langchain_azure_ai.vectorstores.azure_cosmos_db_no_sql', 'azurecosmosdbnosqlvectorstoreretriever', 'langchain_google_community.gmail.utils', 'langchain_experimental.rl_chain.base', 'parse_lines', 'prepare_inputs_for_autoembed', 'event', 'get_based_on_and_to_select_from', 'selected', 'toselectfrom', 'embedandkeep', 'rlchain', 'policy', 'basedon', 'embedder', 'autoselectionscorer', 'vwpolicy', 'selectionscorer', 'langchain_community.llms.vllm', 'vllm', 'vllmopenai', 'langchain_community.utilities.google_finance', 'googlefinanceapiwrapper', 'langchain_community.tools.file_management.move', 'movefiletool', 'filemoveinput', 'langchain_community.document_loaders.confluence', 'contentformat', 'confluenceloader', 'langchain.agents.openai_functions_multi_agent.base', 'openaimultifunctionsagent', 'langchain_cohere.react_multi_hop.agent', 'create_cohere_react_agent', 'langchain.chains.flare.base', 'questiongeneratorchain', 'flarechain', 'langchain_community.document_loaders.trello', 'trelloloader', 'elasticsearch.helpers.vectorstore._sync.embedding_service', 'langchain_community.llms.llamacpp', 'llamacpp', 'langchain_aws.chains.graph_qa.neptune_cypher', 'use_simple_prompt', 'create_neptune_opencypher_qa_chain', 'trim_query', 'langchain_community.embeddings.clarifai', 'clarifaiembeddings', 'langchain_community.document_loaders.parsers.language.cobol', 'cobolsegmenter', 'langchain_community.tools.slack.base', 'slackbasetool', 'langchain_community.tools.bearly.tool', 'file_to_base64', 'bearlyinterpretertoolarguments', 'fileinfo', 'head_file', 'bearlyinterpretertool', 'strip_markdown_code', 'langchain_community.graphs.graph_store', 'langchain_community.tools.eleven_labs.models', 'elevenlabsmodel', 'langchain_community.query_constructors.redis', 'redistranslator', 'langchain_community.chat_models.human', 'humaninputchatmodel', 'langchain_community.llms.oci_generative_ai', 'ocigenaibase', 'ocigenai', 'langchain_core.vectorstores.utils', 'langchain_community.tools.vectorstore.tool', 'basevectorstoretool', 'vectorstoreqawithsourcestool', 'vectorstoreqatool', 'langchain_aws.retrievers.kendra', 'combined_text', 'documentattributevalue', 'documentattribute', 'resultitem', 'amazonkendraretriever', 'clean_excerpt', 'additionalresultattribute', 'retrieveresult', 'retrieveresultitem', 'additionalresultattributevalue', 'queryresultitem', 'highlight', 'textwithhighlights', 'langchain_community.llms.sparkllm', 'sparkllm', 'langchain_together.embeddings', 'togetherembeddings', 'langchain_community.chains.pebblo_retrieval.utilities', 'pebbloretrievalapiwrapper', 'routes', 'get_runtime', 'get_ip', 'langchain_experimental.autonomous_agents.autogpt.output_parser', 'preprocess_json_input', 'autogptoutputparser', 'autogptaction', 'baseautogptoutputparser', 'langchain_community.document_loaders.parsers.registry', 'get_parser', 'langchain_community.vectorstores.mongodb_atlas', 'mongodbatlasvectorsearch', 'langchain.agents.structured_chat.base', 'structuredchatagent', 'create_structured_chat_agent', 'langchain_community.document_compressors.dashscope_rerank', 'dashscopererank', 'langchain_core.messages.chat', 'chatmessagechunk', 'chatmessage', 'langchain_nvidia_ai_endpoints.llm', 'nvidia', 'langchain_community.document_loaders.airbyte_json', 'airbytejsonloader', 'langchain_experimental.autonomous_agents.hugginggpt.hugginggpt', 'hugginggpt', 'langchain_community.chat_models.vertexai', 'chatvertexai', 'langchain_experimental.rl_chain.model_repository', 'modelrepository', 'langchain_core.beta.runnables.context', 'prefixcontext', 'config_with_context', 'contextset', 'aconfig_with_context', 'contextget', 'langchain_community.tools.edenai.text_moderation', 'textmoderationinput', 'edenaitextmoderationtool', 'langchain_community.llms.mlflow_ai_gateway', 'mlflowaigateway', 'ast', 'langchain_community.document_loaders.parsers.language.python', 'pythonsegmenter', 'langchain_sema4.toolkits', 'toolinputschema', 'actionserverrequesttool', 'actionservertoolkit', 'toolargs', 'rundetailscallbackhandler', 'langchain_text_splitters.html', 'htmlheadertextsplitter', 'htmlsemanticpreservingsplitter', 'htmlsectionsplitter', 'elementtype', 'langchain_community.tools.gmail.create_draft', 'langchain_community.document_loaders.org_mode', 'unstructuredorgmodeloader', 'langchain_community.chat_message_histories.xata', 'xatachatmessagehistory', 'langchain_community.agents.openai_assistant.base', 'openaiassistantv2runnable', 'langchain_experimental.tot.thought_generation', 'proposepromptstrategy', 'basethoughtgenerationstrategy', 'samplecotstrategy', 'langchain_community.document_compressors.openvino_rerank', 'rerankrequest', 'openvinoreranker', 'langchain.agents.react.output_parser', 'reactoutputparser', 'langchain_community.utilities.github', 'githubapiwrapper', 'langchain_community.document_loaders.word_document', 'unstructuredworddocumentloader', 'docx2txtloader', 'langchain_community.tools.multion.update_session', 'multionupdatesession', 'updatesessionschema', 'langchain_community.embeddings.ovhcloud', 'ovhcloudembeddings', 'langchain_community.chat_models.baidu_qianfan_endpoint', 'qianfanchatendpoint', 'langchain.chains.openai_functions.openapi', 'openapi_spec_to_openai_fn', 'simplerequestchain', 'get_openapi_chain', 'langchain_community.document_loaders.s3_directory', 's3directoryloader', 'langchain_community.document_loaders.notion', 'notiondirectoryloader', 'langchain_mongodb.retrievers.hybrid_search', 'langchain_community.tools.github.tool', 'githubaction', 'langchain_community.utilities.awslambda', 'lambdawrapper', 'langchain_community.document_loaders.image_captions', 'imagecaptionloader', 'langchain.chains.openai_tools.extraction', 'langchain.evaluation.regex_match.base', 'regexmatchstringevaluator', 'langchain_google_community.calendar.toolkit', 'langchain_community.document_loaders.parsers.language.sql', 'sqlsegmenter', 'langchain_community.chat_models.yuan2', 'chatyuan2', 'langchain_community.vectorstores.hanavector', 'hanadb', 'langchain_community.document_loaders.googledrive', 'langchain_community.llms.predibase', 'predibase', 'langchain_community.chains.graph_qa.cypher', 'langchain_community.chat_models.anthropic', 'chatanthropic', 'langchain_community.document_loaders.college_confidential', 'collegeconfidentialloader', 'langchain_azure_ai.chat_models.inference', 'from_inference_message', 'to_inference_message', 'azureaichatcompletionsmodel', 'langchain_community.document_loaders.rspace', 'rspaceloader', 'langchain_community.llms.anthropic', 'anthropic', 'langchain_community.tools.gmail.get_thread', 'langchain_community.chat_models.pai_eas_endpoint', 'paieaschatendpoint', 'langchain_experimental.data_anonymizer.deanonymizer_matching_strategies', 'ngram_fuzzy_matching_strategy', 'fuzzy_matching_strategy', 'exact_matching_strategy', 'combined_exact_fuzzy_matching_strategy', 'case_insensitive_matching_strategy', 'langchain_community.embeddings.edenai', 'edenaiembeddings', 'langchain_google_vertexai.model_garden', 'cacheusagemetadata', 'chatanthropicvertex', 'langchain_experimental.data_anonymizer.base', 'anonymizerbase', 'reversibleanonymizerbase', 'langchain_community.llms.textgen', 'textgen', 'langchain.embeddings.cache', 'cachebackedembeddings', 'langchain_community.document_loaders.url', 'unstructuredurlloader', 'langchain_core._api.deprecation', 'langchain_community.chains.openapi.requests_chain', 'apirequesteroutputparser', 'apirequesterchain', 'langchain_community.tools.graphql.tool', 'basegraphqltool', 'langchain_community.chat_models.azureml_endpoint', 'customopenaichatcontentformatter', 'llamachatcontentformatter', 'azuremlchatonlineendpoint', 'mistralchatcontentformatter', 'langchain_community.callbacks.fiddler_callback', 'import_fiddler', 'fiddlercallbackhandler', 'langchain_community.embeddings.modelscope_hub', 'modelscopeembeddings', 'langchain_core.runnables.graph_png', 'pngdrawer', 'langchain_community.document_loaders.parsers.msword', 'mswordparser', 'langchain.chains.query_constructor.base', 'get_query_constructor_prompt', 'structuredqueryoutputparser', 'load_query_constructor_chain', 'fix_filter_directive', 'construct_examples', 'load_query_constructor_runnable', 'langchain_community.document_loaders.duckdb_loader', 'duckdbloader', 'langchain_community.document_loaders.tencent_cos_directory', 'tencentcosdirectoryloader', 'langchain_community.docstore.arbitrary_fn', 'docstorefn', 'langchain_core.exceptions', 'outputparserexception', 'create_message', 'errorcode', 'langchainexception', 'tracerexception', 'langchain_community.tools.playwright.extract_hyperlinks', 'extracthyperlinkstoolinput', 'extracthyperlinkstool', 'langchain_community.retrievers.llama_index', 'llamaindexretriever', 'llamaindexgraphretriever', 'langchain.retrievers.re_phraser', 'rephrasequeryretriever', 'langchain_tests.integration_tests.retrievers', 'retrieversintegrationtests', 'langchain_community.chat_loaders.telegram', 'telegramchatloader', 'langchain_community.document_loaders.arxiv', 'arxivloader', 'langchain.smith.evaluation.config', 'runevalconfig', 'singlekeyevalconfig', 'evalconfig', 'langchain_community.embeddings.self_hosted', 'selfhostedembeddings', 'langchain_community.vectorstores.baiduvectordb', 'baiduvectordb', 'tableparams', 'langchain_core.runnables.router', 'routerinput', 'routerrunnable', 'langchain_community.document_loaders.browserless', 'browserlessloader', 'langchain.evaluation.qa.generate_chain', 'qageneratechain', 'langchain_core.prompts.message', 'basemessageprompttemplate', 'langchain_core.prompts.chat', 'humanmessageprompttemplate', 'aimessageprompttemplate', 'messagesplaceholder', 'chatprompttemplate', 'systemmessageprompttemplate', 'basestringmessageprompttemplate', 'basechatprompttemplate', 'chatmessageprompttemplate', 'langchain_community.vectorstores.vectara', 'summaryconfig', 'rerankconfig', 'vectaraqueryconfig', 'vectararetriever', 'vectara', 'vectararag', 'mmrconfig', 'langchain_core.messages.ai', 'add_ai_message_chunks', 'add_usage', 'outputtokendetails', 'aimessage', 'inputtokendetails', 'usagemetadata', 'subtract_usage', 'aimessagechunk', 'langchain_community.query_constructors.pinecone', 'pineconetranslator', 'langchain_neo4j.graphs.graph_document', 'langchain_community.vectorstores.rocksetdb', 'rockset', 'langchain_community.tools.edenai.ocr_identityparser', 'idparsinginput', 'edenaiparsingidtool', 'langchain_astradb.document_loaders', 'astradbloader', 'langchain_community.vectorstores.aerospike', 'aerospike', 'langchain_community.llms.pai_eas_endpoint', 'paieasendpoint', 'langchain_community.utilities.google_scholar', 'googlescholarapiwrapper', 'langchain_community.tools.sql_database.tool', 'listsqldatabasetool', 'infosqldatabasetool', 'querysqlcheckertool', 'querysqldatabasetool', 'basesqldatabasetool', 'langchain_community.retrievers.qdrant_sparse_vector_retriever', 'qdrantsparsevectorretriever', 'langchain_community.chat_models.huggingface', 'langchain_aws.vectorstores.inmemorydb.cache', 'inmemorysemanticcache', 'langchain_anthropic.output_parsers', 'extract_tool_calls', 'langchain_community.document_loaders.csv_loader', 'unstructuredcsvloader', 'csvloader', 'langchain_cohere.common', 'coherecitation', 'langchain_community.chat_models.perplexity', 'langchain_community.tools.brave_search.tool', 'bravesearch', 'langchain_community.document_loaders.excel', 'unstructuredexcelloader', 'langchain.chains.hyde.base', 'hypotheticaldocumentembedder', 'langchain_community.document_loaders.tensorflow_datasets', 'tensorflowdatasetloader', 'langchain_community.document_loaders.odt', 'unstructuredodtloader', 'langchain_community.utilities.passio_nutrition_ai', 'managedpassiolifeauth', 'is_http_retryable', 'nutritionaiapi', 'nodiskstorage', 'langchain_experimental.autonomous_agents.autogpt.memory', 'autogptmemory', 'langchain_community.tools.wikidata.tool', 'wikidataqueryrun', 'langchain_community.embeddings.clova', 'clovaembeddings', 'langchain_community.document_loaders.bigquery', 'langchain_community.document_loaders.image', 'unstructuredimageloader', 'langchain_community.document_loaders.gutenberg', 'gutenbergloader', 'langchain_openai.llms.base', 'langchain_community.tools.azure_cognitive_services.text2speech', 'azurecogstext2speechtool', 'langchain_community.chat_models.writer', 'chatwriter', 'langchain_experimental.llms.ollama_functions', 'parse_response', 'convert_to_ollama_tool', 'ollamafunctions', 'langchain_community.utilities.arxiv', 'arxivapiwrapper', 'langchain_community.document_loaders.athena', 'athenaloader', 'langchain_azure_ai.vectorstores.azure_cosmos_db_mongo_vcore', 'azurecosmosdbmongovcorevectorsearch', 'langchain_elasticsearch.client', 'create_async_elasticsearch_client', 'create_elasticsearch_client', 'langchain_community.utils.google', 'langchain_milvus.vectorstores.milvus', 'milvus', 'langchain_google_vertexai.model_garden_maas.mistral', 'vertexmodelgardenmistral', 'langchain_community.document_loaders.parsers.language.ruby', 'rubysegmenter', 'langchain_community.document_loaders.parsers.language.typescript', 'typescriptsegmenter', 'langchain_community.document_loaders.sql_database', 'sqldatabaseloader', 'langchain_community.embeddings.llamacpp', 'llamacppembeddings', 'langchain_community.document_loaders.baiducloud_bos_file', 'baidubosfileloader', 'langchain_core.utils.utils', 'secret_from_env', 'build_extra_kwargs', 'check_package_version', 'raise_for_status_with_text', 'from_env', 'xor_args', 'mock_now', 'get_pydantic_field_names', 'convert_to_secret_str', 'guard_import', 'langchain_community.vectorstores.bigquery_vector_search', 'bigqueryvectorsearch', 'langchain_community.tools.file_management.utils', 'filevalidationerror', 'get_validated_relative_path', 'basefiletoolmixin', 'is_relative_to', 'langchain_community.utilities.brave_search', 'bravesearchwrapper', 'langchain.runnables.openai_functions', 'openaifunction', 'openaifunctionsrouter', 'langchain_google_community.gmail.get_message', 'json.encoder', 'langchain_community.chat_models.meta', 'langchain_community.graphs.networkx_graph', 'knowledgetriple', 'networkxentitygraph', 'get_entities', 'parse_triples', 'langchain_cohere.llms', 'langchain_google_vertexai.llms', 'langchain_core.callbacks.manager', 'adispatch_custom_event', 'callbackmanager', 'asyncparentrunmanager', 'asynccallbackmanagerforchaingroup', 'parentrunmanager', 'asynccallbackmanagerforllmrun', 'asynccallbackmanagerforretrieverrun', 'callbackmanagerfortoolrun', 'asyncrunmanager', 'baserunmanager', 'asynccallbackmanager', 'atrace_as_chain_group', 'callbackmanagerforchainrun', 'callbackmanagerforchaingroup', 'asynccallbackmanagerfortoolrun', 'handle_event', 'dispatch_custom_event', 'runmanager', 'asynccallbackmanagerforchainrun', 'trace_as_chain_group', 'ahandle_event', 'callbackmanagerforretrieverrun', 'shielded', 'callbackmanagerforllmrun', 'langchain_community.document_loaders.kinetica_loader', 'kineticaloader', 'langchain_cohere.rag_retrievers', 'langchain_redis.vectorstores', 'redisvectorstore', 'langchain.chains.constitutional_ai.base', 'constitutionalchain', 'langchain_experimental.sql.vector_sql', 'vectorsqloutputparser', 'get_result_from_sqldb', 'vectorsqldatabasechain', 'vectorsqlretrievealloutputparser', 'langchain_community.document_loaders.bibtex', 'bibtexloader', 'langchain_community.callbacks.uptrain_callback', 'import_uptrain', 'uptraincallbackhandler', 'uptraindataschema', 'langchain_community.document_loaders.blockchain', 'blockchaindocumentloader', 'blockchaintype', 'langchain_community.chat_models.baichuan', 'chatbaichuan', 'langchain_community.embeddings.solar', 'solarembeddings', 'langchain.chains.query_constructor.parser', 'iso8601date', 'iso8601datetime', 'querytransformer', 'langchain_community.embeddings.vertexai', 'langchain_community.vectorstores.pinecone', 'pinecone', 'langchain_community.chains.graph_qa.gremlin', 'gremlinqachain', 'extract_gremlin', 'langchain_community.retrievers.chatgpt_plugin_retriever', 'chatgptpluginretriever', 'langchain_core.prompts.loading', 'load_prompt_from_config', 'load_prompt', 'langchain_community.document_loaders.parsers.language.perl', 'perlsegmenter', 'langchain.agents.loading', 'load_agent_from_config', 'load_agent', 'langchain_exa.tools', 'exafindsimilarresults', 'exasearchresults', 'langchain_community.vectorstores.lancedb', 'import_lancedb', 'to_lance_filter', 'lancedb', 'langchain_community.retrievers.metal', 'metalretriever', 'langchain_community.query_constructors.weaviate', 'weaviatetranslator', 'langchain_ai21.chat_models', 'chatai21', 'langchain_core.vectorstores.base', 'vectorstoreretriever', 'vectorstore', 'langchain.agents.xml.base', 'create_xml_agent', 'xmlagent', 'langchain_community.tools.gitlab.tool', 'gitlabaction', 'langchain_community.retrievers.svm', 'svmretriever', 'langchain_community.vectorstores.semadb', 'semadb', 'langchain_community.llms.you', 'you', 'langchain_community.utilities.dalle_image_generator', 'dalleapiwrapper', 'langchain_tests.integration_tests.vectorstores', 'vectorstoreintegrationtests', 'langchain_huggingface.utils.import_utils', 'is_optimum_intel_available', 'compare_versions', 'is_openvino_available', 'is_optimum_available', 'is_ipex_available', 'is_optimum_intel_version', 'is_optimum_version', 'langchain_community.retrievers.google_vertex_ai_search', 'googlevertexaimultiturnsearchretriever', 'googlecloudenterprisesearchretriever', 'googlevertexaisearchretriever', 'langchain_experimental.generative_agents.generative_agent', 'generativeagent', 'langchain.chains.openai_functions.utils', 'get_llm_kwargs', 'langchain_neo4j.chat_message_histories.neo4j', 'langchain_community.llms.pipelineai', 'pipelineai', 'langchain.chains.moderation', 'openaimoderationchain', 'langchain_community.utilities.google_jobs', 'googlejobsapiwrapper', 'langchain_community.tools.passio_nutrition_ai.tool', 'nutritionai', 'nutritionaiinputs', 'langchain_community.tools.azure_cognitive_services.image_analysis', 'azurecogsimageanalysistool', 'langchain_community.document_loaders.epub', 'unstructuredepubloader', 'langchain_community.document_loaders.dataframe', 'dataframeloader', 'basedataframeloader', 'langchain_community.agent_toolkits.json.base', 'create_json_agent', 'langchain_community.llms.deepsparse', 'deepsparse', 'langchain_community.vectorstores.annoy', 'dependable_annoy_import', 'annoy', 'langchain_fireworks.chat_models', 'chatfireworks', 'langchain_community.document_loaders.cube_semantic', 'cubesemanticloader', 'langchain_community.document_loaders.oracleadb_loader', 'oracleautonomousdatabaseloader', 'langchain_core.tracers.log_stream', 'runstate', 'runlogpatch', 'logentry', 'runlog', 'logstreamcallbackhandler', 'langchain_community.tools.jira.tool', 'jiraaction', 'langchain_core.messages.system', 'systemmessage', 'systemmessagechunk', 'langchain_community.document_loaders.joplin', 'joplinloader', 'langchain_community.vectorstores.redis.base', 'redisvectorstoreretriever', 'redis', 'langchain_community.document_loaders.bilibili', 'bilibililoader', 'langchain_community.embeddings.infinity_local', 'infinityembeddingslocal', 'pydantic.fields', 'string', 'langchain_community.agent_toolkits.spark_sql.toolkit', 'sparksqltoolkit', 'langchain_core.tools.base', 'get_all_basemodel_annotations', 'schemaannotationerror', 'basetoolkit', 'injectedtoolarg', 'injectedtoolcallid', 'create_schema_from_function', 'langchain_community.document_loaders.gcs_directory', 'langchain_core.messages.content_blocks', 'basedatacontentblock', 'urlcontentblock', 'plaintextcontentblock', 'idcontentblock', 'is_data_content_block', 'convert_to_openai_data_block', 'base64contentblock', 'convert_to_openai_image_block', 'langchain_mongodb.utils', 'langchain_community.document_loaders.parsers.language.c', 'csegmenter', 'langchain_azure_ai.utils.utils', 'jsonobjectencoder', 'get_endpoint_from_project', 'langchain_core.tools.structured', 'structuredtool', 'langchain_elasticsearch.vectorstores', 'langchain_community.chains.graph_qa.nebulagraph', 'nebulagraphqachain', 'langchain_voyageai.rerank', 'voyageairerank', 'langchain_core.tracers.root_listeners', 'asyncrootlistenerstracer', 'rootlistenerstracer', 'langchain_google_community.search', 'langchain.chains.openai_functions.tagging', 'create_tagging_chain', 'create_tagging_chain_pydantic', 'langchain_community.tools.edenai.image_explicitcontent', 'edenaiexplicitimagetool', 'explicitimageinput', 'langchain_community.tools.metaphor_search.tool', 'metaphorsearchresults', 'langchain_community.tools.databricks.tool', 'ucfunctiontoolkit', 'langchain_community.chat_models.mlflow', 'chatmlflow', 'langchain_google_vertexai.chat_models', 'langchain_community.agent_toolkits.openapi.spec', 'reducedopenapispec', 'reduce_openapi_spec', 'langchain_upstage.embeddings', 'upstageembeddings', 'langchain_community.chat_loaders.imessage', 'imessagechatloader', 'nanoseconds_from_2001_to_datetime', 'langchain_experimental.graph_transformers.diffbot', 'simplifiedschema', 'typeoption', 'diffbotgraphtransformer', 'nodeslist', 'langchain_community.document_loaders.yuque', 'yuqueloader', 'langchain_core.prompt_values', 'stringpromptvalue', 'chatpromptvalueconcrete', 'chatpromptvalue', 'imageurl', 'imagepromptvalue', 'langchain_community.document_loaders.pebblo', 'pebblotextloader', 'pebblosafeloader', 'langchain_community.vectorstores.ecloud_vector_search', 'ecloudesvectorstore', 'langchain_prompty.utils', 'prepare', 'execute', 'load', 'run', 'langchain_community.tools.ainetwork.rule', 'ainruleops', 'langchain.agents.utils', 'validate_tools_single_input', 'langchain_community.chat_message_histories.cassandra', 'cassandrachatmessagehistory', 'langchain_community.llms.bedrock', 'bedrockbase', 'bedrock', 'llminputoutputadapter', 'langchain_community.callbacks.context_callback', 'import_context', 'contextcallbackhandler', 'langchain_experimental.agents.agent_toolkits.xorbits.base', 'create_xorbits_agent', 'langchain_community.utilities.requests', 'requests', 'textrequestswrapper', 'jsonrequestswrapper', 'genericrequestswrapper', 'langchain.chains.qa_with_sources.retrieval', 'retrievalqawithsourceschain', 'langchain_community.cross_encoders.fake', 'fakecrossencoder', 'langchain_mistralai.chat_models', 'chatmistralai', 'langchain_community.llms.ollama', 'ollamaendpointnotfounderror', 'ollama', 'langchain_community.chains.pebblo_retrieval.enforcement_filters', 'set_enforcement_filters', 'clear_enforcement_filters', 'langchain_aws.vectorstores.inmemorydb.schema', 'inmemorydbmodel', 'inmemorydbdistancemetric', 'inmemorydbvectorfield', 'inmemorydbfield', 'langchain_community.callbacks.human', 'humanapprovalcallbackhandler', 'humanrejectedexception', 'asynchumanapprovalcallbackhandler', 'langchain_community.vectorstores.tiledb', 'get_documents_array_uri_from_group', 'get_vector_index_uri_from_group', 'dependable_tiledb_import', 'get_documents_array_uri', 'tiledb', 'get_vector_index_uri', 'langchain_community.vectorstores.pgembedding', 'collectionstore', 'pgembedding', 'embeddingstore', 'langchain_aws.utils', 'anthropic_tokens_supported', 'create_aws_client', 'thinking_in_params', 'langchain_community.retrievers.embedchain', 'embedchainretriever', 'langchain_community.retrievers.databerry', 'databerryretriever', 'langchain_community.embeddings.spacy_embeddings', 'spacyembeddings', 'langchain_community.vectorstores.marqo', 'marqo', 'langchain_community.callbacks.arize_callback', 'arizecallbackhandler', 'langchain_community.tools.slack.send_message', 'slacksendmessage', 'langchain_community.chains.graph_qa.falkordb', 'falkordbqachain', 'langchain_experimental.tot.base', 'totchain', 'langchain_community.tools.edenai.image_objectdetection', 'edenaiobjectdetectiontool', 'objectdetectioninput', 'langchain_anthropic.chat_models', 'chatanthropicmessages', 'langchain_community.utilities.twilio', 'twilioapiwrapper', 'langchain_community.callbacks.tracers.wandb', 'truncate_run_iterative', 'build_tree', 'wandbtracer', 'modify_serialized_iterative', 'flatten_run', 'wandbrunargs', 'langchain_google_genai.genai_aqa', 'aqainput', 'genaiaqa', 'aqaoutput', 'langchain_huggingface.embeddings.huggingface', 'langchain.memory.vectorstore_token_buffer_memory', 'conversationvectorstoretokenbuffermemory', 'langchain_community.embeddings.sparkllm', 'assembleheaderexception', 'sparkllmtextembeddings', 'url', 'langchain_community.embeddings.zhipuai', 'zhipuaiembeddings', 'langchain_elasticsearch._async.chat_history', 'langchain_community.llms.stochasticai', 'stochasticai', 'langchain.agents.conversational_chat.base', 'conversationalchatagent', 'langchain_community.document_loaders.concurrent', 'concurrentloader', 'langchain_community.document_loaders.s3_file', 's3fileloader', 'langchain_community.embeddings.javelin_ai_gateway', 'javelinaigatewayembeddings', 'langchain_experimental.video_captioning.base', 'videocaptioningchain', 'langchain_core.runnables.graph_mermaid', 'draw_mermaid', 'draw_mermaid_png', 'langchain_community.utilities.jira', 'jiraoauth2', 'jiraapiwrapper', 'jiraoauth2token', 'langchain_experimental.retrievers.vector_sql_database', 'vectorsqldatabasechainretriever', 'langchain_community.tools.playwright.current_page', 'currentwebpagetool', 'currentwebpagetoolinput', 'langchain_community.document_loaders.parsers.docai', 'langchain.retrievers.multi_query', 'multiqueryretriever', 'linelistoutputparser', 'langchain_community.embeddings.ernie', 'ernieembeddings', 'langchain_community.vectorstores.dashvector', 'dashvector', 'langchain_community.document_loaders.parsers.language.tree_sitter_segmenter', 'treesittersegmenter', 'langchain_core.tracers.context', 'tracing_v2_enabled', 'tracing_enabled', 'register_configure_hook', 'collect_runs', 'langchain_google_genai.llms', 'googlegenerativeai', 'langchain_community.tools.google_places.tool', 'langchain_community.document_transformers.html2text', 'html2texttransformer', 'langchain_community.callbacks.tracers.comet', 'import_comet_llm_api', 'comettracer', 'langchain_community.embeddings.cloudflare_workersai', 'cloudflareworkersaiembeddings', 'langchain_community.callbacks.aim_callback', 'aimcallbackhandler', 'import_aim', 'langchain_elasticsearch._async.cache', 'langchain_community.embeddings.llm_rails', 'llmrailsembeddings', 'langchain_community.llms.petals', 'petals', 'langchain_elasticsearch._sync.chat_history', 'langchain_google_community.bq_storage_vectorstores._base', 'langchain_community.vectorstores.oraclevs', 'drop_index_if_exists', 'drop_table_purge', 'oraclevs', 'langchain_community.utilities.wikipedia', 'wikipediaapiwrapper', 'langchain_postgres.utils.pgvector_migrator', 'amigrate_pgvector_collection', 'extract_pgvector_collection', 'list_pgvector_collection_names', 'aextract_pgvector_collection', 'alist_pgvector_collection_names', 'migrate_pgvector_collection', 'langchain_community.utilities.pebblo', 'indexeddocument', 'get_full_path', 'doc', 'generate_size_based_batches', 'get_loader_type', 'calculate_content_size', 'get_source_size', 'get_file_owner_from_path', 'get_loader_full_path', 'pebbloloaderapiwrapper', 'langchain_community.document_loaders.xorbits', 'xorbitsloader', 'langchain_community.utilities.alpha_vantage', 'alphavantageapiwrapper', 'langchain_community.graphs.arangodb_graph', 'get_arangodb_client', 'arangograph', 'langchain.chains.combine_documents.stuff', 'stuffdocumentschain', 'create_stuff_documents_chain', 'langchain_community.tools.financial_datasets.income_statements', 'incomestatementsschema', 'incomestatements', 'langchain_experimental.comprehend_moderation.prompt_safety', 'comprehendpromptsafety', 'langchain_aws.agents.utils', 'parse_agent_response', 'get_boto_session', 'langchain_community.document_loaders.html_bs', 'bshtmlloader', 'langchain_community.llms.weight_only_quantization', 'weightonlyquantpipeline', 'langchain_community.document_transformers.doctran_text_qa', 'doctranqatransformer', 'langchain_community.document_loaders.obsidian', 'obsidianloader', 'langchain_community.utilities.sql_database', 'truncate_word', 'sqldatabase', 'sanitize_schema', 'langchain.memory.entity', 'sqliteentitystore', 'baseentitystore', 'redisentitystore', 'upstashredisentitystore', 'inmemoryentitystore', 'conversationentitymemory', 'langchain_community.document_loaders.astradb', 'langchain_community.tools.eleven_labs.text2speech', 'elevenlabstext2speechtool', 'langchain_community.document_loaders.larksuite', 'larksuitewikiloader', 'larksuitedocloader', 'langchain_community.llms.huggingface_hub', 'huggingfacehub', 'langchain_community.document_loaders.figma', 'figmafileloader', 'langchain_community.document_loaders.google_speech_to_text', 'googlespeechtotextloader', 'langchain_aws.retrievers.bedrock', 'searchfilter', 'langchain_community.document_loaders.azlyrics', 'azlyricsloader', 'langchain_community.chat_models.fireworks', 'conditional_decorator', 'acompletion_with_retry_streaming', 'langchain_community.tools.playwright.get_elements', 'getelementstool', 'getelementstoolinput', 'langchain_community.document_loaders.mhtml', 'mhtmlloader', 'langchain_community.llms.xinference', 'xinference', 'langchain_community.storage.sql', 'langchainkeyvaluestores', 'items_equal', 'sqlstore', 'langchain_community.document_loaders.toml', 'tomlloader', 'langchain.indexes.vectorstore', 'vectorstoreindexwrapper', 'vectorstoreindexcreator', 'langchain_community.tools.you.tool', 'yousearchtool', 'youinput', 'langchain_community.chains.graph_qa.arangodb', 'arangographqachain', 'langchain.output_parsers.yaml', 'yamloutputparser', 'sqlalchemy.orm.instrumentation', 'langchain_mongodb.retrievers.self_querying', 'langchain_core.runnables.history', 'runnablewithmessagehistory', 'langchain_mongodb.indexes', 'langchain_community.llms.arcee', 'arcee', 'langchain_community.chat_models.jinachat', 'jinachat', 'langchain_experimental.llms.rellm_decoder', 'import_rellm', 'rellm', 'langchain_google_genai.embeddings', 'googlegenerativeaiembeddings', 'langchain_community.vectorstores.qdrant', 'langchain_community.utilities.google_serper', 'googleserperapiwrapper', 'langchain.smith.evaluation.name_generation', 'random_name', 'langchain.chains.retrieval', 'create_retrieval_chain', 'langchain.chains.natbot.crawler', 'elementinviewport', 'crawler', 'langchain.chains.router.base', 'route', 'routerchain', 'multiroutechain', 'langchain_community.vectorstores.zilliz', 'langchain_community.embeddings.hunyuan', 'hunyuanembeddings', 'langchain_community.query_constructors.elasticsearch', 'elasticsearchtranslator', 'langchain_community.tools.yahoo_finance_news', 'yahoofinancenewstool', 'yahoofinancenewsinput', 'langchain_community.query_constructors.qdrant', 'qdranttranslator', 'langchain.callbacks.streaming_stdout_final_only', 'finalstreamingstdoutcallbackhandler', 'langchain_experimental.video_captioning.services.caption_service', 'captionprocessor', 'langchain_community.document_loaders.tomarkdown', 'tomarkdownloader', 'langchain_cohere.embeddings', 'langchain_anthropic.llms', 'anthropicllm', 'langchain_community.agent_toolkits.amadeus.toolkit', 'amadeustoolkit', 'langchain_community.chains.graph_qa.neptune_cypher', 'neptuneopencypherqachain', 'langchain.memory.vectorstore', 'vectorstoreretrievermemory', 'langchain_community.document_loaders.azure_blob_storage_file', 'azureblobstoragefileloader', 'langchain.agents.output_parsers.self_ask', 'selfaskoutputparser', 'langchain_experimental.graph_transformers.relik', 'relikgraphtransformer', 'langchain_community.embeddings.self_hosted_hugging_face', 'load_embedding_model', 'selfhostedhuggingfaceinstructembeddings', 'selfhostedhuggingfaceembeddings', 'langchain_community.tools.golden_query.tool', 'goldenqueryrun', 'langchain_experimental.video_captioning.services.image_service', 'imageprocessor', 'langchain_azure_ai.vectorstores.cache', 'azurecosmosdbmongovcoresemanticcache', 'langchain_community.vectorstores.infinispanvs', 'infinispanvs', 'infinispan', 'langchain_community.embeddings.fake', 'langchain_community.llms.baichuan', 'baichuanllm', 'langchain_community.document_loaders.youtube', 'googleapiyoutubeloader', 'youtubeloader', 'googleapiclient', 'langchain_pinecone.vectorstores', 'pineconevectorstore', 'langchain_mongodb.agent_toolkit.toolkit', 'langchain.agents.openai_tools.base', 'create_openai_tools_agent', 'langchain_community.document_loaders.blob_loaders.youtube_audio', 'youtubeaudioloader', 'langchain.chains.sql_database.query', 'sqlinput', 'sqlinputwithtables', 'create_sql_query_chain', 'langchain_ai21.chat.chat_factory', 'create_chat_adapter', 'langchain_prompty.renderers', 'mustacherenderer', 'sqlalchemy.sql.type_api', 'langchain.agents.agent_toolkits.vectorstore.base', 'create_vectorstore_router_agent', 'create_vectorstore_agent', 'langchain_community.utilities.gitlab', 'gitlabapiwrapper', 'langchain_community.vectorstores.pgvector', 'pgvector', 'langchain.chains.base', 'langchain_community.document_loaders.parsers.doc_intelligence', 'azureaidocumentintelligenceparser', 'langchain.chains.constitutional_ai.models', 'constitutionalprinciple', 'langchain_community.embeddings.anyscale', 'anyscaleembeddings', 'langchain_community.document_loaders.notebook', 'concatenate_cells', 'notebookloader', 'remove_newlines', 'langchain.evaluation.loading', 'load_evaluators', 'load_dataset', 'load_evaluator', 'langchain_community.document_loaders.polars_dataframe', 'polarsdataframeloader', 'langchain_community.embeddings.aleph_alpha', 'alephalphaasymmetricsemanticembedding', 'alephalphasymmetricsemanticembedding', 'langchain_core.load.load', 'reviver', 'loads', 'langchain_community.tools.steamship_image_generation.utils', 'make_image_public', 'langchain.agents.chat.base', 'chatagent', 'langchain_community.document_loaders.text', 'textloader', 'langchain_community.document_loaders.rocksetdb', 'default_joiner', 'columnnotfounderror', 'rocksetloader', 'langchain_community.llms.deepinfra', 'deepinfra', 'langchain_community.tools.playwright.navigate_back', 'navigatebacktoolinput', 'navigatebacktool', 'langchain.retrievers.contextual_compression', 'contextualcompressionretriever', 'langchain_cohere.chat_models', 'get_role_v2', 'get_cohere_chat_request_v2', 'langchain_community.embeddings.mlflow', 'mlflowembeddings', 'mlflowcohereembeddings', 'langchain_community.llms.fake', 'langchain_community.vectorstores.supabase', 'supabasevectorstore', 'langchain_core.utils.loading', 'try_load_from_hub', 'langchain.smith.evaluation.progress', 'progressbarcallback', 'langchain_community.agent_toolkits.financial_datasets.toolkit', 'financialdatasetstoolkit', 'langchain_experimental.autonomous_agents.baby_agi.baby_agi', 'babyagi', 'langchain_community.tools.ifttt', 'iftttwebhook', 'langchain_community.vectorstores.epsilla', 'epsilla', 'langchain_community.embeddings.nemo', 'nemoembeddings', 'is_endpoint_live', 'langchain_community.llms.volcengine_maas', 'volcenginemaasllm', 'volcenginemaasbase', 'langchain_community.tools.steam.tool', 'steamwebapiqueryrun', 'langchain_ai21.chat.chat_adapter', 'jambachatcompletionsadapter', 'chatadapter', 'langchain.evaluation.string_distance.base', 'stringdistanceevalchain', 'stringdistance', 'pairwisestringdistanceevalchain', 'langchain_cohere.rerank', 'langchain_google_vertexai.model_garden_maas.llama', 'vertexmodelgardenllama', 'langchain_community.chat_message_histories.astradb', 'langchain.chains.router.multi_prompt', 'multipromptchain', 'langchain_community.retrievers.kendra', 'langchain_postgres.v2.vectorstores', 'pgvectorstore', 'langchain_community.document_loaders.mastodon', 'mastodontootsloader', 'langchain.chains.example_generator', 'generate_example', 'langchain.agents.tool_calling_agent.base', 'create_tool_calling_agent', 'langchain_community.document_loaders.modern_treasury', 'moderntreasuryloader', 'langchain_community.document_transformers.embeddings_redundant_filter', 'get_stateful_documents', 'embeddingsredundantfilter', 'embeddingsclusteringfilter', 'langchain_community.document_transformers.beautiful_soup_transformer', 'beautifulsouptransformer', 'get_navigable_strings', 'langchain_ibm.toolkit', 'watsonxtoolkit', 'watsonxtool', 'langchain_community.retrievers.milvus', 'milvusretriever', 'milvusretreiver', 'langchain_community.agent_toolkits.powerbi.toolkit', 'powerbitoolkit', 'langchain_community.vectorstores.llm_rails', 'llmrails', 'llmrailsretriever', 'langchain_core.globals', 'get_llm_cache', 'get_debug', 'set_debug', 'get_verbose', 'set_verbose', 'set_llm_cache', 'langchain_core.documents.base', 'basemedia', 'langchain_core.document_loaders.langsmith', 'langsmithloader', 'langchain_community.vectorstores.falkordb_vector', 'indextype', 'construct_metadata_filter', 'falkordbvector', 'generate_random_string', 'process_index_data', 'langchain_community.llms.fireworks', 'acompletion_with_retry_batching', 'completion_with_retry_batching', 'langchain_community.llms.databricks', 'get_repl_context', 'get_default_api_token', 'get_default_host', 'databricks', 'langchain_community.chains.graph_qa.memgraph', 'memgraphqachain', 'langchain_community.embeddings.databricks', 'databricksembeddings', 'langchain_upstage.document_parse', 'upstagedocumentparseloader', 'validate_file_path', 'langchain_community.embeddings.llamafile', 'llamafileembeddings', 'langchain_community.llms.clarifai', 'clarifai', 'langchain_community.graph_vectorstores.cassandra', 'adjacentnode', 'cassandragraphvectorstore', 'langchain_community.utilities.searchapi', 'searchapiapiwrapper', 'langchain_community.graph_vectorstores.visualize', 'render_graphviz', 'langchain_community.vectorstores.yellowbrick', 'yellowbrick', 'langchain.chains.qa_with_sources.vector_db', 'vectordbqawithsourceschain', 'langchain_community.tools.azure_cognitive_services.form_recognizer', 'azurecogsformrecognizertool', 'langchain_community.retrievers.azure_ai_search', 'azurecognitivesearchretriever', 'azureaisearchretriever', 'langchain_text_splitters.markdown', 'experimentalmarkdownsyntaxtextsplitter', 'linetype', 'markdownheadertextsplitter', 'markdowntextsplitter', 'headertype', 'langchain_community.vectorstores.vikingdb', 'vikingdb', 'vikingdbconfig', 'langchain_community.document_transformers.nuclia_text_transform', 'nucliatexttransformer', 'langchain_community.document_loaders.tencent_cos_file', 'tencentcosfileloader', 'langchain_aws.utilities.redis', 'langchain_experimental.prompt_injection_identifier.hugging_face_identifier', 'huggingfaceinjectionidentifier', 'promptinjectionexception', 'langchain_community.document_loaders.helpers', 'fileencoding', 'detect_file_encodings', 'langchain_tests.integration_tests.embeddings', 'embeddingsintegrationtests', 'langchain_community.document_loaders.slack_directory', 'slackdirectoryloader', 'langchain.output_parsers.structured', 'responseschema', 'structuredoutputparser', 'langchain_experimental.generative_agents.memory', 'generativeagentmemory', 'langchain_community.embeddings.awa', 'awaembeddings', 'langchain_community.chat_models.sparkllm', 'chatsparkllm', 'langchain_core.callbacks.stdout', 'stdoutcallbackhandler', 'langchain_community.vectorstores.sklearn', 'parquetserializer', 'baseserializer', 'bsonserializer', 'sklearnvectorstore', 'jsonserializer', 'sklearnvectorstoreexception', 'langchain_community.llms.anyscale', 'anyscale', 'create_llm_result', 'langchain_community.vectorstores.neo4j_vector', 'collect_params', 'sort_by_index_name', 'combine_queries', 'langchain_community.embeddings.text2vec', 'text2vecembeddings', 'langchain_community.vectorstores.alibabacloud_opensearch', 'alibabacloudopensearchsettings', 'alibabacloudopensearch', 'create_metadata', 'langchain_community.chat_message_histories.elasticsearch', 'langchain_community.utilities.financial_datasets', 'financialdatasetsapiwrapper', 'langchain_community.embeddings.bookend', 'bookendembeddings', 'langchain.retrievers.document_compressors.embeddings_filter', 'embeddingsfilter', 'langchain_community.vectorstores.xata', 'xatavectorstore', 'langchain_neo4j.vectorstores.utils', 'langchain_community.document_loaders.parsers.language.php', 'phpsegmenter', 'langchain.globals', 'langchain_community.llms.ctransformers', 'ctransformers', 'langchain_community.llms.cloudflare_workersai', 'cloudflareworkersai', 'langchain_community.document_loaders.conllu', 'conlluloader', 'langchain_redis.chat_message_history', 'langchain_community.chat_models.zhipuai', 'aconnect_sse', 'chatzhipuai', 'connect_sse', 'langchain_community.document_loaders.parsers.language.scala', 'scalasegmenter', 'langchain_community.vectorstores.myscale', 'myscalesettings', 'myscale', 'myscalewithoutjson', 'langchain_community.embeddings.huggingface_hub', 'huggingfacehubembeddings', 'langchain_community.cross_encoders.huggingface', 'huggingfacecrossencoder', 'langchain.chains.loading', 'load_chain_from_config', 'load_chain', 'langchain_community.vectorstores.tigris', 'tigris', 'langchain_mongodb.chat_message_histories', 'langchain_community.agent_toolkits.json.toolkit', 'jsontoolkit', 'langchain.retrievers.multi_vector', 'multivectorretriever', 'langchain_community.chat_models.yi', 'chatyi', 'langchain_community.chat_models.llamacpp', 'chatllamacpp', 'langchain_community.document_loaders.srt', 'srtloader', 'langchain_community.embeddings.gradient_ai', 'gradientembeddings', 'tinyasyncgradientembeddingclient', 'langchain.chains.transform', 'transformchain', 'langchain.evaluation.scoring.eval_chain', 'labeledscorestringevalchain', 'scorestringevalchain', 'scorestringresultoutputparser', 'langchain_mistralai.embeddings', 'mistralaiembeddings', 'dummytokenizer', 'langchain.storage.file_system', 'localfilestore', 'langchain_postgres.v2.async_vectorstore', 'asyncpgvectorstore', 'langchain.output_parsers.regex', 'regexparser', 'langchain_core.output_parsers.openai_functions', 'langchain_community.tools.reddit_search.tool', 'redditsearchschema', 'redditsearchrun', 'langchain_community.utilities.google_places_api', 'langchain_community.llms.self_hosted', 'selfhostedpipeline', 'langchain_community.utils.ernie_functions', 'convert_pydantic_to_ernie_function', 'convert_pydantic_to_ernie_tool', 'langchain.agents.react.agent', 'create_react_agent', 'langchain_community.embeddings.localai', 'localaiembeddings', 'langchain_community.chat_models.oci_data_science', 'chatocimodeldeploymenttgi', 'chatocimodeldeployment', 'chatocimodeldeploymentvllm', 'langchain_community.tools.file_management.copy', 'filecopyinput', 'copyfiletool', 'langchain_community.document_loaders.pyspark_dataframe', 'pysparkdataframeloader', 'langchain_experimental.autonomous_agents.autogpt.agent', 'autogpt', 'langchain.chains.qa_with_sources.loading', 'load_qa_with_sources_chain', 'langchain_community.tools.asknews.tool', 'asknewssearch', 'searchinput', 'langchain_community.agent_toolkits.nla.tool', 'nlatool', 'langchain_community.document_loaders.chm', 'unstructuredchmloader', 'chmparser', 'langchain_community.callbacks.infino_callback', 'import_tiktoken', 'get_num_tokens', 'import_infino', 'infinocallbackhandler', 'langchain_google_vertexai.vectorstores.document_storage', 'documentstorage', 'datastoredocumentstorage', 'gcsdocumentstorage', 'langchain_community.document_loaders.onenote', 'onenoteloader', 'langchain_community.document_loaders.chatgpt', 'chatgptloader', 'langchain_community.llms.layerup_security', 'layerupsecurity', 'default_guardrail_violation_handler', 'langchain_community.tools.dataherald.tool', 'dataheraldtexttosqlinput', 'dataheraldtexttosql', 'langchain_core.utils.iter', 'batch_iterate', 'langchain_community.chat_models.snowflake', 'chatsnowflakecortexerror', 'chatsnowflakecortex', 'langchain_core.tracers.event_stream', 'runinfo', 'langchain_community.llms.promptlayer_openai', 'promptlayeropenai', 'promptlayeropenaichat', 'langchain_core.outputs.run_info', 'langchain_community.chains.ernie_functions.base', 'convert_to_ernie_function', 'create_ernie_fn_runnable', 'convert_python_function_to_ernie_function', 'get_ernie_output_parser', 'create_ernie_fn_chain', 'langchain.chains.openai_functions.citation_fuzzy_match', 'create_citation_fuzzy_match_chain', 'questionanswer', 'factwithevidence', 'create_citation_fuzzy_match_runnable', 'langchain_community.chat_models.javelin_ai_gateway', 'chatjavelinaigateway', 'langchain_community.retrievers.thirdai_neuraldb', 'neuraldbretriever', 'langchain_core.example_selectors.base', 'baseexampleselector', 'langchain_community.cross_encoders.sagemaker_endpoint', 'sagemakerendpointcrossencoder', 'crossencodercontenthandler', 'langchain_community.graphs.age_graph', 'agequeryexception', 'agegraph', 'langchain.memory.buffer', 'conversationbuffermemory', 'conversationstringbuffermemory', 'langchain_community.vectorstores.astradb', 'astradb', 'langchain_community.chat_message_histories.zep', 'zepchatmessagehistory', 'langchain_core._api.beta_decorator', 'langchain_community.document_loaders.pdf', 'onlinepdfloader', 'dedocpdfloader', 'documentintelligenceloader', 'pdfminerloader', 'pymupdfloader', 'unstructuredpdfloader', 'pdfminerpdfashtmlloader', 'amazontextractpdfloader', 'zeroxpdfloader', 'mathpixpdfloader', 'pdfplumberloader', 'basepdfloader', 'pypdfdirectoryloader', 'pypdfium2loader', 'pypdfloader', 'langchain.agents.output_parsers.openai_functions', 'openaifunctionsagentoutputparser', 'langchain_core.tracers.langchain_v1', 'get_headers', 'langchaintracerv1', 'langchain_community.utilities.searx_search', 'searxresults', 'searxsearchwrapper', 'concurrent.futures.thread', 'langchain_postgres.vectorstores', 'langchain_core.tracers.schemas', 'tracersession', 'chainrun', 'toolrun', 'tracersessionv1create', 'baserun', 'runtypeenum', 'tracersessionbase', 'tracersessionv1base', 'tracersessionv1', 'llmrun', 'langchain_community.utilities.scenexplain', 'scenexplainapiwrapper', 'langchain_community.chains.pebblo_retrieval.base', 'pebbloretrievalqa', 'langchain_community.document_loaders.needle', 'needleloader', 'langchain.callbacks.streaming_aiter_final_only', 'asyncfinaliteratorcallbackhandler', 'langchain_community.llms.koboldai', 'clean_url', 'koboldapillm', 'langchain.output_parsers.loading', 'load_output_parser', 'langchain_community.tools.openapi.utils.api_models', 'apioperation', 'apipropertylocation', 'apipropertybase', 'apirequestbody', 'apiproperty', 'apirequestbodyproperty', 'langchain_community.document_transformers.long_context_reorder', 'longcontextreorder', 'langchain_community.retrievers.arcee', 'arceeretriever', 'langchain_community.storage.mongodb', 'mongodbstore', 'mongodbbytestore', 'langchain_community.chat_loaders.facebook_messenger', 'singlefilefacebookmessengerchatloader', 'folderfacebookmessengerchatloader', 'langchain_community.tools.azure_cognitive_services.text_analytics_health', 'azurecogstextanalyticshealthtool', 'langchain_community.retrievers.dria_index', 'driaretriever', 'langchain_community.llms.nlpcloud', 'nlpcloud', 'langchain_mongodb.retrievers.parent_document', 'langchain_milvus.function', 'bm25builtinfunction', 'basemilvusbuiltinfunction', 'langchain_google_vertexai.vectorstores.vectorstores', 'vectorsearchvectorstoregcs', 'vectorsearchvectorstoredatastore', 'vectorsearchvectorstore', 'langchain.chains.combine_documents.reduce', 'reducedocumentschain', 'split_list_of_docs', 'combinedocsprotocol', 'asynccombinedocsprotocol', 'collapse_docs', 'acollapse_docs', 'langchain_ai21.ai21_base', 'ai21base', 'langchain_huggingface.llms.huggingface_pipeline', 'langchain.chains.llm_checker.base', 'llmcheckerchain', 'langchain.output_parsers.regex_dict', 'regexdictparser', 'langchain.smith.evaluation.runner_utils', 'testresult', 'run_on_dataset', 'evalerror', 'inputformaterror', 'arun_on_dataset', 'chatmodelinput', 'langchain_community.llms.symblai_nebula', 'nebula', 'make_request', 'langchain_community.tools.steamship_image_generation.tool', 'steamshipimagegenerationtool', 'modelname', 'langchain_nvidia_ai_endpoints.callbacks', 'usagecallbackhandler', 'get_usage_callback', 'get_token_cost_for_model', 'langchain_community.tools.slack.schedule_message', 'schedulemessageschema', 'slackschedulemessage', 'langchain_community.tools.azure_cognitive_services.utils', 'langchain_community.vectorstores.jaguar', 'jaguar', 'langchain.chains.openai_functions.qa_with_structure', 'answerwithsources', 'create_qa_with_sources_chain', 'create_qa_with_structure_chain', 'langchain_community.document_loaders.directory', 'directoryloader', 'langchain_google_vertexai.functions_utils', 'pydanticfunctionsoutputparser', 'langchain_chroma.vectorstores', 'langchain_community.document_loaders.open_city_data', 'opencitydataloader', 'sqlalchemy.orm.decl_base', 'langchain_community.chat_models.hunyuan', 'chathunyuan', 'langchain_community.utilities.google_books', 'googlebooksapiwrapper', 'langchain_community.callbacks.labelstudio_callback', 'get_default_label_configs', 'labelstudiomode', 'labelstudiocallbackhandler', 'langchain_community.vectorstores.milvus', 'langchain_community.document_loaders.recursive_url_loader', 'page_not_found', 'recursiveurlloader', 'langchain_community.llms.oci_data_science_model_deployment_endpoint', 'ocimodeldeploymentllm', 'ocimodeldeploymenttgi', 'servererror', 'ocimodeldeploymentvllm', 'baseocimodeldeployment', 'tokenexpirederror', 'langchain_core.outputs.chat_result', 'chatresult', 'langchain_community.llms.amazon_api_gateway', 'contenthandleramazonapigateway', 'amazonapigateway', 'langchain_community.tools.google_serper.tool', 'googleserperresults', 'googleserperrun', 'langchain_community.graph_vectorstores.links', 'link', 'copy_with_links', 'add_links', 'get_links', 'langchain_community.tools.google_cloud.texttospeech', 'googlecloudtexttospeechtool', 'langchain_community.document_loaders.parsers.language.java', 'javasegmenter', 'langchain_community.tools.sleep.tool', 'sleepinput', 'sleeptool', 'langchain_community.graphs.index_creator', 'graphindexcreator', 'langchain_community.retrievers.nanopq', 'nanopqretriever', 'langchain_community.retrievers.bm25', 'default_preprocessing_func', 'bm25retriever', 'langchain_experimental.autonomous_agents.hugginggpt.task_planner', 'taskplanner', 'taskplaningchain', 'langchain_ibm.chat_models', 'chatwatsonx', 'langchain_community.llms.mosaicml', 'mosaicml', 'langchain_community.graph_vectorstores.extractors.link_extractor_adapter', 'linkextractoradapter', 'langchain_community.chat_models.llama_edge', 'llamaedgechatservice', 'langchain_mongodb.agent_toolkit.database', 'langchain_community.vectorstores.clarifai', 'langchain_experimental.video_captioning.services.audio_service', 'audioprocessor', 'langchain_community.llms.octoai_endpoint', 'octoaiendpoint', 'langchain_community.utilities.cassandra', 'wrapped_response_future', 'aexecute_cql', 'langchain_community.chat_loaders.slack', 'slackchatloader', 'langchain_community.embeddings.embaas', 'embaasembeddingspayload', 'embaasembeddings', 'langchain.retrievers.time_weighted_retriever', 'timeweightedvectorstoreretriever', 'langchain_community.document_loaders.parsers.language.go', 'gosegmenter', 'langchain_community.graphs.ontotext_graphdb_graph', 'ontotextgraphdbgraph', 'langchain_community.document_loaders.json_loader', 'jsonloader', 'langchain_community.document_loaders.email', 'outlookmessageloader', 'unstructuredemailloader', 'langchain_community.vectorstores.pathway', 'pathwayvectorclient', 'langchain_community.retrievers.docarray', 'docarrayretriever', 'langchain_community.llms.moonshot', 'moonshot', 'moonshotcommon', 'langchain_community.tools.arxiv.tool', 'arxivqueryrun', 'arxivinput', 'langchain_community.document_loaders.onedrive', 'onedriveloader', 'langchain_community.query_constructors.databricks_vector_search', 'databricksvectorsearchtranslator', 'langchain_community.tools.multion.close_session', 'closesessionschema', 'multionclosesession', 'langchain.agents.agent_iterator', 'agentexecutoriterator', 'langchain_community.docstore.base', 'addablemixin', 'docstore', 'langchain_community.vectorstores.deeplake', 'deeplake', 'langchain_aws.llms.bedrock', 'bedrockllm', 'langchain_google_genai.chat_models', 'chatgooglegenerativeai', 'chatgooglegenerativeaierror', 'langchain_community.utilities.zapier', 'zapiernlawrapper', 'langchain_community.chat_models.yandex', 'chatyandexgpt', 'langchain_community.utilities.max_compute', 'maxcomputeapiwrapper', 'langchain_experimental.autonomous_agents.baby_agi.task_prioritization', 'taskprioritizationchain', 'langchain_community.embeddings.infinity', 'tinyasyncopenaiinfinityembeddingclient', 'infinityembeddings', 'langchain.chains.history_aware_retriever', 'create_history_aware_retriever', 'langchain_community.callbacks.argilla_callback', 'argillacallbackhandler', 'langchain_community.chat_models.premai', 'chatpremai', 'chatpremapierror', 'langchain_google_community.calendar.utils', 'sqlserver_vectorstore', 'vectorstores', 'unit_tests', 'integration_tests', 'tools', 'retrievers', 'utils', 'toolkit', 'rerank'])"
            ]
          },
          "execution_count": 25,
          "metadata": {},
          "output_type": "execute_result"
        }
      ],
      "source": [
        "dataset.keys()"
      ]
    },
    {
      "cell_type": "code",
      "execution_count": 26,
      "id": "lEs1HFoEB0c9",
      "metadata": {
        "id": "lEs1HFoEB0c9"
      },
      "outputs": [],
      "source": [
        "from datasets import Dataset\n",
        "\n",
        "data = [{\"text\" : f'Topic:\\n{k}\\n\\n Code and Description:\\n{v}'} for k, v in dataset.items()]\n",
        "\n",
        "dataset = Dataset.from_list(data)\n"
      ]
    },
    {
      "cell_type": "code",
      "execution_count": 11,
      "id": "33639be0",
      "metadata": {
        "id": "33639be0"
      },
      "outputs": [],
      "source": [
        "model_id = \"google/gemma-2-2b\"\n",
        "\n",
        "bnb_config = BitsAndBytesConfig(\n",
        "    load_in_4bit=True,\n",
        "    bnb_4bit_quant_type=\"nf4\",\n",
        "    bnb_4bit_compute_dtype=torch.bfloat16\n",
        ")"
      ]
    },
    {
      "cell_type": "code",
      "execution_count": 34,
      "id": "ad2df6a7",
      "metadata": {
        "colab": {
          "base_uri": "https://localhost:8080/",
          "height": 66,
          "referenced_widgets": [
            "8a0fa1427a7f464ba951ffdb60fa26b9",
            "77378dfd97ca4aa28a8d4a382ac09598",
            "4a3d3db22a674bd68406d686d0faa35e",
            "6b8bdd03e1ac4c53ab1033ee742c27d5",
            "b2df6a03538f4efe8737a7569c97adbd",
            "07bbe108033a43ef82cddd64514c36c2",
            "888b1fd138c442ecb4cfdbc4abfcdf1a",
            "65cd75f251974c9ea48f6d416429eb00",
            "479b665c6db740c9a5fa9ae08f7a97e5",
            "e4ce6480b528476993031b613cf8e595",
            "9fe7be76025a4587aa45e3e3bb4d29d8"
          ]
        },
        "id": "ad2df6a7",
        "outputId": "c77e9072-2fbf-47fc-d0f3-a42339e9b85c"
      },
      "outputs": [
        {
          "name": "stderr",
          "output_type": "stream",
          "text": [
            "You have set `use_cache` to `False`, but cache_implementation is set to hybrid. cache_implementation will have no effect.\n"
          ]
        },
        {
          "data": {
            "application/vnd.jupyter.widget-view+json": {
              "model_id": "8a0fa1427a7f464ba951ffdb60fa26b9",
              "version_major": 2,
              "version_minor": 0
            },
            "text/plain": [
              "Loading checkpoint shards:   0%|          | 0/3 [00:00<?, ?it/s]"
            ]
          },
          "metadata": {},
          "output_type": "display_data"
        }
      ],
      "source": [
        "model = AutoModelForCausalLM.from_pretrained(\n",
        "    model_id,\n",
        "    quantization_config=bnb_config,\n",
        "    device_map=\"auto\",\n",
        "    trust_remote_code=False,\n",
        "    attn_implementation='eager',\n",
        "    use_cache=False,\n",
        ")"
      ]
    },
    {
      "cell_type": "code",
      "execution_count": 39,
      "id": "bj9BgmY6KW6C",
      "metadata": {
        "colab": {
          "base_uri": "https://localhost:8080/"
        },
        "id": "bj9BgmY6KW6C",
        "outputId": "a7e0498f-09fb-4f17-a2ff-ca05200c33d6"
      },
      "outputs": [
        {
          "name": "stdout",
          "output_type": "stream",
          "text": [
            "Trainable parameters: 10,383,360\n",
            "Total parameters: 1,612,587,264\n",
            "Trainable ratio: 0.6439%\n"
          ]
        }
      ],
      "source": [
        "def print_trainable_parameters(model):\n",
        "    trainable = 0\n",
        "    total = 0\n",
        "    for param in model.parameters():\n",
        "        num_params = param.numel()\n",
        "        total += num_params\n",
        "        if param.requires_grad:\n",
        "            trainable += num_params\n",
        "    print(f\"Trainable parameters: {trainable:,}\")\n",
        "    print(f\"Total parameters: {total:,}\")\n",
        "    print(f\"Trainable ratio: {100 * trainable / total:.4f}%\")\n",
        "\n",
        "print_trainable_parameters(model)"
      ]
    },
    {
      "cell_type": "code",
      "execution_count": 17,
      "id": "e6b8938e",
      "metadata": {
        "id": "e6b8938e"
      },
      "outputs": [],
      "source": [
        "lora_config = LoraConfig(\n",
        "    r=8,\n",
        "    lora_alpha=32,\n",
        "    lora_dropout=0.05,\n",
        "    bias=\"none\",\n",
        "    target_modules=['q_proj', \"o_proj\", \"k_proj\", \"v_proj\", 'gate_proj', 'up_proj', \"down_proj\"],\n",
        "    task_type='CAUSAL_LM',\n",
        "\n",
        ")"
      ]
    },
    {
      "cell_type": "code",
      "execution_count": 27,
      "id": "GV49HxwpCZ7K",
      "metadata": {
        "colab": {
          "base_uri": "https://localhost:8080/",
          "height": 49,
          "referenced_widgets": [
            "e3938ebeac10445f95a8dc1eab3046ea",
            "73d2be36cdb743b2bc037e50f8bc3c65",
            "efa492b8fe0643428a070bb089e95b9b",
            "165944291497402e8490c06d6af660ec",
            "e424a8b7b276470fb641c919f79620a4",
            "bec88a64f3fa4a5aa9912ab63d4db7d6",
            "2c161fbff0764fcb9299ce0b90949060",
            "1cfcc9f9d97a44d499786194d94ef9e2",
            "24ff3f05d8514d4a919b2674708889f6",
            "c65fded3d44c49749e556835c8bcb986",
            "0315102747954381ba26930e72a2ef57"
          ]
        },
        "id": "GV49HxwpCZ7K",
        "outputId": "893afac6-188c-4895-8e06-c5d8cf26e81d"
      },
      "outputs": [
        {
          "data": {
            "application/vnd.jupyter.widget-view+json": {
              "model_id": "e3938ebeac10445f95a8dc1eab3046ea",
              "version_major": 2,
              "version_minor": 0
            },
            "text/plain": [
              "Map:   0%|          | 0/4938 [00:00<?, ? examples/s]"
            ]
          },
          "metadata": {},
          "output_type": "display_data"
        }
      ],
      "source": [
        "tokenizer = AutoTokenizer.from_pretrained(model_id, use_fast=True)\n",
        "def tokenize(example):\n",
        "    return tokenizer(example[\"text\"], truncation=True, padding=\"max_length\", max_length=4096)\n",
        "\n",
        "tokenized_dataset = dataset.map(tokenize, batched=True)"
      ]
    },
    {
      "cell_type": "code",
      "execution_count": 28,
      "id": "a633fbcf",
      "metadata": {
        "id": "a633fbcf"
      },
      "outputs": [],
      "source": [
        "def formatting_func():\n",
        "    pass"
      ]
    },
    {
      "cell_type": "code",
      "execution_count": 35,
      "id": "08f14586",
      "metadata": {
        "colab": {
          "base_uri": "https://localhost:8080/",
          "height": 86,
          "referenced_widgets": [
            "a3d0fda59e7c4e979fe908d1611efbac",
            "1293dca912da4949bd1195d606ec2abf",
            "15d93d590a8747cbb2258d222bdd049b",
            "63b0e1043d8145b080f45e346d9e6335",
            "8468e8fb1f8a489c80e30185af341be3",
            "9f34fbee8dff47eaaa0eaa6dfb4ec5be",
            "da5f7a25ccde4ac89f7987f6ac0dde96",
            "36c3e08b773243aaabdb9300206d59c6",
            "4ea42120514c4773bb19c41d7bd4d8f3",
            "c85ef86589c5419799806a7db906b76d",
            "91be89ce63eb4b6abf122511a71146bb"
          ]
        },
        "id": "08f14586",
        "outputId": "92dab393-d9c8-441e-e338-33bd05797e0a"
      },
      "outputs": [
        {
          "data": {
            "application/vnd.jupyter.widget-view+json": {
              "model_id": "a3d0fda59e7c4e979fe908d1611efbac",
              "version_major": 2,
              "version_minor": 0
            },
            "text/plain": [
              "Truncating train dataset:   0%|          | 0/4938 [00:00<?, ? examples/s]"
            ]
          },
          "metadata": {},
          "output_type": "display_data"
        },
        {
          "name": "stderr",
          "output_type": "stream",
          "text": [
            "No label_names provided for model class `PeftModelForCausalLM`. Since `PeftModel` hides base models input arguments, if label_names is not given, label_names can't be set automatically within `Trainer`. Note that empty label_names list will be used instead.\n"
          ]
        }
      ],
      "source": [
        "tuner = SFTTrainer(\n",
        "    model=model,\n",
        "    train_dataset=tokenized_dataset,\n",
        "    args=transformers.TrainingArguments(\n",
        "        per_device_train_batch_size=1,\n",
        "        gradient_accumulation_steps=4,\n",
        "        warmup_steps=2,\n",
        "        max_steps=50,\n",
        "        learning_rate=1e-4,\n",
        "        fp16=True,\n",
        "        logging_steps=1,\n",
        "        output_dir=\"outputs\",\n",
        "        optim=\"paged_adamw_8bit\",\n",
        "        gradient_checkpointing=True,\n",
        "    ),\n",
        "    peft_config=lora_config)"
      ]
    },
    {
      "cell_type": "code",
      "execution_count": 32,
      "id": "0fTv4Rs6FXVb",
      "metadata": {
        "id": "0fTv4Rs6FXVb"
      },
      "outputs": [],
      "source": [
        "os.environ['WANDB_DISABLED'] = \"false\""
      ]
    },
    {
      "cell_type": "code",
      "execution_count": 37,
      "id": "7iEFmqqoGahW",
      "metadata": {
        "colab": {
          "base_uri": "https://localhost:8080/",
          "height": 316
        },
        "id": "7iEFmqqoGahW",
        "outputId": "c58433e4-8e0a-4138-c248-684d2f404728"
      },
      "outputs": [
        {
          "data": {
            "application/javascript": "\n        window._wandbApiKey = new Promise((resolve, reject) => {\n            function loadScript(url) {\n            return new Promise(function(resolve, reject) {\n                let newScript = document.createElement(\"script\");\n                newScript.onerror = reject;\n                newScript.onload = resolve;\n                document.body.appendChild(newScript);\n                newScript.src = url;\n            });\n            }\n            loadScript(\"https://cdn.jsdelivr.net/npm/postmate/build/postmate.min.js\").then(() => {\n            const iframe = document.createElement('iframe')\n            iframe.style.cssText = \"width:0;height:0;border:none\"\n            document.body.appendChild(iframe)\n            const handshake = new Postmate({\n                container: iframe,\n                url: 'https://wandb.ai/authorize'\n            });\n            const timeout = setTimeout(() => reject(\"Couldn't auto authenticate\"), 5000)\n            handshake.then(function(child) {\n                child.on('authorize', data => {\n                    clearTimeout(timeout)\n                    resolve(data)\n                });\n            });\n            })\n        });\n    ",
            "text/plain": [
              "<IPython.core.display.Javascript object>"
            ]
          },
          "metadata": {},
          "output_type": "display_data"
        },
        {
          "name": "stderr",
          "output_type": "stream",
          "text": [
            "\u001b[34m\u001b[1mwandb\u001b[0m: Logging into wandb.ai. (Learn how to deploy a W&B server locally: https://wandb.me/wandb-server)\n",
            "\u001b[34m\u001b[1mwandb\u001b[0m: You can find your API key in your browser here: https://wandb.ai/authorize?ref=models\n",
            "wandb: Paste an API key from your profile and hit enter:"
          ]
        },
        {
          "name": "stdout",
          "output_type": "stream",
          "text": [
            " ··········\n"
          ]
        },
        {
          "name": "stderr",
          "output_type": "stream",
          "text": [
            "\u001b[34m\u001b[1mwandb\u001b[0m: \u001b[33mWARNING\u001b[0m If you're specifying your api key in code, ensure this code is not shared publicly.\n",
            "\u001b[34m\u001b[1mwandb\u001b[0m: \u001b[33mWARNING\u001b[0m Consider setting the WANDB_API_KEY environment variable, or running `wandb login` from the command line.\n",
            "\u001b[34m\u001b[1mwandb\u001b[0m: No netrc file found, creating one.\n",
            "\u001b[34m\u001b[1mwandb\u001b[0m: Appending key for api.wandb.ai to your netrc file: /root/.netrc\n",
            "\u001b[34m\u001b[1mwandb\u001b[0m: Currently logged in as: \u001b[33mprincedastan\u001b[0m (\u001b[33mprincedastan-mbm-university-jodhpur\u001b[0m) to \u001b[32mhttps://api.wandb.ai\u001b[0m. Use \u001b[1m`wandb login --relogin`\u001b[0m to force relogin\n"
          ]
        },
        {
          "data": {
            "text/html": [
              "Changes to your `wandb` environment variables will be ignored because your `wandb` session has already started. For more information on how to modify your settings with `wandb.init()` arguments, please refer to <a href='https://wandb.me/wandb-init' target=\"_blank\">the W&B docs</a>."
            ],
            "text/plain": [
              "<IPython.core.display.HTML object>"
            ]
          },
          "metadata": {},
          "output_type": "display_data"
        },
        {
          "data": {
            "text/html": [
              "Tracking run with wandb version 0.19.11"
            ],
            "text/plain": [
              "<IPython.core.display.HTML object>"
            ]
          },
          "metadata": {},
          "output_type": "display_data"
        },
        {
          "data": {
            "text/html": [
              "Run data is saved locally in <code>/content/wandb/run-20250518_111821-aps16ysk</code>"
            ],
            "text/plain": [
              "<IPython.core.display.HTML object>"
            ]
          },
          "metadata": {},
          "output_type": "display_data"
        },
        {
          "data": {
            "text/html": [
              "Syncing run <strong><a href='https://wandb.ai/princedastan-mbm-university-jodhpur/lang-tuner/runs/aps16ysk' target=\"_blank\">cool-star-1</a></strong> to <a href='https://wandb.ai/princedastan-mbm-university-jodhpur/lang-tuner' target=\"_blank\">Weights & Biases</a> (<a href='https://wandb.me/developer-guide' target=\"_blank\">docs</a>)<br>"
            ],
            "text/plain": [
              "<IPython.core.display.HTML object>"
            ]
          },
          "metadata": {},
          "output_type": "display_data"
        },
        {
          "data": {
            "text/html": [
              " View project at <a href='https://wandb.ai/princedastan-mbm-university-jodhpur/lang-tuner' target=\"_blank\">https://wandb.ai/princedastan-mbm-university-jodhpur/lang-tuner</a>"
            ],
            "text/plain": [
              "<IPython.core.display.HTML object>"
            ]
          },
          "metadata": {},
          "output_type": "display_data"
        },
        {
          "data": {
            "text/html": [
              " View run at <a href='https://wandb.ai/princedastan-mbm-university-jodhpur/lang-tuner/runs/aps16ysk' target=\"_blank\">https://wandb.ai/princedastan-mbm-university-jodhpur/lang-tuner/runs/aps16ysk</a>"
            ],
            "text/plain": [
              "<IPython.core.display.HTML object>"
            ]
          },
          "metadata": {},
          "output_type": "display_data"
        },
        {
          "data": {
            "text/html": [
              "<button onClick=\"this.nextSibling.style.display='block';this.style.display='none';\">Display W&B run</button><iframe src='https://wandb.ai/princedastan-mbm-university-jodhpur/lang-tuner/runs/aps16ysk?jupyter=true' style='border:none;width:100%;height:420px;display:none;'></iframe>"
            ],
            "text/plain": [
              "<wandb.sdk.wandb_run.Run at 0x795a443c3750>"
            ]
          },
          "execution_count": 37,
          "metadata": {},
          "output_type": "execute_result"
        }
      ],
      "source": [
        "import wandb\n",
        "\n",
        "wandb.init(project=\"lang-tuner\")"
      ]
    },
    {
      "cell_type": "code",
      "execution_count": 38,
      "id": "4bd99dc7",
      "metadata": {
        "colab": {
          "base_uri": "https://localhost:8080/",
          "height": 1000
        },
        "id": "4bd99dc7",
        "outputId": "6a2b298b-ab39-4100-8daa-28266b40aa62"
      },
      "outputs": [
        {
          "data": {
            "text/html": [
              "\n",
              "    <div>\n",
              "      \n",
              "      <progress value='50' max='50' style='width:300px; height:20px; vertical-align: middle;'></progress>\n",
              "      [50/50 06:24, Epoch 0/1]\n",
              "    </div>\n",
              "    <table border=\"1\" class=\"dataframe\">\n",
              "  <thead>\n",
              " <tr style=\"text-align: left;\">\n",
              "      <th>Step</th>\n",
              "      <th>Training Loss</th>\n",
              "    </tr>\n",
              "  </thead>\n",
              "  <tbody>\n",
              "    <tr>\n",
              "      <td>1</td>\n",
              "      <td>14.702600</td>\n",
              "    </tr>\n",
              "    <tr>\n",
              "      <td>2</td>\n",
              "      <td>27.413000</td>\n",
              "    </tr>\n",
              "    <tr>\n",
              "      <td>3</td>\n",
              "      <td>25.205700</td>\n",
              "    </tr>\n",
              "    <tr>\n",
              "      <td>4</td>\n",
              "      <td>27.413000</td>\n",
              "    </tr>\n",
              "    <tr>\n",
              "      <td>5</td>\n",
              "      <td>27.413000</td>\n",
              "    </tr>\n",
              "    <tr>\n",
              "      <td>6</td>\n",
              "      <td>5.960200</td>\n",
              "    </tr>\n",
              "    <tr>\n",
              "      <td>7</td>\n",
              "      <td>3.248100</td>\n",
              "    </tr>\n",
              "    <tr>\n",
              "      <td>8</td>\n",
              "      <td>3.560700</td>\n",
              "    </tr>\n",
              "    <tr>\n",
              "      <td>9</td>\n",
              "      <td>2.373200</td>\n",
              "    </tr>\n",
              "    <tr>\n",
              "      <td>10</td>\n",
              "      <td>3.140400</td>\n",
              "    </tr>\n",
              "    <tr>\n",
              "      <td>11</td>\n",
              "      <td>2.904500</td>\n",
              "    </tr>\n",
              "    <tr>\n",
              "      <td>12</td>\n",
              "      <td>3.165400</td>\n",
              "    </tr>\n",
              "    <tr>\n",
              "      <td>13</td>\n",
              "      <td>2.926600</td>\n",
              "    </tr>\n",
              "    <tr>\n",
              "      <td>14</td>\n",
              "      <td>2.739600</td>\n",
              "    </tr>\n",
              "    <tr>\n",
              "      <td>15</td>\n",
              "      <td>2.181600</td>\n",
              "    </tr>\n",
              "    <tr>\n",
              "      <td>16</td>\n",
              "      <td>1.746300</td>\n",
              "    </tr>\n",
              "    <tr>\n",
              "      <td>17</td>\n",
              "      <td>2.121900</td>\n",
              "    </tr>\n",
              "    <tr>\n",
              "      <td>18</td>\n",
              "      <td>1.941700</td>\n",
              "    </tr>\n",
              "    <tr>\n",
              "      <td>19</td>\n",
              "      <td>1.814000</td>\n",
              "    </tr>\n",
              "    <tr>\n",
              "      <td>20</td>\n",
              "      <td>1.746500</td>\n",
              "    </tr>\n",
              "    <tr>\n",
              "      <td>21</td>\n",
              "      <td>1.534900</td>\n",
              "    </tr>\n",
              "    <tr>\n",
              "      <td>22</td>\n",
              "      <td>1.640900</td>\n",
              "    </tr>\n",
              "    <tr>\n",
              "      <td>23</td>\n",
              "      <td>1.666800</td>\n",
              "    </tr>\n",
              "    <tr>\n",
              "      <td>24</td>\n",
              "      <td>1.308000</td>\n",
              "    </tr>\n",
              "    <tr>\n",
              "      <td>25</td>\n",
              "      <td>1.237100</td>\n",
              "    </tr>\n",
              "    <tr>\n",
              "      <td>26</td>\n",
              "      <td>1.297400</td>\n",
              "    </tr>\n",
              "    <tr>\n",
              "      <td>27</td>\n",
              "      <td>1.351400</td>\n",
              "    </tr>\n",
              "    <tr>\n",
              "      <td>28</td>\n",
              "      <td>1.040700</td>\n",
              "    </tr>\n",
              "    <tr>\n",
              "      <td>29</td>\n",
              "      <td>1.125300</td>\n",
              "    </tr>\n",
              "    <tr>\n",
              "      <td>30</td>\n",
              "      <td>1.035600</td>\n",
              "    </tr>\n",
              "    <tr>\n",
              "      <td>31</td>\n",
              "      <td>1.118300</td>\n",
              "    </tr>\n",
              "    <tr>\n",
              "      <td>32</td>\n",
              "      <td>1.118600</td>\n",
              "    </tr>\n",
              "    <tr>\n",
              "      <td>33</td>\n",
              "      <td>1.167400</td>\n",
              "    </tr>\n",
              "    <tr>\n",
              "      <td>34</td>\n",
              "      <td>1.281300</td>\n",
              "    </tr>\n",
              "    <tr>\n",
              "      <td>35</td>\n",
              "      <td>1.339600</td>\n",
              "    </tr>\n",
              "    <tr>\n",
              "      <td>36</td>\n",
              "      <td>1.250300</td>\n",
              "    </tr>\n",
              "    <tr>\n",
              "      <td>37</td>\n",
              "      <td>0.690800</td>\n",
              "    </tr>\n",
              "    <tr>\n",
              "      <td>38</td>\n",
              "      <td>1.337800</td>\n",
              "    </tr>\n",
              "    <tr>\n",
              "      <td>39</td>\n",
              "      <td>1.019300</td>\n",
              "    </tr>\n",
              "    <tr>\n",
              "      <td>40</td>\n",
              "      <td>0.826400</td>\n",
              "    </tr>\n",
              "    <tr>\n",
              "      <td>41</td>\n",
              "      <td>0.572300</td>\n",
              "    </tr>\n",
              "    <tr>\n",
              "      <td>42</td>\n",
              "      <td>0.851300</td>\n",
              "    </tr>\n",
              "    <tr>\n",
              "      <td>43</td>\n",
              "      <td>0.569000</td>\n",
              "    </tr>\n",
              "    <tr>\n",
              "      <td>44</td>\n",
              "      <td>0.969000</td>\n",
              "    </tr>\n",
              "    <tr>\n",
              "      <td>45</td>\n",
              "      <td>0.993700</td>\n",
              "    </tr>\n",
              "    <tr>\n",
              "      <td>46</td>\n",
              "      <td>0.856300</td>\n",
              "    </tr>\n",
              "    <tr>\n",
              "      <td>47</td>\n",
              "      <td>0.523800</td>\n",
              "    </tr>\n",
              "    <tr>\n",
              "      <td>48</td>\n",
              "      <td>0.757700</td>\n",
              "    </tr>\n",
              "    <tr>\n",
              "      <td>49</td>\n",
              "      <td>0.503300</td>\n",
              "    </tr>\n",
              "    <tr>\n",
              "      <td>50</td>\n",
              "      <td>0.846100</td>\n",
              "    </tr>\n",
              "  </tbody>\n",
              "</table><p>"
            ],
            "text/plain": [
              "<IPython.core.display.HTML object>"
            ]
          },
          "metadata": {},
          "output_type": "display_data"
        },
        {
          "data": {
            "text/plain": [
              "TrainOutput(global_step=50, training_loss=3.9109704804420473, metrics={'train_runtime': 392.2581, 'train_samples_per_second': 0.51, 'train_steps_per_second': 0.127, 'total_flos': 2500486653542400.0, 'train_loss': 3.9109704804420473})"
            ]
          },
          "execution_count": 38,
          "metadata": {},
          "output_type": "execute_result"
        }
      ],
      "source": [
        "tuner.train()"
      ]
    },
    {
      "cell_type": "code",
      "execution_count": 44,
      "id": "pno2OmpnFGia",
      "metadata": {
        "colab": {
          "base_uri": "https://localhost:8080/"
        },
        "id": "pno2OmpnFGia",
        "outputId": "29a85fc6-ba6d-4915-ca98-d3025e493f0b"
      },
      "outputs": [
        {
          "name": "stderr",
          "output_type": "stream",
          "text": [
            "<ipython-input-44-b0891a5e8b9b>:13: FutureWarning: `torch.cuda.amp.autocast(args...)` is deprecated. Please use `torch.amp.autocast('cuda', args...)` instead.\n",
            "  with torch.cuda.amp.autocast():\n"
          ]
        },
        {
          "name": "stdout",
          "output_type": "stream",
          "text": [
            " What are TextSplitters in langchain?\n",
            "\n",
            "TextSplitters are a type of transformer in LangChain that can be used to split a text into smaller pieces. This can be useful for tasks such as tokenization, segmentation, or chunking.\n",
            "\n",
            "TextSplitters can be used in a variety of ways, such as:\n",
            "\n",
            "* Tokenizing a text into individual words or tokens.\n",
            "* Segmenting a text into paragraphs or sentences.\n",
            "* Chunking a text into smaller pieces, such as paragraphs or sentences.\n",
            "\n",
            "TextSplitters can be created using the LangChain library, which provides a variety of tools for working with text.\n",
            "\n",
            "Here is an example of how to use a TextSplitter to split a text into individual words:\n",
            "\n",
            "import langchain3\n",
            "from langchain3.transformers import TextSplitter\n",
            "\n",
            "text = \"This is a sample text.\"\n",
            "\n",
            "splitter = TextSplitter()\n",
            "words = splitter.split(text)\n",
            "\n",
            "print(words)\n",
            "# ['This', 'is', 'a', 'sample',\n"
          ]
        }
      ],
      "source": [
        "import torch\n",
        "\n",
        "text = \" What are TextSplitters in langchain\"\n",
        "device = 'cuda:0'\n",
        "\n",
        "inputs = tokenizer(text, return_tensors=\"pt\")\n",
        "\n",
        "for k, v in inputs.items():\n",
        "    if v.dtype == torch.float:\n",
        "        inputs[k] = v.half().to(device)\n",
        "    else:\n",
        "        inputs[k] = v.to(device)\n",
        "with torch.cuda.amp.autocast():\n",
        "    outputs = model.generate(**inputs, max_new_tokens=200)\n",
        "\n",
        "print(tokenizer.decode(outputs[0], skip_special_tokens=True))\n"
      ]
    },
    {
      "cell_type": "code",
      "execution_count": null,
      "id": "PwsOIynaL7sg",
      "metadata": {
        "id": "PwsOIynaL7sg"
      },
      "outputs": [],
      "source": []
    }
  ],
  "metadata": {
    "accelerator": "GPU",
    "colab": {
      "gpuType": "T4",
      "provenance": []
    },
    "kernelspec": {
      "display_name": "fine-tuning",
      "language": "python",
      "name": "python3"
    },
    "language_info": {
      "codemirror_mode": {
        "name": "ipython",
        "version": 3
      },
      "file_extension": ".py",
      "mimetype": "text/x-python",
      "name": "python",
      "nbconvert_exporter": "python",
      "pygments_lexer": "ipython3",
      "version": "3.11.9"
    },
    "widgets": {
      "application/vnd.jupyter.widget-state+json": {
        "0315102747954381ba26930e72a2ef57": {
          "model_module": "@jupyter-widgets/controls",
          "model_module_version": "1.5.0",
          "model_name": "DescriptionStyleModel",
          "state": {
            "_model_module": "@jupyter-widgets/controls",
            "_model_module_version": "1.5.0",
            "_model_name": "DescriptionStyleModel",
            "_view_count": null,
            "_view_module": "@jupyter-widgets/base",
            "_view_module_version": "1.2.0",
            "_view_name": "StyleView",
            "description_width": ""
          }
        },
        "07bbe108033a43ef82cddd64514c36c2": {
          "model_module": "@jupyter-widgets/base",
          "model_module_version": "1.2.0",
          "model_name": "LayoutModel",
          "state": {
            "_model_module": "@jupyter-widgets/base",
            "_model_module_version": "1.2.0",
            "_model_name": "LayoutModel",
            "_view_count": null,
            "_view_module": "@jupyter-widgets/base",
            "_view_module_version": "1.2.0",
            "_view_name": "LayoutView",
            "align_content": null,
            "align_items": null,
            "align_self": null,
            "border": null,
            "bottom": null,
            "display": null,
            "flex": null,
            "flex_flow": null,
            "grid_area": null,
            "grid_auto_columns": null,
            "grid_auto_flow": null,
            "grid_auto_rows": null,
            "grid_column": null,
            "grid_gap": null,
            "grid_row": null,
            "grid_template_areas": null,
            "grid_template_columns": null,
            "grid_template_rows": null,
            "height": null,
            "justify_content": null,
            "justify_items": null,
            "left": null,
            "margin": null,
            "max_height": null,
            "max_width": null,
            "min_height": null,
            "min_width": null,
            "object_fit": null,
            "object_position": null,
            "order": null,
            "overflow": null,
            "overflow_x": null,
            "overflow_y": null,
            "padding": null,
            "right": null,
            "top": null,
            "visibility": null,
            "width": null
          }
        },
        "1293dca912da4949bd1195d606ec2abf": {
          "model_module": "@jupyter-widgets/controls",
          "model_module_version": "1.5.0",
          "model_name": "HTMLModel",
          "state": {
            "_dom_classes": [],
            "_model_module": "@jupyter-widgets/controls",
            "_model_module_version": "1.5.0",
            "_model_name": "HTMLModel",
            "_view_count": null,
            "_view_module": "@jupyter-widgets/controls",
            "_view_module_version": "1.5.0",
            "_view_name": "HTMLView",
            "description": "",
            "description_tooltip": null,
            "layout": "IPY_MODEL_9f34fbee8dff47eaaa0eaa6dfb4ec5be",
            "placeholder": "​",
            "style": "IPY_MODEL_da5f7a25ccde4ac89f7987f6ac0dde96",
            "value": "Truncating train dataset: 100%"
          }
        },
        "15d93d590a8747cbb2258d222bdd049b": {
          "model_module": "@jupyter-widgets/controls",
          "model_module_version": "1.5.0",
          "model_name": "FloatProgressModel",
          "state": {
            "_dom_classes": [],
            "_model_module": "@jupyter-widgets/controls",
            "_model_module_version": "1.5.0",
            "_model_name": "FloatProgressModel",
            "_view_count": null,
            "_view_module": "@jupyter-widgets/controls",
            "_view_module_version": "1.5.0",
            "_view_name": "ProgressView",
            "bar_style": "success",
            "description": "",
            "description_tooltip": null,
            "layout": "IPY_MODEL_36c3e08b773243aaabdb9300206d59c6",
            "max": 4938,
            "min": 0,
            "orientation": "horizontal",
            "style": "IPY_MODEL_4ea42120514c4773bb19c41d7bd4d8f3",
            "value": 4938
          }
        },
        "165944291497402e8490c06d6af660ec": {
          "model_module": "@jupyter-widgets/controls",
          "model_module_version": "1.5.0",
          "model_name": "HTMLModel",
          "state": {
            "_dom_classes": [],
            "_model_module": "@jupyter-widgets/controls",
            "_model_module_version": "1.5.0",
            "_model_name": "HTMLModel",
            "_view_count": null,
            "_view_module": "@jupyter-widgets/controls",
            "_view_module_version": "1.5.0",
            "_view_name": "HTMLView",
            "description": "",
            "description_tooltip": null,
            "layout": "IPY_MODEL_c65fded3d44c49749e556835c8bcb986",
            "placeholder": "​",
            "style": "IPY_MODEL_0315102747954381ba26930e72a2ef57",
            "value": " 4938/4938 [00:31&lt;00:00, 155.26 examples/s]"
          }
        },
        "1cfcc9f9d97a44d499786194d94ef9e2": {
          "model_module": "@jupyter-widgets/base",
          "model_module_version": "1.2.0",
          "model_name": "LayoutModel",
          "state": {
            "_model_module": "@jupyter-widgets/base",
            "_model_module_version": "1.2.0",
            "_model_name": "LayoutModel",
            "_view_count": null,
            "_view_module": "@jupyter-widgets/base",
            "_view_module_version": "1.2.0",
            "_view_name": "LayoutView",
            "align_content": null,
            "align_items": null,
            "align_self": null,
            "border": null,
            "bottom": null,
            "display": null,
            "flex": null,
            "flex_flow": null,
            "grid_area": null,
            "grid_auto_columns": null,
            "grid_auto_flow": null,
            "grid_auto_rows": null,
            "grid_column": null,
            "grid_gap": null,
            "grid_row": null,
            "grid_template_areas": null,
            "grid_template_columns": null,
            "grid_template_rows": null,
            "height": null,
            "justify_content": null,
            "justify_items": null,
            "left": null,
            "margin": null,
            "max_height": null,
            "max_width": null,
            "min_height": null,
            "min_width": null,
            "object_fit": null,
            "object_position": null,
            "order": null,
            "overflow": null,
            "overflow_x": null,
            "overflow_y": null,
            "padding": null,
            "right": null,
            "top": null,
            "visibility": null,
            "width": null
          }
        },
        "24ff3f05d8514d4a919b2674708889f6": {
          "model_module": "@jupyter-widgets/controls",
          "model_module_version": "1.5.0",
          "model_name": "ProgressStyleModel",
          "state": {
            "_model_module": "@jupyter-widgets/controls",
            "_model_module_version": "1.5.0",
            "_model_name": "ProgressStyleModel",
            "_view_count": null,
            "_view_module": "@jupyter-widgets/base",
            "_view_module_version": "1.2.0",
            "_view_name": "StyleView",
            "bar_color": null,
            "description_width": ""
          }
        },
        "2c161fbff0764fcb9299ce0b90949060": {
          "model_module": "@jupyter-widgets/controls",
          "model_module_version": "1.5.0",
          "model_name": "DescriptionStyleModel",
          "state": {
            "_model_module": "@jupyter-widgets/controls",
            "_model_module_version": "1.5.0",
            "_model_name": "DescriptionStyleModel",
            "_view_count": null,
            "_view_module": "@jupyter-widgets/base",
            "_view_module_version": "1.2.0",
            "_view_name": "StyleView",
            "description_width": ""
          }
        },
        "36c3e08b773243aaabdb9300206d59c6": {
          "model_module": "@jupyter-widgets/base",
          "model_module_version": "1.2.0",
          "model_name": "LayoutModel",
          "state": {
            "_model_module": "@jupyter-widgets/base",
            "_model_module_version": "1.2.0",
            "_model_name": "LayoutModel",
            "_view_count": null,
            "_view_module": "@jupyter-widgets/base",
            "_view_module_version": "1.2.0",
            "_view_name": "LayoutView",
            "align_content": null,
            "align_items": null,
            "align_self": null,
            "border": null,
            "bottom": null,
            "display": null,
            "flex": null,
            "flex_flow": null,
            "grid_area": null,
            "grid_auto_columns": null,
            "grid_auto_flow": null,
            "grid_auto_rows": null,
            "grid_column": null,
            "grid_gap": null,
            "grid_row": null,
            "grid_template_areas": null,
            "grid_template_columns": null,
            "grid_template_rows": null,
            "height": null,
            "justify_content": null,
            "justify_items": null,
            "left": null,
            "margin": null,
            "max_height": null,
            "max_width": null,
            "min_height": null,
            "min_width": null,
            "object_fit": null,
            "object_position": null,
            "order": null,
            "overflow": null,
            "overflow_x": null,
            "overflow_y": null,
            "padding": null,
            "right": null,
            "top": null,
            "visibility": null,
            "width": null
          }
        },
        "479b665c6db740c9a5fa9ae08f7a97e5": {
          "model_module": "@jupyter-widgets/controls",
          "model_module_version": "1.5.0",
          "model_name": "ProgressStyleModel",
          "state": {
            "_model_module": "@jupyter-widgets/controls",
            "_model_module_version": "1.5.0",
            "_model_name": "ProgressStyleModel",
            "_view_count": null,
            "_view_module": "@jupyter-widgets/base",
            "_view_module_version": "1.2.0",
            "_view_name": "StyleView",
            "bar_color": null,
            "description_width": ""
          }
        },
        "4a3d3db22a674bd68406d686d0faa35e": {
          "model_module": "@jupyter-widgets/controls",
          "model_module_version": "1.5.0",
          "model_name": "FloatProgressModel",
          "state": {
            "_dom_classes": [],
            "_model_module": "@jupyter-widgets/controls",
            "_model_module_version": "1.5.0",
            "_model_name": "FloatProgressModel",
            "_view_count": null,
            "_view_module": "@jupyter-widgets/controls",
            "_view_module_version": "1.5.0",
            "_view_name": "ProgressView",
            "bar_style": "success",
            "description": "",
            "description_tooltip": null,
            "layout": "IPY_MODEL_65cd75f251974c9ea48f6d416429eb00",
            "max": 3,
            "min": 0,
            "orientation": "horizontal",
            "style": "IPY_MODEL_479b665c6db740c9a5fa9ae08f7a97e5",
            "value": 3
          }
        },
        "4ea42120514c4773bb19c41d7bd4d8f3": {
          "model_module": "@jupyter-widgets/controls",
          "model_module_version": "1.5.0",
          "model_name": "ProgressStyleModel",
          "state": {
            "_model_module": "@jupyter-widgets/controls",
            "_model_module_version": "1.5.0",
            "_model_name": "ProgressStyleModel",
            "_view_count": null,
            "_view_module": "@jupyter-widgets/base",
            "_view_module_version": "1.2.0",
            "_view_name": "StyleView",
            "bar_color": null,
            "description_width": ""
          }
        },
        "63b0e1043d8145b080f45e346d9e6335": {
          "model_module": "@jupyter-widgets/controls",
          "model_module_version": "1.5.0",
          "model_name": "HTMLModel",
          "state": {
            "_dom_classes": [],
            "_model_module": "@jupyter-widgets/controls",
            "_model_module_version": "1.5.0",
            "_model_name": "HTMLModel",
            "_view_count": null,
            "_view_module": "@jupyter-widgets/controls",
            "_view_module_version": "1.5.0",
            "_view_name": "HTMLView",
            "description": "",
            "description_tooltip": null,
            "layout": "IPY_MODEL_c85ef86589c5419799806a7db906b76d",
            "placeholder": "​",
            "style": "IPY_MODEL_91be89ce63eb4b6abf122511a71146bb",
            "value": " 4938/4938 [00:00&lt;00:00, 30205.35 examples/s]"
          }
        },
        "65cd75f251974c9ea48f6d416429eb00": {
          "model_module": "@jupyter-widgets/base",
          "model_module_version": "1.2.0",
          "model_name": "LayoutModel",
          "state": {
            "_model_module": "@jupyter-widgets/base",
            "_model_module_version": "1.2.0",
            "_model_name": "LayoutModel",
            "_view_count": null,
            "_view_module": "@jupyter-widgets/base",
            "_view_module_version": "1.2.0",
            "_view_name": "LayoutView",
            "align_content": null,
            "align_items": null,
            "align_self": null,
            "border": null,
            "bottom": null,
            "display": null,
            "flex": null,
            "flex_flow": null,
            "grid_area": null,
            "grid_auto_columns": null,
            "grid_auto_flow": null,
            "grid_auto_rows": null,
            "grid_column": null,
            "grid_gap": null,
            "grid_row": null,
            "grid_template_areas": null,
            "grid_template_columns": null,
            "grid_template_rows": null,
            "height": null,
            "justify_content": null,
            "justify_items": null,
            "left": null,
            "margin": null,
            "max_height": null,
            "max_width": null,
            "min_height": null,
            "min_width": null,
            "object_fit": null,
            "object_position": null,
            "order": null,
            "overflow": null,
            "overflow_x": null,
            "overflow_y": null,
            "padding": null,
            "right": null,
            "top": null,
            "visibility": null,
            "width": null
          }
        },
        "6b8bdd03e1ac4c53ab1033ee742c27d5": {
          "model_module": "@jupyter-widgets/controls",
          "model_module_version": "1.5.0",
          "model_name": "HTMLModel",
          "state": {
            "_dom_classes": [],
            "_model_module": "@jupyter-widgets/controls",
            "_model_module_version": "1.5.0",
            "_model_name": "HTMLModel",
            "_view_count": null,
            "_view_module": "@jupyter-widgets/controls",
            "_view_module_version": "1.5.0",
            "_view_name": "HTMLView",
            "description": "",
            "description_tooltip": null,
            "layout": "IPY_MODEL_e4ce6480b528476993031b613cf8e595",
            "placeholder": "​",
            "style": "IPY_MODEL_9fe7be76025a4587aa45e3e3bb4d29d8",
            "value": " 3/3 [00:49&lt;00:00, 14.05s/it]"
          }
        },
        "73d2be36cdb743b2bc037e50f8bc3c65": {
          "model_module": "@jupyter-widgets/controls",
          "model_module_version": "1.5.0",
          "model_name": "HTMLModel",
          "state": {
            "_dom_classes": [],
            "_model_module": "@jupyter-widgets/controls",
            "_model_module_version": "1.5.0",
            "_model_name": "HTMLModel",
            "_view_count": null,
            "_view_module": "@jupyter-widgets/controls",
            "_view_module_version": "1.5.0",
            "_view_name": "HTMLView",
            "description": "",
            "description_tooltip": null,
            "layout": "IPY_MODEL_bec88a64f3fa4a5aa9912ab63d4db7d6",
            "placeholder": "​",
            "style": "IPY_MODEL_2c161fbff0764fcb9299ce0b90949060",
            "value": "Map: 100%"
          }
        },
        "77378dfd97ca4aa28a8d4a382ac09598": {
          "model_module": "@jupyter-widgets/controls",
          "model_module_version": "1.5.0",
          "model_name": "HTMLModel",
          "state": {
            "_dom_classes": [],
            "_model_module": "@jupyter-widgets/controls",
            "_model_module_version": "1.5.0",
            "_model_name": "HTMLModel",
            "_view_count": null,
            "_view_module": "@jupyter-widgets/controls",
            "_view_module_version": "1.5.0",
            "_view_name": "HTMLView",
            "description": "",
            "description_tooltip": null,
            "layout": "IPY_MODEL_07bbe108033a43ef82cddd64514c36c2",
            "placeholder": "​",
            "style": "IPY_MODEL_888b1fd138c442ecb4cfdbc4abfcdf1a",
            "value": "Loading checkpoint shards: 100%"
          }
        },
        "8468e8fb1f8a489c80e30185af341be3": {
          "model_module": "@jupyter-widgets/base",
          "model_module_version": "1.2.0",
          "model_name": "LayoutModel",
          "state": {
            "_model_module": "@jupyter-widgets/base",
            "_model_module_version": "1.2.0",
            "_model_name": "LayoutModel",
            "_view_count": null,
            "_view_module": "@jupyter-widgets/base",
            "_view_module_version": "1.2.0",
            "_view_name": "LayoutView",
            "align_content": null,
            "align_items": null,
            "align_self": null,
            "border": null,
            "bottom": null,
            "display": null,
            "flex": null,
            "flex_flow": null,
            "grid_area": null,
            "grid_auto_columns": null,
            "grid_auto_flow": null,
            "grid_auto_rows": null,
            "grid_column": null,
            "grid_gap": null,
            "grid_row": null,
            "grid_template_areas": null,
            "grid_template_columns": null,
            "grid_template_rows": null,
            "height": null,
            "justify_content": null,
            "justify_items": null,
            "left": null,
            "margin": null,
            "max_height": null,
            "max_width": null,
            "min_height": null,
            "min_width": null,
            "object_fit": null,
            "object_position": null,
            "order": null,
            "overflow": null,
            "overflow_x": null,
            "overflow_y": null,
            "padding": null,
            "right": null,
            "top": null,
            "visibility": null,
            "width": null
          }
        },
        "888b1fd138c442ecb4cfdbc4abfcdf1a": {
          "model_module": "@jupyter-widgets/controls",
          "model_module_version": "1.5.0",
          "model_name": "DescriptionStyleModel",
          "state": {
            "_model_module": "@jupyter-widgets/controls",
            "_model_module_version": "1.5.0",
            "_model_name": "DescriptionStyleModel",
            "_view_count": null,
            "_view_module": "@jupyter-widgets/base",
            "_view_module_version": "1.2.0",
            "_view_name": "StyleView",
            "description_width": ""
          }
        },
        "8a0fa1427a7f464ba951ffdb60fa26b9": {
          "model_module": "@jupyter-widgets/controls",
          "model_module_version": "1.5.0",
          "model_name": "HBoxModel",
          "state": {
            "_dom_classes": [],
            "_model_module": "@jupyter-widgets/controls",
            "_model_module_version": "1.5.0",
            "_model_name": "HBoxModel",
            "_view_count": null,
            "_view_module": "@jupyter-widgets/controls",
            "_view_module_version": "1.5.0",
            "_view_name": "HBoxView",
            "box_style": "",
            "children": [
              "IPY_MODEL_77378dfd97ca4aa28a8d4a382ac09598",
              "IPY_MODEL_4a3d3db22a674bd68406d686d0faa35e",
              "IPY_MODEL_6b8bdd03e1ac4c53ab1033ee742c27d5"
            ],
            "layout": "IPY_MODEL_b2df6a03538f4efe8737a7569c97adbd"
          }
        },
        "91be89ce63eb4b6abf122511a71146bb": {
          "model_module": "@jupyter-widgets/controls",
          "model_module_version": "1.5.0",
          "model_name": "DescriptionStyleModel",
          "state": {
            "_model_module": "@jupyter-widgets/controls",
            "_model_module_version": "1.5.0",
            "_model_name": "DescriptionStyleModel",
            "_view_count": null,
            "_view_module": "@jupyter-widgets/base",
            "_view_module_version": "1.2.0",
            "_view_name": "StyleView",
            "description_width": ""
          }
        },
        "9f34fbee8dff47eaaa0eaa6dfb4ec5be": {
          "model_module": "@jupyter-widgets/base",
          "model_module_version": "1.2.0",
          "model_name": "LayoutModel",
          "state": {
            "_model_module": "@jupyter-widgets/base",
            "_model_module_version": "1.2.0",
            "_model_name": "LayoutModel",
            "_view_count": null,
            "_view_module": "@jupyter-widgets/base",
            "_view_module_version": "1.2.0",
            "_view_name": "LayoutView",
            "align_content": null,
            "align_items": null,
            "align_self": null,
            "border": null,
            "bottom": null,
            "display": null,
            "flex": null,
            "flex_flow": null,
            "grid_area": null,
            "grid_auto_columns": null,
            "grid_auto_flow": null,
            "grid_auto_rows": null,
            "grid_column": null,
            "grid_gap": null,
            "grid_row": null,
            "grid_template_areas": null,
            "grid_template_columns": null,
            "grid_template_rows": null,
            "height": null,
            "justify_content": null,
            "justify_items": null,
            "left": null,
            "margin": null,
            "max_height": null,
            "max_width": null,
            "min_height": null,
            "min_width": null,
            "object_fit": null,
            "object_position": null,
            "order": null,
            "overflow": null,
            "overflow_x": null,
            "overflow_y": null,
            "padding": null,
            "right": null,
            "top": null,
            "visibility": null,
            "width": null
          }
        },
        "9fe7be76025a4587aa45e3e3bb4d29d8": {
          "model_module": "@jupyter-widgets/controls",
          "model_module_version": "1.5.0",
          "model_name": "DescriptionStyleModel",
          "state": {
            "_model_module": "@jupyter-widgets/controls",
            "_model_module_version": "1.5.0",
            "_model_name": "DescriptionStyleModel",
            "_view_count": null,
            "_view_module": "@jupyter-widgets/base",
            "_view_module_version": "1.2.0",
            "_view_name": "StyleView",
            "description_width": ""
          }
        },
        "a3d0fda59e7c4e979fe908d1611efbac": {
          "model_module": "@jupyter-widgets/controls",
          "model_module_version": "1.5.0",
          "model_name": "HBoxModel",
          "state": {
            "_dom_classes": [],
            "_model_module": "@jupyter-widgets/controls",
            "_model_module_version": "1.5.0",
            "_model_name": "HBoxModel",
            "_view_count": null,
            "_view_module": "@jupyter-widgets/controls",
            "_view_module_version": "1.5.0",
            "_view_name": "HBoxView",
            "box_style": "",
            "children": [
              "IPY_MODEL_1293dca912da4949bd1195d606ec2abf",
              "IPY_MODEL_15d93d590a8747cbb2258d222bdd049b",
              "IPY_MODEL_63b0e1043d8145b080f45e346d9e6335"
            ],
            "layout": "IPY_MODEL_8468e8fb1f8a489c80e30185af341be3"
          }
        },
        "b2df6a03538f4efe8737a7569c97adbd": {
          "model_module": "@jupyter-widgets/base",
          "model_module_version": "1.2.0",
          "model_name": "LayoutModel",
          "state": {
            "_model_module": "@jupyter-widgets/base",
            "_model_module_version": "1.2.0",
            "_model_name": "LayoutModel",
            "_view_count": null,
            "_view_module": "@jupyter-widgets/base",
            "_view_module_version": "1.2.0",
            "_view_name": "LayoutView",
            "align_content": null,
            "align_items": null,
            "align_self": null,
            "border": null,
            "bottom": null,
            "display": null,
            "flex": null,
            "flex_flow": null,
            "grid_area": null,
            "grid_auto_columns": null,
            "grid_auto_flow": null,
            "grid_auto_rows": null,
            "grid_column": null,
            "grid_gap": null,
            "grid_row": null,
            "grid_template_areas": null,
            "grid_template_columns": null,
            "grid_template_rows": null,
            "height": null,
            "justify_content": null,
            "justify_items": null,
            "left": null,
            "margin": null,
            "max_height": null,
            "max_width": null,
            "min_height": null,
            "min_width": null,
            "object_fit": null,
            "object_position": null,
            "order": null,
            "overflow": null,
            "overflow_x": null,
            "overflow_y": null,
            "padding": null,
            "right": null,
            "top": null,
            "visibility": null,
            "width": null
          }
        },
        "bec88a64f3fa4a5aa9912ab63d4db7d6": {
          "model_module": "@jupyter-widgets/base",
          "model_module_version": "1.2.0",
          "model_name": "LayoutModel",
          "state": {
            "_model_module": "@jupyter-widgets/base",
            "_model_module_version": "1.2.0",
            "_model_name": "LayoutModel",
            "_view_count": null,
            "_view_module": "@jupyter-widgets/base",
            "_view_module_version": "1.2.0",
            "_view_name": "LayoutView",
            "align_content": null,
            "align_items": null,
            "align_self": null,
            "border": null,
            "bottom": null,
            "display": null,
            "flex": null,
            "flex_flow": null,
            "grid_area": null,
            "grid_auto_columns": null,
            "grid_auto_flow": null,
            "grid_auto_rows": null,
            "grid_column": null,
            "grid_gap": null,
            "grid_row": null,
            "grid_template_areas": null,
            "grid_template_columns": null,
            "grid_template_rows": null,
            "height": null,
            "justify_content": null,
            "justify_items": null,
            "left": null,
            "margin": null,
            "max_height": null,
            "max_width": null,
            "min_height": null,
            "min_width": null,
            "object_fit": null,
            "object_position": null,
            "order": null,
            "overflow": null,
            "overflow_x": null,
            "overflow_y": null,
            "padding": null,
            "right": null,
            "top": null,
            "visibility": null,
            "width": null
          }
        },
        "c65fded3d44c49749e556835c8bcb986": {
          "model_module": "@jupyter-widgets/base",
          "model_module_version": "1.2.0",
          "model_name": "LayoutModel",
          "state": {
            "_model_module": "@jupyter-widgets/base",
            "_model_module_version": "1.2.0",
            "_model_name": "LayoutModel",
            "_view_count": null,
            "_view_module": "@jupyter-widgets/base",
            "_view_module_version": "1.2.0",
            "_view_name": "LayoutView",
            "align_content": null,
            "align_items": null,
            "align_self": null,
            "border": null,
            "bottom": null,
            "display": null,
            "flex": null,
            "flex_flow": null,
            "grid_area": null,
            "grid_auto_columns": null,
            "grid_auto_flow": null,
            "grid_auto_rows": null,
            "grid_column": null,
            "grid_gap": null,
            "grid_row": null,
            "grid_template_areas": null,
            "grid_template_columns": null,
            "grid_template_rows": null,
            "height": null,
            "justify_content": null,
            "justify_items": null,
            "left": null,
            "margin": null,
            "max_height": null,
            "max_width": null,
            "min_height": null,
            "min_width": null,
            "object_fit": null,
            "object_position": null,
            "order": null,
            "overflow": null,
            "overflow_x": null,
            "overflow_y": null,
            "padding": null,
            "right": null,
            "top": null,
            "visibility": null,
            "width": null
          }
        },
        "c85ef86589c5419799806a7db906b76d": {
          "model_module": "@jupyter-widgets/base",
          "model_module_version": "1.2.0",
          "model_name": "LayoutModel",
          "state": {
            "_model_module": "@jupyter-widgets/base",
            "_model_module_version": "1.2.0",
            "_model_name": "LayoutModel",
            "_view_count": null,
            "_view_module": "@jupyter-widgets/base",
            "_view_module_version": "1.2.0",
            "_view_name": "LayoutView",
            "align_content": null,
            "align_items": null,
            "align_self": null,
            "border": null,
            "bottom": null,
            "display": null,
            "flex": null,
            "flex_flow": null,
            "grid_area": null,
            "grid_auto_columns": null,
            "grid_auto_flow": null,
            "grid_auto_rows": null,
            "grid_column": null,
            "grid_gap": null,
            "grid_row": null,
            "grid_template_areas": null,
            "grid_template_columns": null,
            "grid_template_rows": null,
            "height": null,
            "justify_content": null,
            "justify_items": null,
            "left": null,
            "margin": null,
            "max_height": null,
            "max_width": null,
            "min_height": null,
            "min_width": null,
            "object_fit": null,
            "object_position": null,
            "order": null,
            "overflow": null,
            "overflow_x": null,
            "overflow_y": null,
            "padding": null,
            "right": null,
            "top": null,
            "visibility": null,
            "width": null
          }
        },
        "da5f7a25ccde4ac89f7987f6ac0dde96": {
          "model_module": "@jupyter-widgets/controls",
          "model_module_version": "1.5.0",
          "model_name": "DescriptionStyleModel",
          "state": {
            "_model_module": "@jupyter-widgets/controls",
            "_model_module_version": "1.5.0",
            "_model_name": "DescriptionStyleModel",
            "_view_count": null,
            "_view_module": "@jupyter-widgets/base",
            "_view_module_version": "1.2.0",
            "_view_name": "StyleView",
            "description_width": ""
          }
        },
        "e3938ebeac10445f95a8dc1eab3046ea": {
          "model_module": "@jupyter-widgets/controls",
          "model_module_version": "1.5.0",
          "model_name": "HBoxModel",
          "state": {
            "_dom_classes": [],
            "_model_module": "@jupyter-widgets/controls",
            "_model_module_version": "1.5.0",
            "_model_name": "HBoxModel",
            "_view_count": null,
            "_view_module": "@jupyter-widgets/controls",
            "_view_module_version": "1.5.0",
            "_view_name": "HBoxView",
            "box_style": "",
            "children": [
              "IPY_MODEL_73d2be36cdb743b2bc037e50f8bc3c65",
              "IPY_MODEL_efa492b8fe0643428a070bb089e95b9b",
              "IPY_MODEL_165944291497402e8490c06d6af660ec"
            ],
            "layout": "IPY_MODEL_e424a8b7b276470fb641c919f79620a4"
          }
        },
        "e424a8b7b276470fb641c919f79620a4": {
          "model_module": "@jupyter-widgets/base",
          "model_module_version": "1.2.0",
          "model_name": "LayoutModel",
          "state": {
            "_model_module": "@jupyter-widgets/base",
            "_model_module_version": "1.2.0",
            "_model_name": "LayoutModel",
            "_view_count": null,
            "_view_module": "@jupyter-widgets/base",
            "_view_module_version": "1.2.0",
            "_view_name": "LayoutView",
            "align_content": null,
            "align_items": null,
            "align_self": null,
            "border": null,
            "bottom": null,
            "display": null,
            "flex": null,
            "flex_flow": null,
            "grid_area": null,
            "grid_auto_columns": null,
            "grid_auto_flow": null,
            "grid_auto_rows": null,
            "grid_column": null,
            "grid_gap": null,
            "grid_row": null,
            "grid_template_areas": null,
            "grid_template_columns": null,
            "grid_template_rows": null,
            "height": null,
            "justify_content": null,
            "justify_items": null,
            "left": null,
            "margin": null,
            "max_height": null,
            "max_width": null,
            "min_height": null,
            "min_width": null,
            "object_fit": null,
            "object_position": null,
            "order": null,
            "overflow": null,
            "overflow_x": null,
            "overflow_y": null,
            "padding": null,
            "right": null,
            "top": null,
            "visibility": null,
            "width": null
          }
        },
        "e4ce6480b528476993031b613cf8e595": {
          "model_module": "@jupyter-widgets/base",
          "model_module_version": "1.2.0",
          "model_name": "LayoutModel",
          "state": {
            "_model_module": "@jupyter-widgets/base",
            "_model_module_version": "1.2.0",
            "_model_name": "LayoutModel",
            "_view_count": null,
            "_view_module": "@jupyter-widgets/base",
            "_view_module_version": "1.2.0",
            "_view_name": "LayoutView",
            "align_content": null,
            "align_items": null,
            "align_self": null,
            "border": null,
            "bottom": null,
            "display": null,
            "flex": null,
            "flex_flow": null,
            "grid_area": null,
            "grid_auto_columns": null,
            "grid_auto_flow": null,
            "grid_auto_rows": null,
            "grid_column": null,
            "grid_gap": null,
            "grid_row": null,
            "grid_template_areas": null,
            "grid_template_columns": null,
            "grid_template_rows": null,
            "height": null,
            "justify_content": null,
            "justify_items": null,
            "left": null,
            "margin": null,
            "max_height": null,
            "max_width": null,
            "min_height": null,
            "min_width": null,
            "object_fit": null,
            "object_position": null,
            "order": null,
            "overflow": null,
            "overflow_x": null,
            "overflow_y": null,
            "padding": null,
            "right": null,
            "top": null,
            "visibility": null,
            "width": null
          }
        },
        "efa492b8fe0643428a070bb089e95b9b": {
          "model_module": "@jupyter-widgets/controls",
          "model_module_version": "1.5.0",
          "model_name": "FloatProgressModel",
          "state": {
            "_dom_classes": [],
            "_model_module": "@jupyter-widgets/controls",
            "_model_module_version": "1.5.0",
            "_model_name": "FloatProgressModel",
            "_view_count": null,
            "_view_module": "@jupyter-widgets/controls",
            "_view_module_version": "1.5.0",
            "_view_name": "ProgressView",
            "bar_style": "success",
            "description": "",
            "description_tooltip": null,
            "layout": "IPY_MODEL_1cfcc9f9d97a44d499786194d94ef9e2",
            "max": 4938,
            "min": 0,
            "orientation": "horizontal",
            "style": "IPY_MODEL_24ff3f05d8514d4a919b2674708889f6",
            "value": 4938
          }
        }
      }
    }
  },
  "nbformat": 4,
  "nbformat_minor": 5
}
